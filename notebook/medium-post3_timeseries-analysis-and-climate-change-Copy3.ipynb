{
 "cells": [
  {
   "cell_type": "markdown",
   "metadata": {},
   "source": [
    "# Cambio Climático através de los años"
   ]
  },
  {
   "cell_type": "markdown",
   "metadata": {},
   "source": [
    "## Instalar dependencias"
   ]
  },
  {
   "cell_type": "code",
   "execution_count": 1,
   "metadata": {
    "codeCollapsed": false,
    "hiddenCell": true
   },
   "outputs": [
    {
     "name": "stdout",
     "output_type": "stream",
     "text": [
      "Requirement already satisfied: fbprophet in /usr/local/envs/py3env/lib/python3.5/site-packages (0.5)\n",
      "Requirement already satisfied: Cython>=0.22 in /usr/local/envs/py3env/lib/python3.5/site-packages (from fbprophet) (0.29.13)\n",
      "Requirement already satisfied: pystan>=2.14 in /usr/local/envs/py3env/lib/python3.5/site-packages (from fbprophet) (2.19.0.0)\n",
      "Requirement already satisfied: numpy>=1.10.0 in /usr/local/envs/py3env/lib/python3.5/site-packages (from fbprophet) (1.14.0)\n",
      "Requirement already satisfied: pandas>=0.23.4 in /usr/local/envs/py3env/lib/python3.5/site-packages (from fbprophet) (0.25.1)\n",
      "Requirement already satisfied: matplotlib>=2.0.0 in /usr/local/envs/py3env/lib/python3.5/site-packages (from fbprophet) (2.1.2)\n",
      "Requirement already satisfied: lunardate>=0.1.5 in /usr/local/envs/py3env/lib/python3.5/site-packages (from fbprophet) (0.2.0)\n",
      "Requirement already satisfied: convertdate>=2.1.2 in /usr/local/envs/py3env/lib/python3.5/site-packages (from fbprophet) (2.1.3)\n",
      "Requirement already satisfied: holidays>=0.9.5 in /usr/local/envs/py3env/lib/python3.5/site-packages (from fbprophet) (0.9.11)\n",
      "Requirement already satisfied: setuptools-git>=1.2 in /usr/local/envs/py3env/lib/python3.5/site-packages (from fbprophet) (1.2)\n",
      "Requirement already satisfied: pytz>=2017.2 in /usr/local/envs/py3env/lib/python3.5/site-packages (from pandas>=0.23.4->fbprophet) (2018.4)\n",
      "Requirement already satisfied: python-dateutil>=2.6.1 in /usr/local/envs/py3env/lib/python3.5/site-packages (from pandas>=0.23.4->fbprophet) (2.8.0)\n",
      "Requirement already satisfied: six>=1.10 in /usr/local/envs/py3env/lib/python3.5/site-packages (from matplotlib>=2.0.0->fbprophet) (1.10.0)\n",
      "Requirement already satisfied: cycler>=0.10 in /usr/local/envs/py3env/lib/python3.5/site-packages (from matplotlib>=2.0.0->fbprophet) (0.10.0)\n",
      "Requirement already satisfied: pyparsing!=2.0.4,!=2.1.2,!=2.1.6,>=2.0.1 in /usr/local/envs/py3env/lib/python3.5/site-packages (from matplotlib>=2.0.0->fbprophet) (2.4.0)\n",
      "Requirement already satisfied: ephem<3.8,>=3.7.5.3 in /usr/local/envs/py3env/lib/python3.5/site-packages (from convertdate>=2.1.2->fbprophet) (3.7.7.0)\n",
      "Collecting plotly==4.0.0\n",
      "  Using cached https://files.pythonhosted.org/packages/58/f3/a49d3281cc7275164ecf89ad3497556b11d9661faa119becdf7f9d3b2125/plotly-4.0.0-py2.py3-none-any.whl\n",
      "Requirement already satisfied, skipping upgrade: retrying>=1.3.3 in /usr/local/envs/py3env/lib/python3.5/site-packages (from plotly==4.0.0) (1.3.3)\n",
      "Requirement already satisfied, skipping upgrade: six in /usr/local/envs/py3env/lib/python3.5/site-packages (from plotly==4.0.0) (1.10.0)\n",
      "Installing collected packages: plotly\n",
      "  Found existing installation: plotly 4.1.1\n",
      "    Uninstalling plotly-4.1.1:\n",
      "      Successfully uninstalled plotly-4.1.1\n",
      "Successfully installed plotly-4.0.0\n",
      "Requirement already satisfied: cufflinks==0.16 in /usr/local/envs/py3env/lib/python3.5/site-packages (0.16)\n",
      "Requirement already satisfied: numpy>=1.9.2 in /usr/local/envs/py3env/lib/python3.5/site-packages (from cufflinks==0.16) (1.14.0)\n",
      "Requirement already satisfied: pandas>=0.19.2 in /usr/local/envs/py3env/lib/python3.5/site-packages (from cufflinks==0.16) (0.25.1)\n",
      "Collecting plotly<4.0.0a0,>=3.0.0 (from cufflinks==0.16)\n",
      "  Using cached https://files.pythonhosted.org/packages/ff/75/3982bac5076d0ce6d23103c03840fcaec90c533409f9d82c19f54512a38a/plotly-3.10.0-py2.py3-none-any.whl\n",
      "Requirement already satisfied: colorlover>=0.2.1 in /usr/local/envs/py3env/lib/python3.5/site-packages (from cufflinks==0.16) (0.3.0)\n",
      "Requirement already satisfied: ipython>=5.3.0 in /usr/local/envs/py3env/lib/python3.5/site-packages (from cufflinks==0.16) (6.5.0)\n",
      "Requirement already satisfied: six>=1.9.0 in /usr/local/envs/py3env/lib/python3.5/site-packages (from cufflinks==0.16) (1.10.0)\n",
      "Requirement already satisfied: setuptools>=34.4.1 in /usr/local/envs/py3env/lib/python3.5/site-packages (from cufflinks==0.16) (40.2.0)\n",
      "Requirement already satisfied: ipywidgets>=7.0.0 in /usr/local/envs/py3env/lib/python3.5/site-packages (from cufflinks==0.16) (7.2.1)\n",
      "Requirement already satisfied: pytz>=2017.2 in /usr/local/envs/py3env/lib/python3.5/site-packages (from pandas>=0.19.2->cufflinks==0.16) (2018.4)\n",
      "Requirement already satisfied: python-dateutil>=2.6.1 in /usr/local/envs/py3env/lib/python3.5/site-packages (from pandas>=0.19.2->cufflinks==0.16) (2.8.0)\n",
      "Requirement already satisfied: retrying>=1.3.3 in /usr/local/envs/py3env/lib/python3.5/site-packages (from plotly<4.0.0a0,>=3.0.0->cufflinks==0.16) (1.3.3)\n",
      "Requirement already satisfied: requests in /usr/local/envs/py3env/lib/python3.5/site-packages (from plotly<4.0.0a0,>=3.0.0->cufflinks==0.16) (2.18.4)\n",
      "Requirement already satisfied: nbformat>=4.2 in /usr/local/envs/py3env/lib/python3.5/site-packages (from plotly<4.0.0a0,>=3.0.0->cufflinks==0.16) (4.4.0)\n",
      "Requirement already satisfied: decorator>=4.0.6 in /usr/local/envs/py3env/lib/python3.5/site-packages (from plotly<4.0.0a0,>=3.0.0->cufflinks==0.16) (4.4.0)\n",
      "Requirement already satisfied: jedi>=0.10 in /usr/local/envs/py3env/lib/python3.5/site-packages (from ipython>=5.3.0->cufflinks==0.16) (0.12.1)\n",
      "Requirement already satisfied: backcall in /usr/local/envs/py3env/lib/python3.5/site-packages (from ipython>=5.3.0->cufflinks==0.16) (0.1.0)\n",
      "Requirement already satisfied: prompt-toolkit<2.0.0,>=1.0.15 in /usr/local/envs/py3env/lib/python3.5/site-packages (from ipython>=5.3.0->cufflinks==0.16) (1.0.15)\n",
      "Requirement already satisfied: pexpect; sys_platform != \"win32\" in /usr/local/envs/py3env/lib/python3.5/site-packages (from ipython>=5.3.0->cufflinks==0.16) (4.6.0)\n",
      "Requirement already satisfied: traitlets>=4.2 in /usr/local/envs/py3env/lib/python3.5/site-packages (from ipython>=5.3.0->cufflinks==0.16) (4.3.2)\n",
      "Requirement already satisfied: pygments in /usr/local/envs/py3env/lib/python3.5/site-packages (from ipython>=5.3.0->cufflinks==0.16) (2.1.3)\n",
      "Requirement already satisfied: simplegeneric>0.8 in /usr/local/envs/py3env/lib/python3.5/site-packages (from ipython>=5.3.0->cufflinks==0.16) (0.8.1)\n",
      "Requirement already satisfied: pickleshare in /usr/local/envs/py3env/lib/python3.5/site-packages (from ipython>=5.3.0->cufflinks==0.16) (0.7.4)\n",
      "Requirement already satisfied: ipykernel>=4.5.1 in /usr/local/envs/py3env/lib/python3.5/site-packages (from ipywidgets>=7.0.0->cufflinks==0.16) (4.8.2)\n",
      "Requirement already satisfied: widgetsnbextension~=3.2.0 in /usr/local/envs/py3env/lib/python3.5/site-packages (from ipywidgets>=7.0.0->cufflinks==0.16) (3.2.1)\n",
      "Requirement already satisfied: chardet<3.1.0,>=3.0.2 in /usr/local/envs/py3env/lib/python3.5/site-packages (from requests->plotly<4.0.0a0,>=3.0.0->cufflinks==0.16) (3.0.4)\n",
      "Requirement already satisfied: idna<2.7,>=2.5 in /usr/local/envs/py3env/lib/python3.5/site-packages (from requests->plotly<4.0.0a0,>=3.0.0->cufflinks==0.16) (2.6)\n",
      "Requirement already satisfied: urllib3<1.23,>=1.21.1 in /usr/local/envs/py3env/lib/python3.5/site-packages (from requests->plotly<4.0.0a0,>=3.0.0->cufflinks==0.16) (1.22)\n",
      "Requirement already satisfied: certifi>=2017.4.17 in /usr/local/envs/py3env/lib/python3.5/site-packages (from requests->plotly<4.0.0a0,>=3.0.0->cufflinks==0.16) (2018.8.24)\n",
      "Requirement already satisfied: ipython_genutils in /usr/local/envs/py3env/lib/python3.5/site-packages (from nbformat>=4.2->plotly<4.0.0a0,>=3.0.0->cufflinks==0.16) (0.2.0)\n",
      "Requirement already satisfied: jsonschema!=2.5.0,>=2.4 in /usr/local/envs/py3env/lib/python3.5/site-packages (from nbformat>=4.2->plotly<4.0.0a0,>=3.0.0->cufflinks==0.16) (2.6.0)\n",
      "Requirement already satisfied: jupyter_core in /usr/local/envs/py3env/lib/python3.5/site-packages (from nbformat>=4.2->plotly<4.0.0a0,>=3.0.0->cufflinks==0.16) (4.4.0)\n",
      "Requirement already satisfied: parso>=0.3.0 in /usr/local/envs/py3env/lib/python3.5/site-packages (from jedi>=0.10->ipython>=5.3.0->cufflinks==0.16) (0.4.0)\n",
      "Requirement already satisfied: wcwidth in /usr/local/envs/py3env/lib/python3.5/site-packages (from prompt-toolkit<2.0.0,>=1.0.15->ipython>=5.3.0->cufflinks==0.16) (0.1.7)\n",
      "Requirement already satisfied: ptyprocess>=0.5 in /usr/local/envs/py3env/lib/python3.5/site-packages (from pexpect; sys_platform != \"win32\"->ipython>=5.3.0->cufflinks==0.16) (0.6.0)\n",
      "Requirement already satisfied: jupyter_client in /usr/local/envs/py3env/lib/python3.5/site-packages (from ipykernel>=4.5.1->ipywidgets>=7.0.0->cufflinks==0.16) (5.2.3)\n",
      "Requirement already satisfied: tornado>=4.0 in /usr/local/envs/py3env/lib/python3.5/site-packages (from ipykernel>=4.5.1->ipywidgets>=7.0.0->cufflinks==0.16) (4.5.1)\n",
      "Requirement already satisfied: notebook>=4.4.1 in /usr/local/envs/py3env/lib/python3.5/site-packages (from widgetsnbextension~=3.2.0->ipywidgets>=7.0.0->cufflinks==0.16) (5.6.0)\n",
      "Requirement already satisfied: pyzmq>=13 in /usr/local/envs/py3env/lib/python3.5/site-packages (from jupyter_client->ipykernel>=4.5.1->ipywidgets>=7.0.0->cufflinks==0.16) (17.1.0)\n",
      "Requirement already satisfied: Send2Trash in /usr/local/envs/py3env/lib/python3.5/site-packages (from notebook>=4.4.1->widgetsnbextension~=3.2.0->ipywidgets>=7.0.0->cufflinks==0.16) (1.5.0)\n",
      "Requirement already satisfied: nbconvert in /usr/local/envs/py3env/lib/python3.5/site-packages (from notebook>=4.4.1->widgetsnbextension~=3.2.0->ipywidgets>=7.0.0->cufflinks==0.16) (5.5.0)\n",
      "Requirement already satisfied: prometheus-client in /usr/local/envs/py3env/lib/python3.5/site-packages (from notebook>=4.4.1->widgetsnbextension~=3.2.0->ipywidgets>=7.0.0->cufflinks==0.16) (0.3.1)\n",
      "Requirement already satisfied: jinja2 in /usr/local/envs/py3env/lib/python3.5/site-packages (from notebook>=4.4.1->widgetsnbextension~=3.2.0->ipywidgets>=7.0.0->cufflinks==0.16) (2.8)\n",
      "Requirement already satisfied: terminado>=0.8.1 in /usr/local/envs/py3env/lib/python3.5/site-packages (from notebook>=4.4.1->widgetsnbextension~=3.2.0->ipywidgets>=7.0.0->cufflinks==0.16) (0.8.1)\n",
      "Requirement already satisfied: pandocfilters>=1.4.1 in /usr/local/envs/py3env/lib/python3.5/site-packages (from nbconvert->notebook>=4.4.1->widgetsnbextension~=3.2.0->ipywidgets>=7.0.0->cufflinks==0.16) (1.4.2)\n",
      "Requirement already satisfied: defusedxml in /usr/local/envs/py3env/lib/python3.5/site-packages (from nbconvert->notebook>=4.4.1->widgetsnbextension~=3.2.0->ipywidgets>=7.0.0->cufflinks==0.16) (0.6.0)\n",
      "Requirement already satisfied: mistune>=0.8.1 in /usr/local/envs/py3env/lib/python3.5/site-packages (from nbconvert->notebook>=4.4.1->widgetsnbextension~=3.2.0->ipywidgets>=7.0.0->cufflinks==0.16) (0.8.3)\n",
      "Requirement already satisfied: testpath in /usr/local/envs/py3env/lib/python3.5/site-packages (from nbconvert->notebook>=4.4.1->widgetsnbextension~=3.2.0->ipywidgets>=7.0.0->cufflinks==0.16) (0.3.1)\n",
      "Requirement already satisfied: entrypoints>=0.2.2 in /usr/local/envs/py3env/lib/python3.5/site-packages (from nbconvert->notebook>=4.4.1->widgetsnbextension~=3.2.0->ipywidgets>=7.0.0->cufflinks==0.16) (0.2.3)\n",
      "Requirement already satisfied: bleach in /usr/local/envs/py3env/lib/python3.5/site-packages (from nbconvert->notebook>=4.4.1->widgetsnbextension~=3.2.0->ipywidgets>=7.0.0->cufflinks==0.16) (2.1.2)\n",
      "Requirement already satisfied: MarkupSafe in /usr/local/envs/py3env/lib/python3.5/site-packages (from jinja2->notebook>=4.4.1->widgetsnbextension~=3.2.0->ipywidgets>=7.0.0->cufflinks==0.16) (1.0)\n",
      "Requirement already satisfied: html5lib!=1.0b1,!=1.0b2,!=1.0b3,!=1.0b4,!=1.0b5,!=1.0b6,!=1.0b7,!=1.0b8,>=0.99999999pre in /usr/local/envs/py3env/lib/python3.5/site-packages (from bleach->nbconvert->notebook>=4.4.1->widgetsnbextension~=3.2.0->ipywidgets>=7.0.0->cufflinks==0.16) (1.0.1)\n",
      "Requirement already satisfied: webencodings in /usr/local/envs/py3env/lib/python3.5/site-packages (from html5lib!=1.0b1,!=1.0b2,!=1.0b3,!=1.0b4,!=1.0b5,!=1.0b6,!=1.0b7,!=1.0b8,>=0.99999999pre->bleach->nbconvert->notebook>=4.4.1->widgetsnbextension~=3.2.0->ipywidgets>=7.0.0->cufflinks==0.16) (0.5.1)\n",
      "Installing collected packages: plotly\n",
      "  Found existing installation: plotly 4.0.0\n",
      "    Uninstalling plotly-4.0.0:\n",
      "      Successfully uninstalled plotly-4.0.0\n",
      "Successfully installed plotly-3.10.0\n"
     ]
    },
    {
     "name": "stderr",
     "output_type": "stream",
     "text": [
      "cufflinks 0.16 has requirement plotly<4.0.0a0,>=3.0.0, but you'll have plotly 4.0.0 which is incompatible.\n",
      "plotly-express 0.4.1 has requirement plotly>=4.1.0, but you'll have plotly 4.0.0 which is incompatible.\n",
      "plotly-express 0.4.1 has requirement plotly>=4.1.0, but you'll have plotly 3.10.0 which is incompatible.\n"
     ]
    }
   ],
   "source": [
    "%bash\n",
    "pip install fbprophet\n",
    "pip install plotly==4.0.0 --upgrade\n",
    "pip install cufflinks==0.16"
   ]
  },
  {
   "cell_type": "markdown",
   "metadata": {},
   "source": [
    "## Aquí resetear la sesión"
   ]
  },
  {
   "cell_type": "code",
   "execution_count": 4,
   "metadata": {
    "codeCollapsed": false,
    "hiddenCell": true
   },
   "outputs": [
    {
     "data": {
      "text/html": [
       "        <script type=\"text/javascript\">\n",
       "        window.PlotlyConfig = {MathJaxConfig: 'local'};\n",
       "        if (window.MathJax) {MathJax.Hub.Config({SVG: {font: \"STIX-Web\"}});}\n",
       "        if (typeof require !== 'undefined') {\n",
       "        require.undef(\"plotly\");\n",
       "        requirejs.config({\n",
       "            paths: {\n",
       "                'plotly': ['https://cdn.plot.ly/plotly-latest.min']\n",
       "            }\n",
       "        });\n",
       "        require(['plotly'], function(Plotly) {\n",
       "            window._Plotly = Plotly;\n",
       "        });\n",
       "        }\n",
       "        </script>\n",
       "        "
      ]
     },
     "metadata": {},
     "output_type": "display_data"
    },
    {
     "data": {
      "text/html": [
       "        <script type=\"text/javascript\">\n",
       "        window.PlotlyConfig = {MathJaxConfig: 'local'};\n",
       "        if (window.MathJax) {MathJax.Hub.Config({SVG: {font: \"STIX-Web\"}});}\n",
       "        if (typeof require !== 'undefined') {\n",
       "        require.undef(\"plotly\");\n",
       "        requirejs.config({\n",
       "            paths: {\n",
       "                'plotly': ['https://cdn.plot.ly/plotly-latest.min']\n",
       "            }\n",
       "        });\n",
       "        require(['plotly'], function(Plotly) {\n",
       "            window._Plotly = Plotly;\n",
       "        });\n",
       "        }\n",
       "        </script>\n",
       "        "
      ]
     },
     "metadata": {},
     "output_type": "display_data"
    }
   ],
   "source": [
    "import pandas as pd\n",
    "import numpy as np\n",
    "import calendar\n",
    "from datetime import datetime\n",
    "import matplotlib.pyplot as plt\n",
    "%matplotlib inline\n",
    "\n",
    "# Facebook's Prophet forecasting library\n",
    "from fbprophet import Prophet\n",
    "\n",
    "# Standard plotly imports\n",
    "import plotly.plotly as py\n",
    "import plotly.graph_objs as go\n",
    "from plotly.offline import iplot, init_notebook_mode\n",
    "# Using plotly + cufflinks in offline mode\n",
    "import cufflinks\n",
    "cufflinks.go_offline(connected=True)\n",
    "init_notebook_mode(connected=True)"
   ]
  },
  {
   "cell_type": "markdown",
   "metadata": {},
   "source": [
    "# Cargando Datasets"
   ]
  },
  {
   "cell_type": "code",
   "execution_count": 5,
   "metadata": {},
   "outputs": [],
   "source": [
    "# Read in the raw temperature and emissions datasets (they are in CSV format) \n",
    "raw_t = pd.read_csv('../raw_data/GLB.Ts+dSST.csv', skiprows=1)\n",
    "raw_e = pd.read_csv('../raw_data/API_EN.ATM.CO2E.PC_DS2_en_csv_v2_10515380/API_EN.ATM.CO2E.PC_DS2_en_csv_v2_10515380.csv', skiprows=3)"
   ]
  },
  {
   "cell_type": "markdown",
   "metadata": {},
   "source": [
    "# Construyendo el dataset de temperaturas "
   ]
  },
  {
   "cell_type": "code",
   "execution_count": 6,
   "metadata": {
    "codeCollapsed": false
   },
   "outputs": [],
   "source": [
    "date_rng = pd.date_range(start='1/1/1880', end='1/03/2019', freq='M')\n",
    "\n",
    "type(date_rng[0])\n",
    "t = pd.DataFrame(date_rng, columns=['date'])\n",
    "t['Avg_Anomaly_deg_C'] = None\n",
    "t.set_index('date', inplace=True)"
   ]
  },
  {
   "cell_type": "code",
   "execution_count": 7,
   "metadata": {
    "codeCollapsed": false
   },
   "outputs": [],
   "source": [
    "# We only want the monthly data, lets only select that and leave out the seasonal columns \n",
    "raw_t = raw_t.iloc[:,:13]"
   ]
  },
  {
   "cell_type": "markdown",
   "metadata": {},
   "source": [
    " # Se extrae las temperaturas por año"
   ]
  },
  {
   "cell_type": "code",
   "execution_count": 8,
   "metadata": {
    "codeCollapsed": false
   },
   "outputs": [],
   "source": [
    "# Import relevant libraries\n",
    "import calendar\n",
    "from datetime import datetime\n",
    "\n",
    "# Function definition\n",
    "def populate_df_with_anomolies_from_row(row):\n",
    "    year = row['Year']\n",
    "    # Anomaly values (they seem to be a mixture of strings and floats)\n",
    "    monthly_anomolies = row.iloc[1:]\n",
    "    # Abbreviated month names (index names)\n",
    "    months = monthly_anomolies.index\n",
    "    for month in monthly_anomolies.index:\n",
    "        # Get the last day for each month \n",
    "        last_day = calendar.monthrange(year,datetime.strptime(month, '%b').month)[1]\n",
    "        # construct the index with which we can reference our new DataFrame (to populate) \n",
    "       \n",
    "        date_index = datetime.strptime(\"{} {} {}\".format(year, month, last_day), '%Y %b %d')\n",
    "        # Populate / set value @ above index, to anomaly value\n",
    "        t.loc[date_index] = monthly_anomolies[month]\n",
    "\n",
    "# Apply function to each row of raw data \n",
    "_ = raw_t.apply(lambda row: populate_df_with_anomolies_from_row(row), axis=1)\n",
    "\n",
    "# Show the first few elements of our newly populated DataFrame\n",
    "#t.head()"
   ]
  },
  {
   "cell_type": "markdown",
   "metadata": {},
   "source": [
    " # Se transforman los números a decimal, y se completa con NaN cualquier dato faltante"
   ]
  },
  {
   "cell_type": "code",
   "execution_count": 9,
   "metadata": {
    "codeCollapsed": false
   },
   "outputs": [],
   "source": [
    "# Import Numpy, as library meant for large arrays - we will use it that we \n",
    "import numpy as np\n",
    "\n",
    "# Define function to convert values to floats, and return a 'NaN = Not a Number' if this is not possible\n",
    "def clean_anomaly_value(raw_value):\n",
    "    try:\n",
    "        return float(raw_value)\n",
    "    except:\n",
    "        return np.NaN\n",
    "    \n",
    "# Apply above function to all anomaly values in DataFrame\n",
    "t['Avg_Anomaly_deg_C'] = t['Avg_Anomaly_deg_C'].apply(lambda raw_value: clean_anomaly_value(raw_value))\n",
    "\n",
    "# 'Forward fill' to take care of NaN values\n",
    "t.fillna(method='ffill', inplace=True)\n",
    "\n",
    "# Show the first few elements of our newly cleaned DataFrame\n",
    "#t.head()"
   ]
  },
  {
   "cell_type": "markdown",
   "metadata": {},
   "source": [
    "# Emisiones C02"
   ]
  },
  {
   "cell_type": "markdown",
   "metadata": {},
   "source": [
    "## Emisiones C02 Global entre los años 1960-2018 "
   ]
  },
  {
   "cell_type": "code",
   "execution_count": 10,
   "metadata": {
    "codeCollapsed": false
   },
   "outputs": [],
   "source": [
    "# Define function to pull value from raw data, using DateIndex from new DataFrame row\n",
    "def populate_df(row):\n",
    "    index = str(row['date'].year)\n",
    "    value = raw_e_world.loc[index]\n",
    "    return value\n",
    "  \n",
    "# Select just the co2 emissions for the 'world', and the columns for the years 1960-2018 \n",
    "raw_e_world = raw_e[raw_e['Country Name']=='World'].loc[:,'1960':'2018']\n",
    "\n",
    "# 'Traspose' the resulting slice, making the columns become rows and vice versa\n",
    "raw_e_world = raw_e_world.T\n",
    "raw_e_world.columns = ['value']\n",
    "\n",
    "# Create a new DataFrame with a daterange the same the range for.. \n",
    "# the Temperature data (after resampling to years)\n",
    "date_rng = pd.date_range(start='31/12/1960', end='31/12/2018', freq='y')\n",
    "e = pd.DataFrame(date_rng, columns=['date'])\n",
    "\n",
    "# Populate the new DataFrame using the values from the raw data slice\n",
    "v = e.apply(lambda row: populate_df(row), axis=1)\n",
    "e['Global CO2 Emissions per Capita'] = v\n",
    "e.set_index('date', inplace=True)\n",
    "#e.head()"
   ]
  },
  {
   "cell_type": "markdown",
   "metadata": {},
   "source": [
    "# En Chile"
   ]
  },
  {
   "cell_type": "markdown",
   "metadata": {},
   "source": [
    "### Emisiones C02 en Chile entre los años 1960-2018\n"
   ]
  },
  {
   "cell_type": "code",
   "execution_count": 11,
   "metadata": {
    "codeCollapsed": false
   },
   "outputs": [],
   "source": [
    "# Define function to pull value from raw data, using DateIndex from new DataFrame row\n",
    "def populate_df(row):\n",
    "    index = str(row['date'].year)\n",
    "    value = raw_e_chile.loc[index]\n",
    "    return value\n",
    "  \n",
    "# Select just the co2 emissions for the 'world', and the columns for the years 1960-2018 \n",
    "raw_e_chile = raw_e[raw_e['Country Name']=='Chile'].loc[:,'1960':'2018']\n",
    "\n",
    "# 'Traspose' the resulting slice, making the columns become rows and vice versa\n",
    "raw_e_chile = raw_e_chile.T\n",
    "raw_e_chile.columns = ['value']\n",
    "\n",
    "# Create a new DataFrame with a daterange the same the range for.. \n",
    "# the Temperature data (after resampling to years)\n",
    "date_rng = pd.date_range(start='31/12/1960', end='31/12/2018', freq='y')\n",
    "e_chile = pd.DataFrame(date_rng, columns=['date'])\n",
    "\n",
    "# Populate the new DataFrame using the values from the raw data slice\n",
    "v = e_chile.apply(lambda row: populate_df(row), axis=1)\n",
    "e_chile['Chile CO2 Emissions per Capita'] = v\n",
    "e_chile.set_index('date', inplace=True)\n",
    "#e_chile.head()"
   ]
  },
  {
   "cell_type": "markdown",
   "metadata": {},
   "source": [
    "# ================= Visualizando Temperaturas ========================"
   ]
  },
  {
   "cell_type": "code",
   "execution_count": 17,
   "metadata": {
    "codeCollapsed": false,
    "hiddenCell": true
   },
   "outputs": [
    {
     "data": {
      "text/html": [
       "        <script type=\"text/javascript\">\n",
       "        window.PlotlyConfig = {MathJaxConfig: 'local'};\n",
       "        if (window.MathJax) {MathJax.Hub.Config({SVG: {font: \"STIX-Web\"}});}\n",
       "        if (typeof require !== 'undefined') {\n",
       "        require.undef(\"plotly\");\n",
       "        requirejs.config({\n",
       "            paths: {\n",
       "                'plotly': ['https://cdn.plot.ly/plotly-latest.min']\n",
       "            }\n",
       "        });\n",
       "        require(['plotly'], function(Plotly) {\n",
       "            window._Plotly = Plotly;\n",
       "        });\n",
       "        }\n",
       "        </script>\n",
       "        "
      ]
     },
     "metadata": {},
     "output_type": "display_data"
    }
   ],
   "source": [
    "# Standard plotly imports\n",
    "import chart_studio.plotly as py\n",
    "import plotly.graph_objs as go\n",
    "from plotly.offline import iplot, init_notebook_mode\n",
    "# Using plotly + cufflinks in offline mode\n",
    "#import cufflinks\n",
    "#cufflinks.go_offline(connected=True)\n",
    "init_notebook_mode(connected=True)"
   ]
  },
  {
   "cell_type": "markdown",
   "metadata": {},
   "source": [
    "## Promedio de incremento de temperaturas globales desde 1880"
   ]
  },
  {
   "cell_type": "code",
   "execution_count": 18,
   "metadata": {
    "codeCollapsed": false
   },
   "outputs": [
    {
     "data": {
      "application/vnd.plotly.v1+json": {
       "config": {
        "linkText": "Export to plot.ly",
        "plotlyServerURL": "https://plot.ly",
        "showLink": true
       },
       "data": [
        {
         "line": {
          "color": "rgba(28, 124, 84, 1.0)",
          "dash": "solid",
          "shape": "linear",
          "width": 1.3
         },
         "mode": "lines",
         "name": "Avg_Anomaly_deg_C",
         "text": "",
         "type": "scatter",
         "uid": "1f762342-cf3f-4eca-84a5-484e327d8546",
         "x": [
          "1880-12-31",
          "1881-12-31",
          "1882-12-31",
          "1883-12-31",
          "1884-12-31",
          "1885-12-31",
          "1886-12-31",
          "1887-12-31",
          "1888-12-31",
          "1889-12-31",
          "1890-12-31",
          "1891-12-31",
          "1892-12-31",
          "1893-12-31",
          "1894-12-31",
          "1895-12-31",
          "1896-12-31",
          "1897-12-31",
          "1898-12-31",
          "1899-12-31",
          "1900-12-31",
          "1901-12-31",
          "1902-12-31",
          "1903-12-31",
          "1904-12-31",
          "1905-12-31",
          "1906-12-31",
          "1907-12-31",
          "1908-12-31",
          "1909-12-31",
          "1910-12-31",
          "1911-12-31",
          "1912-12-31",
          "1913-12-31",
          "1914-12-31",
          "1915-12-31",
          "1916-12-31",
          "1917-12-31",
          "1918-12-31",
          "1919-12-31",
          "1920-12-31",
          "1921-12-31",
          "1922-12-31",
          "1923-12-31",
          "1924-12-31",
          "1925-12-31",
          "1926-12-31",
          "1927-12-31",
          "1928-12-31",
          "1929-12-31",
          "1930-12-31",
          "1931-12-31",
          "1932-12-31",
          "1933-12-31",
          "1934-12-31",
          "1935-12-31",
          "1936-12-31",
          "1937-12-31",
          "1938-12-31",
          "1939-12-31",
          "1940-12-31",
          "1941-12-31",
          "1942-12-31",
          "1943-12-31",
          "1944-12-31",
          "1945-12-31",
          "1946-12-31",
          "1947-12-31",
          "1948-12-31",
          "1949-12-31",
          "1950-12-31",
          "1951-12-31",
          "1952-12-31",
          "1953-12-31",
          "1954-12-31",
          "1955-12-31",
          "1956-12-31",
          "1957-12-31",
          "1958-12-31",
          "1959-12-31",
          "1960-12-31",
          "1961-12-31",
          "1962-12-31",
          "1963-12-31",
          "1964-12-31",
          "1965-12-31",
          "1966-12-31",
          "1967-12-31",
          "1968-12-31",
          "1969-12-31",
          "1970-12-31",
          "1971-12-31",
          "1972-12-31",
          "1973-12-31",
          "1974-12-31",
          "1975-12-31",
          "1976-12-31",
          "1977-12-31",
          "1978-12-31",
          "1979-12-31",
          "1980-12-31",
          "1981-12-31",
          "1982-12-31",
          "1983-12-31",
          "1984-12-31",
          "1985-12-31",
          "1986-12-31",
          "1987-12-31",
          "1988-12-31",
          "1989-12-31",
          "1990-12-31",
          "1991-12-31",
          "1992-12-31",
          "1993-12-31",
          "1994-12-31",
          "1995-12-31",
          "1996-12-31",
          "1997-12-31",
          "1998-12-31",
          "1999-12-31",
          "2000-12-31",
          "2001-12-31",
          "2002-12-31",
          "2003-12-31",
          "2004-12-31",
          "2005-12-31",
          "2006-12-31",
          "2007-12-31",
          "2008-12-31",
          "2009-12-31",
          "2010-12-31",
          "2011-12-31",
          "2012-12-31",
          "2013-12-31",
          "2014-12-31",
          "2015-12-31",
          "2016-12-31",
          "2017-12-31",
          "2018-12-31",
          "2019-12-31"
         ],
         "y": [
          -0.18500000000000003,
          -0.09500000000000001,
          -0.10166666666666668,
          -0.18499999999999997,
          -0.28833333333333333,
          -0.30916666666666665,
          -0.3166666666666667,
          -0.3491666666666666,
          -0.18083333333333332,
          -0.11166666666666668,
          -0.3725,
          -0.2358333333333333,
          -0.26499999999999996,
          -0.3166666666666667,
          -0.31333333333333335,
          -0.22250000000000003,
          -0.11166666666666665,
          -0.11499999999999999,
          -0.2783333333333333,
          -0.18166666666666664,
          -0.08833333333333333,
          -0.15333333333333335,
          -0.3016666666666667,
          -0.38916666666666666,
          -0.4891666666666666,
          -0.28500000000000003,
          -0.22333333333333336,
          -0.39333333333333337,
          -0.4316666666666667,
          -0.4716666666666666,
          -0.42833333333333323,
          -0.43083333333333335,
          -0.3558333333333333,
          -0.3516666666666666,
          -0.15583333333333332,
          -0.12000000000000001,
          -0.3275,
          -0.4383333333333334,
          -0.2825,
          -0.2691666666666667,
          -0.2566666666666667,
          -0.17500000000000002,
          -0.27166666666666667,
          -0.24583333333333335,
          -0.25333333333333335,
          -0.20583333333333334,
          -0.09000000000000001,
          -0.20416666666666664,
          -0.18666666666666665,
          -0.34583333333333327,
          -0.14583333333333334,
          -0.09833333333333337,
          -0.16416666666666668,
          -0.29583333333333334,
          -0.1366666666666667,
          -0.205,
          -0.15833333333333335,
          -0.03833333333333334,
          -0.03166666666666667,
          -0.029999999999999985,
          0.11249999999999999,
          0.18166666666666667,
          0.05416666666666666,
          0.07083333333333335,
          0.20750000000000002,
          0.08583333333333333,
          -0.07166666666666667,
          -0.03666666666666666,
          -0.10333333333333332,
          -0.1075,
          -0.18250000000000002,
          -0.06666666666666667,
          0.0066666666666666645,
          0.06833333333333334,
          -0.1475,
          -0.14666666666666667,
          -0.205,
          0.0425,
          0.06666666666666668,
          0.025833333333333337,
          -0.02166666666666667,
          0.05583333333333334,
          0.03833333333333334,
          0.07,
          -0.19583333333333333,
          -0.10500000000000002,
          -0.04750000000000001,
          -0.020833333333333332,
          -0.07333333333333335,
          0.06833333333333334,
          0.03166666666666666,
          -0.09000000000000001,
          0.016666666666666666,
          0.1625,
          -0.08249999999999999,
          -0.01416666666666667,
          -0.10833333333333334,
          0.17,
          0.06416666666666668,
          0.16,
          0.2725,
          0.32999999999999996,
          0.13249999999999998,
          0.31250000000000006,
          0.16249999999999998,
          0.11916666666666668,
          0.18333333333333332,
          0.3325000000000001,
          0.4066666666666667,
          0.28750000000000003,
          0.43583333333333335,
          0.4083333333333334,
          0.2175,
          0.23583333333333337,
          0.3066666666666667,
          0.44333333333333336,
          0.3325,
          0.4649999999999999,
          0.6225,
          0.3966666666666667,
          0.39999999999999997,
          0.5325,
          0.6233333333333334,
          0.6075,
          0.535,
          0.6708333333333333,
          0.6175,
          0.6383333333333333,
          0.515,
          0.6333333333333333,
          0.6974999999999999,
          0.5833333333333334,
          0.6158333333333333,
          0.6450000000000001,
          0.7308333333333333,
          0.8641666666666666,
          0.9883333333333334,
          0.9000000000000002,
          0.8233333333333334,
          0.9158333333333334
         ]
        }
       ],
       "layout": {
        "legend": {
         "bgcolor": "#F5F6F9",
         "font": {
          "color": "#4D5663"
         }
        },
        "paper_bgcolor": "#F5F6F9",
        "plot_bgcolor": "#F5F6F9",
        "title": {
         "font": {
          "color": "#4D5663"
         },
         "text": "Global Temperature Anomalies"
        },
        "xaxis": {
         "gridcolor": "#E1E5ED",
         "showgrid": true,
         "tickfont": {
          "color": "#4D5663"
         },
         "title": {
          "font": {
           "color": "#4D5663"
          },
          "text": "Time (years)"
         },
         "zerolinecolor": "#E1E5ED"
        },
        "yaxis": {
         "gridcolor": "#E1E5ED",
         "showgrid": true,
         "tickfont": {
          "color": "#4D5663"
         },
         "title": {
          "font": {
           "color": "#4D5663"
          },
          "text": "Temperature Anomaly (deg. Celsius)"
         },
         "zerolinecolor": "#E1E5ED"
        }
       }
      },
      "text/html": [
       "<div>\n",
       "        \n",
       "        \n",
       "            <div id=\"bb13ae9d-391a-4e9a-888b-9f739aad15ee\" class=\"plotly-graph-div\" style=\"height:525px; width:100%;\"></div>\n",
       "            <script type=\"text/javascript\">\n",
       "                require([\"plotly\"], function(Plotly) {\n",
       "                    window.PLOTLYENV=window.PLOTLYENV || {};\n",
       "                    window.PLOTLYENV.BASE_URL='https://plot.ly';\n",
       "                    \n",
       "                if (document.getElementById(\"bb13ae9d-391a-4e9a-888b-9f739aad15ee\")) {\n",
       "                    Plotly.newPlot(\n",
       "                        'bb13ae9d-391a-4e9a-888b-9f739aad15ee',\n",
       "                        [{\"line\": {\"color\": \"rgba(28, 124, 84, 1.0)\", \"dash\": \"solid\", \"shape\": \"linear\", \"width\": 1.3}, \"mode\": \"lines\", \"name\": \"Avg_Anomaly_deg_C\", \"text\": \"\", \"type\": \"scatter\", \"uid\": \"1f762342-cf3f-4eca-84a5-484e327d8546\", \"x\": [\"1880-12-31\", \"1881-12-31\", \"1882-12-31\", \"1883-12-31\", \"1884-12-31\", \"1885-12-31\", \"1886-12-31\", \"1887-12-31\", \"1888-12-31\", \"1889-12-31\", \"1890-12-31\", \"1891-12-31\", \"1892-12-31\", \"1893-12-31\", \"1894-12-31\", \"1895-12-31\", \"1896-12-31\", \"1897-12-31\", \"1898-12-31\", \"1899-12-31\", \"1900-12-31\", \"1901-12-31\", \"1902-12-31\", \"1903-12-31\", \"1904-12-31\", \"1905-12-31\", \"1906-12-31\", \"1907-12-31\", \"1908-12-31\", \"1909-12-31\", \"1910-12-31\", \"1911-12-31\", \"1912-12-31\", \"1913-12-31\", \"1914-12-31\", \"1915-12-31\", \"1916-12-31\", \"1917-12-31\", \"1918-12-31\", \"1919-12-31\", \"1920-12-31\", \"1921-12-31\", \"1922-12-31\", \"1923-12-31\", \"1924-12-31\", \"1925-12-31\", \"1926-12-31\", \"1927-12-31\", \"1928-12-31\", \"1929-12-31\", \"1930-12-31\", \"1931-12-31\", \"1932-12-31\", \"1933-12-31\", \"1934-12-31\", \"1935-12-31\", \"1936-12-31\", \"1937-12-31\", \"1938-12-31\", \"1939-12-31\", \"1940-12-31\", \"1941-12-31\", \"1942-12-31\", \"1943-12-31\", \"1944-12-31\", \"1945-12-31\", \"1946-12-31\", \"1947-12-31\", \"1948-12-31\", \"1949-12-31\", \"1950-12-31\", \"1951-12-31\", \"1952-12-31\", \"1953-12-31\", \"1954-12-31\", \"1955-12-31\", \"1956-12-31\", \"1957-12-31\", \"1958-12-31\", \"1959-12-31\", \"1960-12-31\", \"1961-12-31\", \"1962-12-31\", \"1963-12-31\", \"1964-12-31\", \"1965-12-31\", \"1966-12-31\", \"1967-12-31\", \"1968-12-31\", \"1969-12-31\", \"1970-12-31\", \"1971-12-31\", \"1972-12-31\", \"1973-12-31\", \"1974-12-31\", \"1975-12-31\", \"1976-12-31\", \"1977-12-31\", \"1978-12-31\", \"1979-12-31\", \"1980-12-31\", \"1981-12-31\", \"1982-12-31\", \"1983-12-31\", \"1984-12-31\", \"1985-12-31\", \"1986-12-31\", \"1987-12-31\", \"1988-12-31\", \"1989-12-31\", \"1990-12-31\", \"1991-12-31\", \"1992-12-31\", \"1993-12-31\", \"1994-12-31\", \"1995-12-31\", \"1996-12-31\", \"1997-12-31\", \"1998-12-31\", \"1999-12-31\", \"2000-12-31\", \"2001-12-31\", \"2002-12-31\", \"2003-12-31\", \"2004-12-31\", \"2005-12-31\", \"2006-12-31\", \"2007-12-31\", \"2008-12-31\", \"2009-12-31\", \"2010-12-31\", \"2011-12-31\", \"2012-12-31\", \"2013-12-31\", \"2014-12-31\", \"2015-12-31\", \"2016-12-31\", \"2017-12-31\", \"2018-12-31\", \"2019-12-31\"], \"y\": [-0.18500000000000003, -0.09500000000000001, -0.10166666666666668, -0.18499999999999997, -0.28833333333333333, -0.30916666666666665, -0.3166666666666667, -0.3491666666666666, -0.18083333333333332, -0.11166666666666668, -0.3725, -0.2358333333333333, -0.26499999999999996, -0.3166666666666667, -0.31333333333333335, -0.22250000000000003, -0.11166666666666665, -0.11499999999999999, -0.2783333333333333, -0.18166666666666664, -0.08833333333333333, -0.15333333333333335, -0.3016666666666667, -0.38916666666666666, -0.4891666666666666, -0.28500000000000003, -0.22333333333333336, -0.39333333333333337, -0.4316666666666667, -0.4716666666666666, -0.42833333333333323, -0.43083333333333335, -0.3558333333333333, -0.3516666666666666, -0.15583333333333332, -0.12000000000000001, -0.3275, -0.4383333333333334, -0.2825, -0.2691666666666667, -0.2566666666666667, -0.17500000000000002, -0.27166666666666667, -0.24583333333333335, -0.25333333333333335, -0.20583333333333334, -0.09000000000000001, -0.20416666666666664, -0.18666666666666665, -0.34583333333333327, -0.14583333333333334, -0.09833333333333337, -0.16416666666666668, -0.29583333333333334, -0.1366666666666667, -0.205, -0.15833333333333335, -0.03833333333333334, -0.03166666666666667, -0.029999999999999985, 0.11249999999999999, 0.18166666666666667, 0.05416666666666666, 0.07083333333333335, 0.20750000000000002, 0.08583333333333333, -0.07166666666666667, -0.03666666666666666, -0.10333333333333332, -0.1075, -0.18250000000000002, -0.06666666666666667, 0.0066666666666666645, 0.06833333333333334, -0.1475, -0.14666666666666667, -0.205, 0.0425, 0.06666666666666668, 0.025833333333333337, -0.02166666666666667, 0.05583333333333334, 0.03833333333333334, 0.07, -0.19583333333333333, -0.10500000000000002, -0.04750000000000001, -0.020833333333333332, -0.07333333333333335, 0.06833333333333334, 0.03166666666666666, -0.09000000000000001, 0.016666666666666666, 0.1625, -0.08249999999999999, -0.01416666666666667, -0.10833333333333334, 0.17, 0.06416666666666668, 0.16, 0.2725, 0.32999999999999996, 0.13249999999999998, 0.31250000000000006, 0.16249999999999998, 0.11916666666666668, 0.18333333333333332, 0.3325000000000001, 0.4066666666666667, 0.28750000000000003, 0.43583333333333335, 0.4083333333333334, 0.2175, 0.23583333333333337, 0.3066666666666667, 0.44333333333333336, 0.3325, 0.4649999999999999, 0.6225, 0.3966666666666667, 0.39999999999999997, 0.5325, 0.6233333333333334, 0.6075, 0.535, 0.6708333333333333, 0.6175, 0.6383333333333333, 0.515, 0.6333333333333333, 0.6974999999999999, 0.5833333333333334, 0.6158333333333333, 0.6450000000000001, 0.7308333333333333, 0.8641666666666666, 0.9883333333333334, 0.9000000000000002, 0.8233333333333334, 0.9158333333333334]}],\n",
       "                        {\"legend\": {\"bgcolor\": \"#F5F6F9\", \"font\": {\"color\": \"#4D5663\"}}, \"paper_bgcolor\": \"#F5F6F9\", \"plot_bgcolor\": \"#F5F6F9\", \"title\": {\"font\": {\"color\": \"#4D5663\"}, \"text\": \"Global Temperature Anomalies\"}, \"xaxis\": {\"gridcolor\": \"#E1E5ED\", \"showgrid\": true, \"tickfont\": {\"color\": \"#4D5663\"}, \"title\": {\"font\": {\"color\": \"#4D5663\"}, \"text\": \"Time (years)\"}, \"zerolinecolor\": \"#E1E5ED\"}, \"yaxis\": {\"gridcolor\": \"#E1E5ED\", \"showgrid\": true, \"tickfont\": {\"color\": \"#4D5663\"}, \"title\": {\"font\": {\"color\": \"#4D5663\"}, \"text\": \"Temperature Anomaly (deg. Celsius)\"}, \"zerolinecolor\": \"#E1E5ED\"}},\n",
       "                        {\"linkText\": \"Export to plot.ly\", \"responsive\": true, \"showLink\": true, \"plotlyServerURL\": \"https://plot.ly\"}\n",
       "                    ).then(function(){\n",
       "                            \n",
       "var gd = document.getElementById('bb13ae9d-391a-4e9a-888b-9f739aad15ee');\n",
       "var x = new MutationObserver(function (mutations, observer) {{\n",
       "        var display = window.getComputedStyle(gd).display;\n",
       "        if (!display || display === 'none') {{\n",
       "            console.log([gd, 'removed!']);\n",
       "            Plotly.purge(gd);\n",
       "            observer.disconnect();\n",
       "        }}\n",
       "}});\n",
       "\n",
       "// Listen for the removal of the full notebook cells\n",
       "var notebookContainer = gd.closest('#notebook-container');\n",
       "if (notebookContainer) {{\n",
       "    x.observe(notebookContainer, {childList: true});\n",
       "}}\n",
       "\n",
       "// Listen for the clearing of the current output cell\n",
       "var outputEl = gd.closest('.output');\n",
       "if (outputEl) {{\n",
       "    x.observe(outputEl, {childList: true});\n",
       "}}\n",
       "\n",
       "                        })\n",
       "                };\n",
       "                });\n",
       "            </script>\n",
       "        </div>"
      ]
     },
     "metadata": {},
     "output_type": "display_data"
    }
   ],
   "source": [
    "t.resample('A').mean().iplot(kind='line', xTitle='Time (years)', color='#1C7C54',\n",
    "                  yTitle='Temperature Anomaly (deg. Celsius)', title='Global Temperature Anomalies')"
   ]
  },
  {
   "cell_type": "markdown",
   "metadata": {},
   "source": [
    "## Emisiones promedio globales de CO2 (Toneladas/per capita) por año desde 1960 a 2014"
   ]
  },
  {
   "cell_type": "code",
   "execution_count": 14,
   "metadata": {
    "codeCollapsed": false
   },
   "outputs": [
    {
     "data": {
      "application/vnd.plotly.v1+json": {
       "config": {
        "linkText": "Export to plot.ly",
        "plotlyServerURL": "https://plot.ly",
        "showLink": true
       },
       "data": [
        {
         "line": {
          "color": "rgba(51, 147, 255, 1.0)",
          "dash": "solid",
          "shape": "linear",
          "width": 1.3
         },
         "mode": "lines",
         "name": "Global CO2 Emissions per Capita",
         "text": "",
         "type": "scatter",
         "uid": "7b387703-f513-46d1-8db1-371561a181e6",
         "x": [
          "1960-12-31",
          "1961-12-31",
          "1962-12-31",
          "1963-12-31",
          "1964-12-31",
          "1965-12-31",
          "1966-12-31",
          "1967-12-31",
          "1968-12-31",
          "1969-12-31",
          "1970-12-31",
          "1971-12-31",
          "1972-12-31",
          "1973-12-31",
          "1974-12-31",
          "1975-12-31",
          "1976-12-31",
          "1977-12-31",
          "1978-12-31",
          "1979-12-31",
          "1980-12-31",
          "1981-12-31",
          "1982-12-31",
          "1983-12-31",
          "1984-12-31",
          "1985-12-31",
          "1986-12-31",
          "1987-12-31",
          "1988-12-31",
          "1989-12-31",
          "1990-12-31",
          "1991-12-31",
          "1992-12-31",
          "1993-12-31",
          "1994-12-31",
          "1995-12-31",
          "1996-12-31",
          "1997-12-31",
          "1998-12-31",
          "1999-12-31",
          "2000-12-31",
          "2001-12-31",
          "2002-12-31",
          "2003-12-31",
          "2004-12-31",
          "2005-12-31",
          "2006-12-31",
          "2007-12-31",
          "2008-12-31",
          "2009-12-31",
          "2010-12-31",
          "2011-12-31",
          "2012-12-31",
          "2013-12-31",
          "2014-12-31",
          "2015-12-31",
          "2016-12-31",
          "2017-12-31",
          "2018-12-31"
         ],
         "y": [
          3.0990134461537897,
          3.06972701834951,
          3.1405114564922796,
          3.24449883461939,
          3.36059627301937,
          3.4390994493764597,
          3.53761777761217,
          3.57598760074636,
          3.6820043371844196,
          3.8217267418312,
          4.0124221416258905,
          4.071638385150339,
          4.15522707213128,
          4.29547054814401,
          4.22022672435856,
          4.11673055177987,
          4.2809968745807305,
          4.3385901257979,
          4.31472703052706,
          4.47723059891963,
          4.3529752124957,
          4.14499002214937,
          4.03601239303614,
          3.9485840636426497,
          4.01967082073237,
          4.06889483324752,
          4.11899594385358,
          4.1468421085430895,
          4.22121579699668,
          4.2382473258395805,
          4.18853443335987,
          4.16779393594322,
          4.0630801386868,
          3.99687679199773,
          4.00648912508173,
          4.03191340642106,
          4.06642274310816,
          4.0777747918894,
          4.04521394813147,
          3.9821101308386804,
          4.03319022967413,
          4.07599485730396,
          4.08357220402861,
          4.252864823977871,
          4.4090606996537804,
          4.5228010359500095,
          4.63049619432102,
          4.665488103306321,
          4.75616035280856,
          4.65604440536345,
          4.82806936244497,
          4.96758098934546,
          4.99621141959404,
          4.98773904748779,
          4.96997394966849,
          "",
          "",
          "",
          ""
         ]
        }
       ],
       "layout": {
        "legend": {
         "bgcolor": "#F5F6F9",
         "font": {
          "color": "#4D5663"
         }
        },
        "paper_bgcolor": "#F5F6F9",
        "plot_bgcolor": "#F5F6F9",
        "title": {
         "font": {
          "color": "#4D5663"
         },
         "text": "Global CO2 Emission over Time"
        },
        "xaxis": {
         "gridcolor": "#E1E5ED",
         "showgrid": true,
         "tickfont": {
          "color": "#4D5663"
         },
         "title": {
          "font": {
           "color": "#4D5663"
          },
          "text": "Time (years)"
         },
         "zerolinecolor": "#E1E5ED"
        },
        "yaxis": {
         "gridcolor": "#E1E5ED",
         "showgrid": true,
         "tickfont": {
          "color": "#4D5663"
         },
         "title": {
          "font": {
           "color": "#4D5663"
          },
          "text": "Emissions (Metric Tons per Capita)"
         },
         "zerolinecolor": "#E1E5ED"
        }
       }
      },
      "text/html": [
       "<div>\n",
       "        \n",
       "        \n",
       "            <div id=\"81325ef8-186e-4356-b2e0-5eed55421fd7\" class=\"plotly-graph-div\" style=\"height:525px; width:100%;\"></div>\n",
       "            <script type=\"text/javascript\">\n",
       "                require([\"plotly\"], function(Plotly) {\n",
       "                    window.PLOTLYENV=window.PLOTLYENV || {};\n",
       "                    window.PLOTLYENV.BASE_URL='https://plot.ly';\n",
       "                    \n",
       "                if (document.getElementById(\"81325ef8-186e-4356-b2e0-5eed55421fd7\")) {\n",
       "                    Plotly.newPlot(\n",
       "                        '81325ef8-186e-4356-b2e0-5eed55421fd7',\n",
       "                        [{\"line\": {\"color\": \"rgba(51, 147, 255, 1.0)\", \"dash\": \"solid\", \"shape\": \"linear\", \"width\": 1.3}, \"mode\": \"lines\", \"name\": \"Global CO2 Emissions per Capita\", \"text\": \"\", \"type\": \"scatter\", \"uid\": \"7b387703-f513-46d1-8db1-371561a181e6\", \"x\": [\"1960-12-31\", \"1961-12-31\", \"1962-12-31\", \"1963-12-31\", \"1964-12-31\", \"1965-12-31\", \"1966-12-31\", \"1967-12-31\", \"1968-12-31\", \"1969-12-31\", \"1970-12-31\", \"1971-12-31\", \"1972-12-31\", \"1973-12-31\", \"1974-12-31\", \"1975-12-31\", \"1976-12-31\", \"1977-12-31\", \"1978-12-31\", \"1979-12-31\", \"1980-12-31\", \"1981-12-31\", \"1982-12-31\", \"1983-12-31\", \"1984-12-31\", \"1985-12-31\", \"1986-12-31\", \"1987-12-31\", \"1988-12-31\", \"1989-12-31\", \"1990-12-31\", \"1991-12-31\", \"1992-12-31\", \"1993-12-31\", \"1994-12-31\", \"1995-12-31\", \"1996-12-31\", \"1997-12-31\", \"1998-12-31\", \"1999-12-31\", \"2000-12-31\", \"2001-12-31\", \"2002-12-31\", \"2003-12-31\", \"2004-12-31\", \"2005-12-31\", \"2006-12-31\", \"2007-12-31\", \"2008-12-31\", \"2009-12-31\", \"2010-12-31\", \"2011-12-31\", \"2012-12-31\", \"2013-12-31\", \"2014-12-31\", \"2015-12-31\", \"2016-12-31\", \"2017-12-31\", \"2018-12-31\"], \"y\": [3.0990134461537897, 3.06972701834951, 3.1405114564922796, 3.24449883461939, 3.36059627301937, 3.4390994493764597, 3.53761777761217, 3.57598760074636, 3.6820043371844196, 3.8217267418312, 4.0124221416258905, 4.071638385150339, 4.15522707213128, 4.29547054814401, 4.22022672435856, 4.11673055177987, 4.2809968745807305, 4.3385901257979, 4.31472703052706, 4.47723059891963, 4.3529752124957, 4.14499002214937, 4.03601239303614, 3.9485840636426497, 4.01967082073237, 4.06889483324752, 4.11899594385358, 4.1468421085430895, 4.22121579699668, 4.2382473258395805, 4.18853443335987, 4.16779393594322, 4.0630801386868, 3.99687679199773, 4.00648912508173, 4.03191340642106, 4.06642274310816, 4.0777747918894, 4.04521394813147, 3.9821101308386804, 4.03319022967413, 4.07599485730396, 4.08357220402861, 4.252864823977871, 4.4090606996537804, 4.5228010359500095, 4.63049619432102, 4.665488103306321, 4.75616035280856, 4.65604440536345, 4.82806936244497, 4.96758098934546, 4.99621141959404, 4.98773904748779, 4.96997394966849, \"\", \"\", \"\", \"\"]}],\n",
       "                        {\"legend\": {\"bgcolor\": \"#F5F6F9\", \"font\": {\"color\": \"#4D5663\"}}, \"paper_bgcolor\": \"#F5F6F9\", \"plot_bgcolor\": \"#F5F6F9\", \"title\": {\"font\": {\"color\": \"#4D5663\"}, \"text\": \"Global CO2 Emission over Time\"}, \"xaxis\": {\"gridcolor\": \"#E1E5ED\", \"showgrid\": true, \"tickfont\": {\"color\": \"#4D5663\"}, \"title\": {\"font\": {\"color\": \"#4D5663\"}, \"text\": \"Time (years)\"}, \"zerolinecolor\": \"#E1E5ED\"}, \"yaxis\": {\"gridcolor\": \"#E1E5ED\", \"showgrid\": true, \"tickfont\": {\"color\": \"#4D5663\"}, \"title\": {\"font\": {\"color\": \"#4D5663\"}, \"text\": \"Emissions (Metric Tons per Capita)\"}, \"zerolinecolor\": \"#E1E5ED\"}},\n",
       "                        {\"linkText\": \"Export to plot.ly\", \"responsive\": true, \"showLink\": true, \"plotlyServerURL\": \"https://plot.ly\"}\n",
       "                    ).then(function(){\n",
       "                            \n",
       "var gd = document.getElementById('81325ef8-186e-4356-b2e0-5eed55421fd7');\n",
       "var x = new MutationObserver(function (mutations, observer) {{\n",
       "        var display = window.getComputedStyle(gd).display;\n",
       "        if (!display || display === 'none') {{\n",
       "            console.log([gd, 'removed!']);\n",
       "            Plotly.purge(gd);\n",
       "            observer.disconnect();\n",
       "        }}\n",
       "}});\n",
       "\n",
       "// Listen for the removal of the full notebook cells\n",
       "var notebookContainer = gd.closest('#notebook-container');\n",
       "if (notebookContainer) {{\n",
       "    x.observe(notebookContainer, {childList: true});\n",
       "}}\n",
       "\n",
       "// Listen for the clearing of the current output cell\n",
       "var outputEl = gd.closest('.output');\n",
       "if (outputEl) {{\n",
       "    x.observe(outputEl, {childList: true});\n",
       "}}\n",
       "\n",
       "                        })\n",
       "                };\n",
       "                });\n",
       "            </script>\n",
       "        </div>"
      ]
     },
     "metadata": {},
     "output_type": "display_data"
    }
   ],
   "source": [
    "e.iplot(kind='line', xTitle='Time (years)', color='#3393FF',\n",
    "                  yTitle='Emissions (Metric Tons per Capita)', title='Global CO2 Emission over Time')"
   ]
  },
  {
   "cell_type": "markdown",
   "metadata": {},
   "source": [
    "## Emisiones promedio en Chile de CO2 (Toneladas/per capita) por año desde 1960 a 2014"
   ]
  },
  {
   "cell_type": "code",
   "execution_count": 15,
   "metadata": {},
   "outputs": [
    {
     "data": {
      "application/vnd.plotly.v1+json": {
       "config": {
        "linkText": "Export to plot.ly",
        "plotlyServerURL": "https://plot.ly",
        "showLink": true
       },
       "data": [
        {
         "line": {
          "color": "rgba(51, 147, 255, 1.0)",
          "dash": "solid",
          "shape": "linear",
          "width": 1.3
         },
         "mode": "lines",
         "name": "Chile CO2 Emissions per Capita",
         "text": "",
         "type": "scatter",
         "uid": "5074dbba-2433-49a9-9829-600ffa1c7a87",
         "x": [
          "1960-12-31",
          "1961-12-31",
          "1962-12-31",
          "1963-12-31",
          "1964-12-31",
          "1965-12-31",
          "1966-12-31",
          "1967-12-31",
          "1968-12-31",
          "1969-12-31",
          "1970-12-31",
          "1971-12-31",
          "1972-12-31",
          "1973-12-31",
          "1974-12-31",
          "1975-12-31",
          "1976-12-31",
          "1977-12-31",
          "1978-12-31",
          "1979-12-31",
          "1980-12-31",
          "1981-12-31",
          "1982-12-31",
          "1983-12-31",
          "1984-12-31",
          "1985-12-31",
          "1986-12-31",
          "1987-12-31",
          "1988-12-31",
          "1989-12-31",
          "1990-12-31",
          "1991-12-31",
          "1992-12-31",
          "1993-12-31",
          "1994-12-31",
          "1995-12-31",
          "1996-12-31",
          "1997-12-31",
          "1998-12-31",
          "1999-12-31",
          "2000-12-31",
          "2001-12-31",
          "2002-12-31",
          "2003-12-31",
          "2004-12-31",
          "2005-12-31",
          "2006-12-31",
          "2007-12-31",
          "2008-12-31",
          "2009-12-31",
          "2010-12-31",
          "2011-12-31",
          "2012-12-31",
          "2013-12-31",
          "2014-12-31",
          "2015-12-31",
          "2016-12-31",
          "2017-12-31",
          "2018-12-31"
         ],
         "y": [
          1.74828931041744,
          1.83439326167949,
          2.07324966382121,
          2.1044061684782402,
          2.07863002467845,
          2.06179137078617,
          2.1341224875334097,
          2.14053443662422,
          2.3098277450580698,
          2.40511117061053,
          2.57889901206259,
          2.78039379225996,
          2.8411923618889396,
          2.7389103626627405,
          2.52799108137717,
          2.20535834582111,
          2.27349215739613,
          2.14643643350681,
          2.09940001553411,
          2.2404754206322,
          2.2425992519589104,
          2.14650956400234,
          1.7748075988676102,
          1.76643364621793,
          1.8522152058735502,
          1.7653097915873799,
          1.79647084796095,
          1.8002858471138798,
          2.10217256973111,
          2.4863694712884,
          2.51581052054156,
          2.32763216599179,
          2.37545707043498,
          2.49429583708261,
          2.70404833760533,
          2.9199313152003197,
          3.34531135909618,
          3.83772890270629,
          3.87174353206756,
          4.07926774589453,
          3.8534993750145,
          3.453563551989,
          3.5307200277016197,
          3.5192615709999706,
          3.74211830163159,
          3.8284536433372702,
          3.97151048248654,
          4.34391654413524,
          4.31229432919644,
          3.96955561568827,
          4.25171517053079,
          4.61972953748937,
          4.67798279651244,
          4.765865990127001,
          4.68737662371284,
          "",
          "",
          "",
          ""
         ]
        }
       ],
       "layout": {
        "legend": {
         "bgcolor": "#F5F6F9",
         "font": {
          "color": "#4D5663"
         }
        },
        "paper_bgcolor": "#F5F6F9",
        "plot_bgcolor": "#F5F6F9",
        "title": {
         "font": {
          "color": "#4D5663"
         },
         "text": "Chile CO2 Emission over Time"
        },
        "xaxis": {
         "gridcolor": "#E1E5ED",
         "showgrid": true,
         "tickfont": {
          "color": "#4D5663"
         },
         "title": {
          "font": {
           "color": "#4D5663"
          },
          "text": "Time (years)"
         },
         "zerolinecolor": "#E1E5ED"
        },
        "yaxis": {
         "gridcolor": "#E1E5ED",
         "showgrid": true,
         "tickfont": {
          "color": "#4D5663"
         },
         "title": {
          "font": {
           "color": "#4D5663"
          },
          "text": "Emissions (Metric Tons per Capita)"
         },
         "zerolinecolor": "#E1E5ED"
        }
       }
      },
      "text/html": [
       "<div>\n",
       "        \n",
       "        \n",
       "            <div id=\"5319b269-a667-48a0-98bd-076865040833\" class=\"plotly-graph-div\" style=\"height:525px; width:100%;\"></div>\n",
       "            <script type=\"text/javascript\">\n",
       "                require([\"plotly\"], function(Plotly) {\n",
       "                    window.PLOTLYENV=window.PLOTLYENV || {};\n",
       "                    window.PLOTLYENV.BASE_URL='https://plot.ly';\n",
       "                    \n",
       "                if (document.getElementById(\"5319b269-a667-48a0-98bd-076865040833\")) {\n",
       "                    Plotly.newPlot(\n",
       "                        '5319b269-a667-48a0-98bd-076865040833',\n",
       "                        [{\"line\": {\"color\": \"rgba(51, 147, 255, 1.0)\", \"dash\": \"solid\", \"shape\": \"linear\", \"width\": 1.3}, \"mode\": \"lines\", \"name\": \"Chile CO2 Emissions per Capita\", \"text\": \"\", \"type\": \"scatter\", \"uid\": \"5074dbba-2433-49a9-9829-600ffa1c7a87\", \"x\": [\"1960-12-31\", \"1961-12-31\", \"1962-12-31\", \"1963-12-31\", \"1964-12-31\", \"1965-12-31\", \"1966-12-31\", \"1967-12-31\", \"1968-12-31\", \"1969-12-31\", \"1970-12-31\", \"1971-12-31\", \"1972-12-31\", \"1973-12-31\", \"1974-12-31\", \"1975-12-31\", \"1976-12-31\", \"1977-12-31\", \"1978-12-31\", \"1979-12-31\", \"1980-12-31\", \"1981-12-31\", \"1982-12-31\", \"1983-12-31\", \"1984-12-31\", \"1985-12-31\", \"1986-12-31\", \"1987-12-31\", \"1988-12-31\", \"1989-12-31\", \"1990-12-31\", \"1991-12-31\", \"1992-12-31\", \"1993-12-31\", \"1994-12-31\", \"1995-12-31\", \"1996-12-31\", \"1997-12-31\", \"1998-12-31\", \"1999-12-31\", \"2000-12-31\", \"2001-12-31\", \"2002-12-31\", \"2003-12-31\", \"2004-12-31\", \"2005-12-31\", \"2006-12-31\", \"2007-12-31\", \"2008-12-31\", \"2009-12-31\", \"2010-12-31\", \"2011-12-31\", \"2012-12-31\", \"2013-12-31\", \"2014-12-31\", \"2015-12-31\", \"2016-12-31\", \"2017-12-31\", \"2018-12-31\"], \"y\": [1.74828931041744, 1.83439326167949, 2.07324966382121, 2.1044061684782402, 2.07863002467845, 2.06179137078617, 2.1341224875334097, 2.14053443662422, 2.3098277450580698, 2.40511117061053, 2.57889901206259, 2.78039379225996, 2.8411923618889396, 2.7389103626627405, 2.52799108137717, 2.20535834582111, 2.27349215739613, 2.14643643350681, 2.09940001553411, 2.2404754206322, 2.2425992519589104, 2.14650956400234, 1.7748075988676102, 1.76643364621793, 1.8522152058735502, 1.7653097915873799, 1.79647084796095, 1.8002858471138798, 2.10217256973111, 2.4863694712884, 2.51581052054156, 2.32763216599179, 2.37545707043498, 2.49429583708261, 2.70404833760533, 2.9199313152003197, 3.34531135909618, 3.83772890270629, 3.87174353206756, 4.07926774589453, 3.8534993750145, 3.453563551989, 3.5307200277016197, 3.5192615709999706, 3.74211830163159, 3.8284536433372702, 3.97151048248654, 4.34391654413524, 4.31229432919644, 3.96955561568827, 4.25171517053079, 4.61972953748937, 4.67798279651244, 4.765865990127001, 4.68737662371284, \"\", \"\", \"\", \"\"]}],\n",
       "                        {\"legend\": {\"bgcolor\": \"#F5F6F9\", \"font\": {\"color\": \"#4D5663\"}}, \"paper_bgcolor\": \"#F5F6F9\", \"plot_bgcolor\": \"#F5F6F9\", \"title\": {\"font\": {\"color\": \"#4D5663\"}, \"text\": \"Chile CO2 Emission over Time\"}, \"xaxis\": {\"gridcolor\": \"#E1E5ED\", \"showgrid\": true, \"tickfont\": {\"color\": \"#4D5663\"}, \"title\": {\"font\": {\"color\": \"#4D5663\"}, \"text\": \"Time (years)\"}, \"zerolinecolor\": \"#E1E5ED\"}, \"yaxis\": {\"gridcolor\": \"#E1E5ED\", \"showgrid\": true, \"tickfont\": {\"color\": \"#4D5663\"}, \"title\": {\"font\": {\"color\": \"#4D5663\"}, \"text\": \"Emissions (Metric Tons per Capita)\"}, \"zerolinecolor\": \"#E1E5ED\"}},\n",
       "                        {\"linkText\": \"Export to plot.ly\", \"responsive\": true, \"showLink\": true, \"plotlyServerURL\": \"https://plot.ly\"}\n",
       "                    ).then(function(){\n",
       "                            \n",
       "var gd = document.getElementById('5319b269-a667-48a0-98bd-076865040833');\n",
       "var x = new MutationObserver(function (mutations, observer) {{\n",
       "        var display = window.getComputedStyle(gd).display;\n",
       "        if (!display || display === 'none') {{\n",
       "            console.log([gd, 'removed!']);\n",
       "            Plotly.purge(gd);\n",
       "            observer.disconnect();\n",
       "        }}\n",
       "}});\n",
       "\n",
       "// Listen for the removal of the full notebook cells\n",
       "var notebookContainer = gd.closest('#notebook-container');\n",
       "if (notebookContainer) {{\n",
       "    x.observe(notebookContainer, {childList: true});\n",
       "}}\n",
       "\n",
       "// Listen for the clearing of the current output cell\n",
       "var outputEl = gd.closest('.output');\n",
       "if (outputEl) {{\n",
       "    x.observe(outputEl, {childList: true});\n",
       "}}\n",
       "\n",
       "                        })\n",
       "                };\n",
       "                });\n",
       "            </script>\n",
       "        </div>"
      ]
     },
     "metadata": {},
     "output_type": "display_data"
    }
   ],
   "source": [
    "e_chile.iplot(kind='line', xTitle='Time (years)', color='#3393FF',\n",
    "                  yTitle='Emissions (Metric Tons per Capita)', title='Chile CO2 Emission over Time')"
   ]
  },
  {
   "cell_type": "markdown",
   "metadata": {},
   "source": [
    "# Pronósticos"
   ]
  },
  {
   "cell_type": "markdown",
   "metadata": {},
   "source": [
    "## Proyección de la variación de la temperatura"
   ]
  },
  {
   "cell_type": "code",
   "execution_count": 16,
   "metadata": {
    "codeCollapsed": false,
    "hiddenCell": true
   },
   "outputs": [
    {
     "name": "stderr",
     "output_type": "stream",
     "text": [
      "INFO:fbprophet:Disabling weekly seasonality. Run prophet with weekly_seasonality=True to override this.\n",
      "INFO:fbprophet:Disabling daily seasonality. Run prophet with daily_seasonality=True to override this.\n",
      "/usr/local/envs/py3env/lib/python3.5/site-packages/matplotlib/font_manager.py:1320: UserWarning:\n",
      "\n",
      "findfont: Font family ['sans-serif'] not found. Falling back to DejaVu Sans\n",
      "\n"
     ]
    },
    {
     "data": {
      "image/png": "[encoded data removed]",
      "text/plain": [
       "<matplotlib.figure.Figure at 0x7f28fbc745f8>"
      ]
     },
     "metadata": {},
     "output_type": "display_data"
    }
   ],
   "source": [
    "t_prophet = pd.DataFrame()\n",
    "t_prophet['ds'] = t.index\n",
    "t_prophet['y'] = t['Avg_Anomaly_deg_C'].values\n",
    "m = Prophet()\n",
    "m.fit(t_prophet)\n",
    "future = m.make_future_dataframe(freq='m', periods=100*12)\n",
    "forecast = m.predict(future)\n",
    "m.plot(forecast);"
   ]
  },
  {
   "cell_type": "code",
   "execution_count": 19,
   "metadata": {
    "codeCollapsed": false
   },
   "outputs": [
    {
     "name": "stderr",
     "output_type": "stream",
     "text": [
      "/usr/local/envs/py3env/lib/python3.5/site-packages/matplotlib/font_manager.py:1320: UserWarning:\n",
      "\n",
      "findfont: Font family ['sans-serif'] not found. Falling back to DejaVu Sans\n",
      "\n"
     ]
    },
    {
     "data": {
      "image/png": "[encoded data removed]",
      "text/plain": [
       "<matplotlib.figure.Figure at 0x7f291dc9ef98>"
      ]
     },
     "metadata": {},
     "output_type": "display_data"
    }
   ],
   "source": [
    "m.plot_components(forecast);"
   ]
  }
 ],
 "metadata": {
  "kernelspec": {
   "display_name": "Python 3",
   "language": "python",
   "name": "python3"
  },
  "language_info": {
   "codemirror_mode": {
    "name": "ipython",
    "version": 3
   },
   "file_extension": ".py",
   "mimetype": "text/x-python",
   "name": "python",
   "nbconvert_exporter": "python",
   "pygments_lexer": "ipython3",
   "version": "3.5.6"
  }
 },
 "nbformat": 4,
 "nbformat_minor": 2
}
