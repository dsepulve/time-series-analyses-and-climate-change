{
 "cells": [
  {
   "cell_type": "markdown",
   "metadata": {},
   "source": [
    "# Cambio Climático através de los años\n",
    "![](climate-change.png \"Title\")"
   ]
  },
  {
   "cell_type": "markdown",
   "metadata": {},
   "source": [
    "## Instalar dependencias"
   ]
  },
  {
   "cell_type": "code",
   "execution_count": 7,
   "metadata": {
    "codeCollapsed": false,
    "hiddenCell": true
   },
   "outputs": [
    {
     "name": "stdout",
     "output_type": "stream",
     "text": [
      "Requirement already satisfied: fbprophet in /usr/local/envs/py3env/lib/python3.5/site-packages (0.5)\n",
      "Requirement already satisfied: Cython>=0.22 in /usr/local/envs/py3env/lib/python3.5/site-packages (from fbprophet) (0.29.13)\n",
      "Requirement already satisfied: pystan>=2.14 in /usr/local/envs/py3env/lib/python3.5/site-packages (from fbprophet) (2.19.0.0)\n",
      "Requirement already satisfied: numpy>=1.10.0 in /usr/local/envs/py3env/lib/python3.5/site-packages (from fbprophet) (1.14.0)\n",
      "Requirement already satisfied: pandas>=0.23.4 in /usr/local/envs/py3env/lib/python3.5/site-packages (from fbprophet) (0.25.1)\n",
      "Requirement already satisfied: matplotlib>=2.0.0 in /usr/local/envs/py3env/lib/python3.5/site-packages (from fbprophet) (2.1.2)\n",
      "Requirement already satisfied: lunardate>=0.1.5 in /usr/local/envs/py3env/lib/python3.5/site-packages (from fbprophet) (0.2.0)\n",
      "Requirement already satisfied: convertdate>=2.1.2 in /usr/local/envs/py3env/lib/python3.5/site-packages (from fbprophet) (2.1.3)\n",
      "Requirement already satisfied: holidays>=0.9.5 in /usr/local/envs/py3env/lib/python3.5/site-packages (from fbprophet) (0.9.11)\n",
      "Requirement already satisfied: setuptools-git>=1.2 in /usr/local/envs/py3env/lib/python3.5/site-packages (from fbprophet) (1.2)\n",
      "Requirement already satisfied: pytz>=2017.2 in /usr/local/envs/py3env/lib/python3.5/site-packages (from pandas>=0.23.4->fbprophet) (2018.4)\n",
      "Requirement already satisfied: python-dateutil>=2.6.1 in /usr/local/envs/py3env/lib/python3.5/site-packages (from pandas>=0.23.4->fbprophet) (2.8.0)\n",
      "Requirement already satisfied: six>=1.10 in /usr/local/envs/py3env/lib/python3.5/site-packages (from matplotlib>=2.0.0->fbprophet) (1.10.0)\n",
      "Requirement already satisfied: cycler>=0.10 in /usr/local/envs/py3env/lib/python3.5/site-packages (from matplotlib>=2.0.0->fbprophet) (0.10.0)\n",
      "Requirement already satisfied: pyparsing!=2.0.4,!=2.1.2,!=2.1.6,>=2.0.1 in /usr/local/envs/py3env/lib/python3.5/site-packages (from matplotlib>=2.0.0->fbprophet) (2.4.0)\n",
      "Requirement already satisfied: ephem<3.8,>=3.7.5.3 in /usr/local/envs/py3env/lib/python3.5/site-packages (from convertdate>=2.1.2->fbprophet) (3.7.7.0)\n",
      "Requirement already satisfied: plotly in /usr/local/envs/py3env/lib/python3.5/site-packages (3.10.0)\n",
      "Requirement already satisfied: retrying>=1.3.3 in /usr/local/envs/py3env/lib/python3.5/site-packages (from plotly) (1.3.3)\n",
      "Requirement already satisfied: six in /usr/local/envs/py3env/lib/python3.5/site-packages (from plotly) (1.10.0)\n",
      "Requirement already satisfied: pytz in /usr/local/envs/py3env/lib/python3.5/site-packages (from plotly) (2018.4)\n",
      "Requirement already satisfied: requests in /usr/local/envs/py3env/lib/python3.5/site-packages (from plotly) (2.18.4)\n",
      "Requirement already satisfied: decorator>=4.0.6 in /usr/local/envs/py3env/lib/python3.5/site-packages (from plotly) (4.4.0)\n",
      "Requirement already satisfied: nbformat>=4.2 in /usr/local/envs/py3env/lib/python3.5/site-packages (from plotly) (4.4.0)\n",
      "Requirement already satisfied: chardet<3.1.0,>=3.0.2 in /usr/local/envs/py3env/lib/python3.5/site-packages (from requests->plotly) (3.0.4)\n",
      "Requirement already satisfied: idna<2.7,>=2.5 in /usr/local/envs/py3env/lib/python3.5/site-packages (from requests->plotly) (2.6)\n",
      "Requirement already satisfied: urllib3<1.23,>=1.21.1 in /usr/local/envs/py3env/lib/python3.5/site-packages (from requests->plotly) (1.22)\n",
      "Requirement already satisfied: certifi>=2017.4.17 in /usr/local/envs/py3env/lib/python3.5/site-packages (from requests->plotly) (2018.8.24)\n",
      "Requirement already satisfied: ipython_genutils in /usr/local/envs/py3env/lib/python3.5/site-packages (from nbformat>=4.2->plotly) (0.2.0)\n",
      "Requirement already satisfied: traitlets>=4.1 in /usr/local/envs/py3env/lib/python3.5/site-packages (from nbformat>=4.2->plotly) (4.3.2)\n",
      "Requirement already satisfied: jsonschema!=2.5.0,>=2.4 in /usr/local/envs/py3env/lib/python3.5/site-packages (from nbformat>=4.2->plotly) (2.6.0)\n",
      "Requirement already satisfied: jupyter_core in /usr/local/envs/py3env/lib/python3.5/site-packages (from nbformat>=4.2->plotly) (4.4.0)\n",
      "Requirement already satisfied: cufflinks in /usr/local/envs/py3env/lib/python3.5/site-packages (0.16)\n",
      "Requirement already satisfied: numpy>=1.9.2 in /usr/local/envs/py3env/lib/python3.5/site-packages (from cufflinks) (1.14.0)\n",
      "Requirement already satisfied: colorlover>=0.2.1 in /usr/local/envs/py3env/lib/python3.5/site-packages (from cufflinks) (0.3.0)\n",
      "Requirement already satisfied: setuptools>=34.4.1 in /usr/local/envs/py3env/lib/python3.5/site-packages (from cufflinks) (40.2.0)\n",
      "Requirement already satisfied: ipython>=5.3.0 in /usr/local/envs/py3env/lib/python3.5/site-packages (from cufflinks) (6.5.0)\n",
      "Requirement already satisfied: pandas>=0.19.2 in /usr/local/envs/py3env/lib/python3.5/site-packages (from cufflinks) (0.25.1)\n",
      "Requirement already satisfied: ipywidgets>=7.0.0 in /usr/local/envs/py3env/lib/python3.5/site-packages (from cufflinks) (7.2.1)\n",
      "Requirement already satisfied: plotly<4.0.0a0,>=3.0.0 in /usr/local/envs/py3env/lib/python3.5/site-packages (from cufflinks) (3.10.0)\n",
      "Requirement already satisfied: six>=1.9.0 in /usr/local/envs/py3env/lib/python3.5/site-packages (from cufflinks) (1.10.0)\n",
      "Requirement already satisfied: decorator in /usr/local/envs/py3env/lib/python3.5/site-packages (from ipython>=5.3.0->cufflinks) (4.4.0)\n",
      "Requirement already satisfied: backcall in /usr/local/envs/py3env/lib/python3.5/site-packages (from ipython>=5.3.0->cufflinks) (0.1.0)\n",
      "Requirement already satisfied: pygments in /usr/local/envs/py3env/lib/python3.5/site-packages (from ipython>=5.3.0->cufflinks) (2.1.3)\n",
      "Requirement already satisfied: simplegeneric>0.8 in /usr/local/envs/py3env/lib/python3.5/site-packages (from ipython>=5.3.0->cufflinks) (0.8.1)\n",
      "Requirement already satisfied: prompt-toolkit<2.0.0,>=1.0.15 in /usr/local/envs/py3env/lib/python3.5/site-packages (from ipython>=5.3.0->cufflinks) (1.0.15)\n",
      "Requirement already satisfied: pexpect; sys_platform != \"win32\" in /usr/local/envs/py3env/lib/python3.5/site-packages (from ipython>=5.3.0->cufflinks) (4.6.0)\n",
      "Requirement already satisfied: pickleshare in /usr/local/envs/py3env/lib/python3.5/site-packages (from ipython>=5.3.0->cufflinks) (0.7.4)\n",
      "Requirement already satisfied: jedi>=0.10 in /usr/local/envs/py3env/lib/python3.5/site-packages (from ipython>=5.3.0->cufflinks) (0.12.1)\n",
      "Requirement already satisfied: traitlets>=4.2 in /usr/local/envs/py3env/lib/python3.5/site-packages (from ipython>=5.3.0->cufflinks) (4.3.2)\n",
      "Requirement already satisfied: pytz>=2017.2 in /usr/local/envs/py3env/lib/python3.5/site-packages (from pandas>=0.19.2->cufflinks) (2018.4)\n",
      "Requirement already satisfied: python-dateutil>=2.6.1 in /usr/local/envs/py3env/lib/python3.5/site-packages (from pandas>=0.19.2->cufflinks) (2.8.0)\n",
      "Requirement already satisfied: ipykernel>=4.5.1 in /usr/local/envs/py3env/lib/python3.5/site-packages (from ipywidgets>=7.0.0->cufflinks) (4.8.2)\n",
      "Requirement already satisfied: nbformat>=4.2.0 in /usr/local/envs/py3env/lib/python3.5/site-packages (from ipywidgets>=7.0.0->cufflinks) (4.4.0)\n",
      "Requirement already satisfied: widgetsnbextension~=3.2.0 in /usr/local/envs/py3env/lib/python3.5/site-packages (from ipywidgets>=7.0.0->cufflinks) (3.2.1)\n",
      "Requirement already satisfied: retrying>=1.3.3 in /usr/local/envs/py3env/lib/python3.5/site-packages (from plotly<4.0.0a0,>=3.0.0->cufflinks) (1.3.3)\n",
      "Requirement already satisfied: requests in /usr/local/envs/py3env/lib/python3.5/site-packages (from plotly<4.0.0a0,>=3.0.0->cufflinks) (2.18.4)\n",
      "Requirement already satisfied: wcwidth in /usr/local/envs/py3env/lib/python3.5/site-packages (from prompt-toolkit<2.0.0,>=1.0.15->ipython>=5.3.0->cufflinks) (0.1.7)\n",
      "Requirement already satisfied: ptyprocess>=0.5 in /usr/local/envs/py3env/lib/python3.5/site-packages (from pexpect; sys_platform != \"win32\"->ipython>=5.3.0->cufflinks) (0.6.0)\n",
      "Requirement already satisfied: parso>=0.3.0 in /usr/local/envs/py3env/lib/python3.5/site-packages (from jedi>=0.10->ipython>=5.3.0->cufflinks) (0.4.0)\n",
      "Requirement already satisfied: ipython_genutils in /usr/local/envs/py3env/lib/python3.5/site-packages (from traitlets>=4.2->ipython>=5.3.0->cufflinks) (0.2.0)\n",
      "Requirement already satisfied: jupyter_client in /usr/local/envs/py3env/lib/python3.5/site-packages (from ipykernel>=4.5.1->ipywidgets>=7.0.0->cufflinks) (5.2.3)\n",
      "Requirement already satisfied: tornado>=4.0 in /usr/local/envs/py3env/lib/python3.5/site-packages (from ipykernel>=4.5.1->ipywidgets>=7.0.0->cufflinks) (4.5.1)\n",
      "Requirement already satisfied: jsonschema!=2.5.0,>=2.4 in /usr/local/envs/py3env/lib/python3.5/site-packages (from nbformat>=4.2.0->ipywidgets>=7.0.0->cufflinks) (2.6.0)\n",
      "Requirement already satisfied: jupyter_core in /usr/local/envs/py3env/lib/python3.5/site-packages (from nbformat>=4.2.0->ipywidgets>=7.0.0->cufflinks) (4.4.0)\n",
      "Requirement already satisfied: notebook>=4.4.1 in /usr/local/envs/py3env/lib/python3.5/site-packages (from widgetsnbextension~=3.2.0->ipywidgets>=7.0.0->cufflinks) (5.6.0)\n",
      "Requirement already satisfied: chardet<3.1.0,>=3.0.2 in /usr/local/envs/py3env/lib/python3.5/site-packages (from requests->plotly<4.0.0a0,>=3.0.0->cufflinks) (3.0.4)\n",
      "Requirement already satisfied: idna<2.7,>=2.5 in /usr/local/envs/py3env/lib/python3.5/site-packages (from requests->plotly<4.0.0a0,>=3.0.0->cufflinks) (2.6)\n",
      "Requirement already satisfied: urllib3<1.23,>=1.21.1 in /usr/local/envs/py3env/lib/python3.5/site-packages (from requests->plotly<4.0.0a0,>=3.0.0->cufflinks) (1.22)\n",
      "Requirement already satisfied: certifi>=2017.4.17 in /usr/local/envs/py3env/lib/python3.5/site-packages (from requests->plotly<4.0.0a0,>=3.0.0->cufflinks) (2018.8.24)\n",
      "Requirement already satisfied: pyzmq>=13 in /usr/local/envs/py3env/lib/python3.5/site-packages (from jupyter_client->ipykernel>=4.5.1->ipywidgets>=7.0.0->cufflinks) (17.1.0)\n",
      "Requirement already satisfied: terminado>=0.8.1 in /usr/local/envs/py3env/lib/python3.5/site-packages (from notebook>=4.4.1->widgetsnbextension~=3.2.0->ipywidgets>=7.0.0->cufflinks) (0.8.1)\n",
      "Requirement already satisfied: jinja2 in /usr/local/envs/py3env/lib/python3.5/site-packages (from notebook>=4.4.1->widgetsnbextension~=3.2.0->ipywidgets>=7.0.0->cufflinks) (2.8)\n",
      "Requirement already satisfied: nbconvert in /usr/local/envs/py3env/lib/python3.5/site-packages (from notebook>=4.4.1->widgetsnbextension~=3.2.0->ipywidgets>=7.0.0->cufflinks) (5.5.0)\n",
      "Requirement already satisfied: prometheus-client in /usr/local/envs/py3env/lib/python3.5/site-packages (from notebook>=4.4.1->widgetsnbextension~=3.2.0->ipywidgets>=7.0.0->cufflinks) (0.3.1)\n",
      "Requirement already satisfied: Send2Trash in /usr/local/envs/py3env/lib/python3.5/site-packages (from notebook>=4.4.1->widgetsnbextension~=3.2.0->ipywidgets>=7.0.0->cufflinks) (1.5.0)\n",
      "Requirement already satisfied: MarkupSafe in /usr/local/envs/py3env/lib/python3.5/site-packages (from jinja2->notebook>=4.4.1->widgetsnbextension~=3.2.0->ipywidgets>=7.0.0->cufflinks) (1.0)\n",
      "Requirement already satisfied: defusedxml in /usr/local/envs/py3env/lib/python3.5/site-packages (from nbconvert->notebook>=4.4.1->widgetsnbextension~=3.2.0->ipywidgets>=7.0.0->cufflinks) (0.6.0)\n",
      "Requirement already satisfied: testpath in /usr/local/envs/py3env/lib/python3.5/site-packages (from nbconvert->notebook>=4.4.1->widgetsnbextension~=3.2.0->ipywidgets>=7.0.0->cufflinks) (0.3.1)\n",
      "Requirement already satisfied: pandocfilters>=1.4.1 in /usr/local/envs/py3env/lib/python3.5/site-packages (from nbconvert->notebook>=4.4.1->widgetsnbextension~=3.2.0->ipywidgets>=7.0.0->cufflinks) (1.4.2)\n",
      "Requirement already satisfied: entrypoints>=0.2.2 in /usr/local/envs/py3env/lib/python3.5/site-packages (from nbconvert->notebook>=4.4.1->widgetsnbextension~=3.2.0->ipywidgets>=7.0.0->cufflinks) (0.2.3)\n",
      "Requirement already satisfied: bleach in /usr/local/envs/py3env/lib/python3.5/site-packages (from nbconvert->notebook>=4.4.1->widgetsnbextension~=3.2.0->ipywidgets>=7.0.0->cufflinks) (2.1.2)\n",
      "Requirement already satisfied: mistune>=0.8.1 in /usr/local/envs/py3env/lib/python3.5/site-packages (from nbconvert->notebook>=4.4.1->widgetsnbextension~=3.2.0->ipywidgets>=7.0.0->cufflinks) (0.8.3)\n",
      "Requirement already satisfied: html5lib!=1.0b1,!=1.0b2,!=1.0b3,!=1.0b4,!=1.0b5,!=1.0b6,!=1.0b7,!=1.0b8,>=0.99999999pre in /usr/local/envs/py3env/lib/python3.5/site-packages (from bleach->nbconvert->notebook>=4.4.1->widgetsnbextension~=3.2.0->ipywidgets>=7.0.0->cufflinks) (1.0.1)\n",
      "Requirement already satisfied: webencodings in /usr/local/envs/py3env/lib/python3.5/site-packages (from html5lib!=1.0b1,!=1.0b2,!=1.0b3,!=1.0b4,!=1.0b5,!=1.0b6,!=1.0b7,!=1.0b8,>=0.99999999pre->bleach->nbconvert->notebook>=4.4.1->widgetsnbextension~=3.2.0->ipywidgets>=7.0.0->cufflinks) (0.5.1)\n"
     ]
    }
   ],
   "source": [
    "%bash\n",
    "pip install fbprophet\n",
    "pip install plotly\n",
    "pip install cufflinks"
   ]
  },
  {
   "cell_type": "markdown",
   "metadata": {},
   "source": [
    "## Aquí resetear la sesión"
   ]
  },
  {
   "cell_type": "code",
   "execution_count": 8,
   "metadata": {
    "codeCollapsed": false,
    "hiddenCell": true
   },
   "outputs": [
    {
     "data": {
      "text/html": [
       "        <script type=\"text/javascript\">\n",
       "        window.PlotlyConfig = {MathJaxConfig: 'local'};\n",
       "        if (window.MathJax) {MathJax.Hub.Config({SVG: {font: \"STIX-Web\"}});}\n",
       "        if (typeof require !== 'undefined') {\n",
       "        require.undef(\"plotly\");\n",
       "        requirejs.config({\n",
       "            paths: {\n",
       "                'plotly': ['https://cdn.plot.ly/plotly-latest.min']\n",
       "            }\n",
       "        });\n",
       "        require(['plotly'], function(Plotly) {\n",
       "            window._Plotly = Plotly;\n",
       "        });\n",
       "        }\n",
       "        </script>\n",
       "        "
      ]
     },
     "metadata": {},
     "output_type": "display_data"
    },
    {
     "data": {
      "text/html": [
       "        <script type=\"text/javascript\">\n",
       "        window.PlotlyConfig = {MathJaxConfig: 'local'};\n",
       "        if (window.MathJax) {MathJax.Hub.Config({SVG: {font: \"STIX-Web\"}});}\n",
       "        if (typeof require !== 'undefined') {\n",
       "        require.undef(\"plotly\");\n",
       "        requirejs.config({\n",
       "            paths: {\n",
       "                'plotly': ['https://cdn.plot.ly/plotly-latest.min']\n",
       "            }\n",
       "        });\n",
       "        require(['plotly'], function(Plotly) {\n",
       "            window._Plotly = Plotly;\n",
       "        });\n",
       "        }\n",
       "        </script>\n",
       "        "
      ]
     },
     "metadata": {},
     "output_type": "display_data"
    }
   ],
   "source": [
    "import pandas as pd\n",
    "import numpy as np\n",
    "import calendar\n",
    "from datetime import datetime\n",
    "import matplotlib.pyplot as plt\n",
    "%matplotlib inline\n",
    "\n",
    "# Facebook's Prophet forecasting library\n",
    "from fbprophet import Prophet\n",
    "\n",
    "# Standard plotly imports\n",
    "import plotly.plotly as py\n",
    "import plotly.graph_objs as go\n",
    "from plotly.offline import iplot, init_notebook_mode\n",
    "# Using plotly + cufflinks in offline mode\n",
    "import cufflinks\n",
    "cufflinks.go_offline(connected=True)\n",
    "init_notebook_mode(connected=True)"
   ]
  },
  {
   "cell_type": "markdown",
   "metadata": {},
   "source": [
    "# Pulling the data"
   ]
  },
  {
   "cell_type": "code",
   "execution_count": 9,
   "metadata": {},
   "outputs": [],
   "source": [
    "# Read in the raw temperature and emissions datasets (they are in CSV format) \n",
    "raw_t = pd.read_csv('../raw_data/GLB.Ts+dSST.csv', skiprows=1)\n",
    "raw_e = pd.read_csv('../raw_data/API_EN.ATM.CO2E.PC_DS2_en_csv_v2_10515380/API_EN.ATM.CO2E.PC_DS2_en_csv_v2_10515380.csv', skiprows=3)"
   ]
  },
  {
   "cell_type": "markdown",
   "metadata": {},
   "source": [
    "\n",
    "# Wrangling Time Series Data"
   ]
  },
  {
   "cell_type": "markdown",
   "metadata": {},
   "source": [
    "# Wrangling Temperature"
   ]
  },
  {
   "cell_type": "code",
   "execution_count": 10,
   "metadata": {
    "codeCollapsed": false
   },
   "outputs": [
    {
     "data": {
      "text/html": [
       "<div>\n",
       "<style scoped>\n",
       "    .dataframe tbody tr th:only-of-type {\n",
       "        vertical-align: middle;\n",
       "    }\n",
       "\n",
       "    .dataframe tbody tr th {\n",
       "        vertical-align: top;\n",
       "    }\n",
       "\n",
       "    .dataframe thead th {\n",
       "        text-align: right;\n",
       "    }\n",
       "</style>\n",
       "<table border=\"1\" class=\"dataframe\">\n",
       "  <thead>\n",
       "    <tr style=\"text-align: right;\">\n",
       "      <th></th>\n",
       "      <th>Avg_Anomaly_deg_C</th>\n",
       "    </tr>\n",
       "    <tr>\n",
       "      <th>date</th>\n",
       "      <th></th>\n",
       "    </tr>\n",
       "  </thead>\n",
       "  <tbody>\n",
       "    <tr>\n",
       "      <td>1880-01-31</td>\n",
       "      <td>None</td>\n",
       "    </tr>\n",
       "    <tr>\n",
       "      <td>1880-02-29</td>\n",
       "      <td>None</td>\n",
       "    </tr>\n",
       "    <tr>\n",
       "      <td>1880-03-31</td>\n",
       "      <td>None</td>\n",
       "    </tr>\n",
       "    <tr>\n",
       "      <td>1880-04-30</td>\n",
       "      <td>None</td>\n",
       "    </tr>\n",
       "    <tr>\n",
       "      <td>1880-05-31</td>\n",
       "      <td>None</td>\n",
       "    </tr>\n",
       "  </tbody>\n",
       "</table>\n",
       "</div>"
      ],
      "text/plain": [
       "           Avg_Anomaly_deg_C\n",
       "date                        \n",
       "1880-01-31              None\n",
       "1880-02-29              None\n",
       "1880-03-31              None\n",
       "1880-04-30              None\n",
       "1880-05-31              None"
      ]
     },
     "execution_count": 10,
     "metadata": {},
     "output_type": "execute_result"
    }
   ],
   "source": [
    "# Create new dataframe with an index for each month\n",
    "# First create the date range\n",
    "date_rng = pd.date_range(start='1/1/1880', end='1/03/2019', freq='M')\n",
    "\n",
    "type(date_rng[0])\n",
    "### returns \n",
    "### pandas._libs.tslibs.timestamps.Timestamp\n",
    "\n",
    "# Next create the empty DataFrame, which we will populate using the actual data\n",
    "t = pd.DataFrame(date_rng, columns=['date'])\n",
    "\n",
    "# Create a column for the anomoly values\n",
    "t['Avg_Anomaly_deg_C'] = None\n",
    "\n",
    "# Set the index of the DataFrame to the date column (DateTime index)\n",
    "t.set_index('date', inplace=True)\n",
    "\n",
    "# Show the first few elements\n",
    "t.head()"
   ]
  },
  {
   "cell_type": "code",
   "execution_count": 11,
   "metadata": {
    "codeCollapsed": false
   },
   "outputs": [
    {
     "data": {
      "text/html": [
       "<div>\n",
       "<style scoped>\n",
       "    .dataframe tbody tr th:only-of-type {\n",
       "        vertical-align: middle;\n",
       "    }\n",
       "\n",
       "    .dataframe tbody tr th {\n",
       "        vertical-align: top;\n",
       "    }\n",
       "\n",
       "    .dataframe thead th {\n",
       "        text-align: right;\n",
       "    }\n",
       "</style>\n",
       "<table border=\"1\" class=\"dataframe\">\n",
       "  <thead>\n",
       "    <tr style=\"text-align: right;\">\n",
       "      <th></th>\n",
       "      <th>Year</th>\n",
       "      <th>Jan</th>\n",
       "      <th>Feb</th>\n",
       "      <th>Mar</th>\n",
       "      <th>Apr</th>\n",
       "      <th>May</th>\n",
       "      <th>Jun</th>\n",
       "      <th>Jul</th>\n",
       "      <th>Aug</th>\n",
       "      <th>Sep</th>\n",
       "      <th>Oct</th>\n",
       "      <th>Nov</th>\n",
       "      <th>Dec</th>\n",
       "    </tr>\n",
       "  </thead>\n",
       "  <tbody>\n",
       "    <tr>\n",
       "      <td>0</td>\n",
       "      <td>1880</td>\n",
       "      <td>-0.29</td>\n",
       "      <td>-0.18</td>\n",
       "      <td>-.11</td>\n",
       "      <td>-.19</td>\n",
       "      <td>-.11</td>\n",
       "      <td>-.23</td>\n",
       "      <td>-.21</td>\n",
       "      <td>-.09</td>\n",
       "      <td>-.16</td>\n",
       "      <td>-.23</td>\n",
       "      <td>-.20</td>\n",
       "      <td>-.22</td>\n",
       "    </tr>\n",
       "    <tr>\n",
       "      <td>1</td>\n",
       "      <td>1881</td>\n",
       "      <td>-0.15</td>\n",
       "      <td>-0.17</td>\n",
       "      <td>.04</td>\n",
       "      <td>.04</td>\n",
       "      <td>.02</td>\n",
       "      <td>-.20</td>\n",
       "      <td>-.06</td>\n",
       "      <td>-.02</td>\n",
       "      <td>-.13</td>\n",
       "      <td>-.20</td>\n",
       "      <td>-.21</td>\n",
       "      <td>-.10</td>\n",
       "    </tr>\n",
       "    <tr>\n",
       "      <td>2</td>\n",
       "      <td>1882</td>\n",
       "      <td>0.15</td>\n",
       "      <td>0.15</td>\n",
       "      <td>.04</td>\n",
       "      <td>-.18</td>\n",
       "      <td>-.15</td>\n",
       "      <td>-.25</td>\n",
       "      <td>-.20</td>\n",
       "      <td>-.05</td>\n",
       "      <td>-.10</td>\n",
       "      <td>-.24</td>\n",
       "      <td>-.15</td>\n",
       "      <td>-.24</td>\n",
       "    </tr>\n",
       "    <tr>\n",
       "      <td>3</td>\n",
       "      <td>1883</td>\n",
       "      <td>-0.31</td>\n",
       "      <td>-0.38</td>\n",
       "      <td>-.12</td>\n",
       "      <td>-.16</td>\n",
       "      <td>-.19</td>\n",
       "      <td>-.12</td>\n",
       "      <td>-.08</td>\n",
       "      <td>-.15</td>\n",
       "      <td>-.20</td>\n",
       "      <td>-.14</td>\n",
       "      <td>-.22</td>\n",
       "      <td>-.15</td>\n",
       "    </tr>\n",
       "    <tr>\n",
       "      <td>4</td>\n",
       "      <td>1884</td>\n",
       "      <td>-0.15</td>\n",
       "      <td>-0.08</td>\n",
       "      <td>-.37</td>\n",
       "      <td>-.42</td>\n",
       "      <td>-.36</td>\n",
       "      <td>-.40</td>\n",
       "      <td>-.34</td>\n",
       "      <td>-.26</td>\n",
       "      <td>-.27</td>\n",
       "      <td>-.24</td>\n",
       "      <td>-.29</td>\n",
       "      <td>-.28</td>\n",
       "    </tr>\n",
       "  </tbody>\n",
       "</table>\n",
       "</div>"
      ],
      "text/plain": [
       "   Year   Jan   Feb   Mar   Apr   May   Jun   Jul   Aug   Sep   Oct   Nov  \\\n",
       "0  1880 -0.29 -0.18  -.11  -.19  -.11  -.23  -.21  -.09  -.16  -.23  -.20   \n",
       "1  1881 -0.15 -0.17   .04   .04   .02  -.20  -.06  -.02  -.13  -.20  -.21   \n",
       "2  1882  0.15  0.15   .04  -.18  -.15  -.25  -.20  -.05  -.10  -.24  -.15   \n",
       "3  1883 -0.31 -0.38  -.12  -.16  -.19  -.12  -.08  -.15  -.20  -.14  -.22   \n",
       "4  1884 -0.15 -0.08  -.37  -.42  -.36  -.40  -.34  -.26  -.27  -.24  -.29   \n",
       "\n",
       "    Dec  \n",
       "0  -.22  \n",
       "1  -.10  \n",
       "2  -.24  \n",
       "3  -.15  \n",
       "4  -.28  "
      ]
     },
     "execution_count": 11,
     "metadata": {},
     "output_type": "execute_result"
    }
   ],
   "source": [
    "# We only want the monthly data, lets only select that and leave out the seasonal columns \n",
    "raw_t = raw_t.iloc[:,:13]\n",
    "raw_t.head()"
   ]
  },
  {
   "cell_type": "code",
   "execution_count": 12,
   "metadata": {
    "codeCollapsed": false
   },
   "outputs": [
    {
     "data": {
      "text/html": [
       "<div>\n",
       "<style scoped>\n",
       "    .dataframe tbody tr th:only-of-type {\n",
       "        vertical-align: middle;\n",
       "    }\n",
       "\n",
       "    .dataframe tbody tr th {\n",
       "        vertical-align: top;\n",
       "    }\n",
       "\n",
       "    .dataframe thead th {\n",
       "        text-align: right;\n",
       "    }\n",
       "</style>\n",
       "<table border=\"1\" class=\"dataframe\">\n",
       "  <thead>\n",
       "    <tr style=\"text-align: right;\">\n",
       "      <th></th>\n",
       "      <th>Avg_Anomaly_deg_C</th>\n",
       "    </tr>\n",
       "    <tr>\n",
       "      <th>date</th>\n",
       "      <th></th>\n",
       "    </tr>\n",
       "  </thead>\n",
       "  <tbody>\n",
       "    <tr>\n",
       "      <td>1880-01-31</td>\n",
       "      <td>-0.29</td>\n",
       "    </tr>\n",
       "    <tr>\n",
       "      <td>1880-02-29</td>\n",
       "      <td>-0.18</td>\n",
       "    </tr>\n",
       "    <tr>\n",
       "      <td>1880-03-31</td>\n",
       "      <td>-.11</td>\n",
       "    </tr>\n",
       "    <tr>\n",
       "      <td>1880-04-30</td>\n",
       "      <td>-.19</td>\n",
       "    </tr>\n",
       "    <tr>\n",
       "      <td>1880-05-31</td>\n",
       "      <td>-.11</td>\n",
       "    </tr>\n",
       "  </tbody>\n",
       "</table>\n",
       "</div>"
      ],
      "text/plain": [
       "           Avg_Anomaly_deg_C\n",
       "date                        \n",
       "1880-01-31             -0.29\n",
       "1880-02-29             -0.18\n",
       "1880-03-31              -.11\n",
       "1880-04-30              -.19\n",
       "1880-05-31              -.11"
      ]
     },
     "execution_count": 12,
     "metadata": {},
     "output_type": "execute_result"
    }
   ],
   "source": [
    "# Import relevant libraries\n",
    "import calendar\n",
    "from datetime import datetime\n",
    "\n",
    "# Function definition\n",
    "def populate_df_with_anomolies_from_row(row):\n",
    "    year = row['Year']\n",
    "    # Anomaly values (they seem to be a mixture of strings and floats)\n",
    "    monthly_anomolies = row.iloc[1:]\n",
    "    # Abbreviated month names (index names)\n",
    "    months = monthly_anomolies.index\n",
    "    for month in monthly_anomolies.index:\n",
    "        # Get the last day for each month \n",
    "        last_day = calendar.monthrange(year,datetime.strptime(month, '%b').month)[1]\n",
    "        # construct the index with which we can reference our new DataFrame (to populate) \n",
    "       \n",
    "        date_index = datetime.strptime(\"{} {} {}\".format(year, month, last_day), '%Y %b %d')\n",
    "        # Populate / set value @ above index, to anomaly value\n",
    "        t.loc[date_index] = monthly_anomolies[month]\n",
    "\n",
    "# Apply function to each row of raw data \n",
    "_ = raw_t.apply(lambda row: populate_df_with_anomolies_from_row(row), axis=1)\n",
    "\n",
    "# Show the first few elements of our newly populated DataFrame\n",
    "t.head()"
   ]
  },
  {
   "cell_type": "code",
   "execution_count": 13,
   "metadata": {
    "codeCollapsed": false
   },
   "outputs": [
    {
     "data": {
      "text/html": [
       "<div>\n",
       "<style scoped>\n",
       "    .dataframe tbody tr th:only-of-type {\n",
       "        vertical-align: middle;\n",
       "    }\n",
       "\n",
       "    .dataframe tbody tr th {\n",
       "        vertical-align: top;\n",
       "    }\n",
       "\n",
       "    .dataframe thead th {\n",
       "        text-align: right;\n",
       "    }\n",
       "</style>\n",
       "<table border=\"1\" class=\"dataframe\">\n",
       "  <thead>\n",
       "    <tr style=\"text-align: right;\">\n",
       "      <th></th>\n",
       "      <th>Avg_Anomaly_deg_C</th>\n",
       "    </tr>\n",
       "    <tr>\n",
       "      <th>date</th>\n",
       "      <th></th>\n",
       "    </tr>\n",
       "  </thead>\n",
       "  <tbody>\n",
       "    <tr>\n",
       "      <td>1880-01-31</td>\n",
       "      <td>-0.29</td>\n",
       "    </tr>\n",
       "    <tr>\n",
       "      <td>1880-02-29</td>\n",
       "      <td>-0.18</td>\n",
       "    </tr>\n",
       "    <tr>\n",
       "      <td>1880-03-31</td>\n",
       "      <td>-0.11</td>\n",
       "    </tr>\n",
       "    <tr>\n",
       "      <td>1880-04-30</td>\n",
       "      <td>-0.19</td>\n",
       "    </tr>\n",
       "    <tr>\n",
       "      <td>1880-05-31</td>\n",
       "      <td>-0.11</td>\n",
       "    </tr>\n",
       "  </tbody>\n",
       "</table>\n",
       "</div>"
      ],
      "text/plain": [
       "            Avg_Anomaly_deg_C\n",
       "date                         \n",
       "1880-01-31              -0.29\n",
       "1880-02-29              -0.18\n",
       "1880-03-31              -0.11\n",
       "1880-04-30              -0.19\n",
       "1880-05-31              -0.11"
      ]
     },
     "execution_count": 13,
     "metadata": {},
     "output_type": "execute_result"
    }
   ],
   "source": [
    "# Import Numpy, as library meant for large arrays - we will use it that we \n",
    "import numpy as np\n",
    "\n",
    "# Define function to convert values to floats, and return a 'NaN = Not a Number' if this is not possible\n",
    "def clean_anomaly_value(raw_value):\n",
    "    try:\n",
    "        return float(raw_value)\n",
    "    except:\n",
    "        return np.NaN\n",
    "    \n",
    "# Apply above function to all anomaly values in DataFrame\n",
    "t['Avg_Anomaly_deg_C'] = t['Avg_Anomaly_deg_C'].apply(lambda raw_value: clean_anomaly_value(raw_value))\n",
    "\n",
    "# 'Forward fill' to take care of NaN values\n",
    "t.fillna(method='ffill', inplace=True)\n",
    "\n",
    "# Show the first few elements of our newly cleaned DataFrame\n",
    "t.head()"
   ]
  },
  {
   "cell_type": "code",
   "execution_count": 15,
   "metadata": {
    "codeCollapsed": false
   },
   "outputs": [
    {
     "data": {
      "text/plain": [
       "[<matplotlib.lines.Line2D at 0x7f24c6adcf28>]"
      ]
     },
     "execution_count": 15,
     "metadata": {},
     "output_type": "execute_result"
    },
    {
     "name": "stderr",
     "output_type": "stream",
     "text": [
      "/usr/local/envs/py3env/lib/python3.5/site-packages/matplotlib/font_manager.py:1320: UserWarning:\n",
      "\n",
      "findfont: Font family ['sans-serif'] not found. Falling back to DejaVu Sans\n",
      "\n"
     ]
    },
    {
     "data": {
      "image/png": "[encoded data removed]",
      "text/plain": [
       "<matplotlib.figure.Figure at 0x7f24d19a1160>"
      ]
     },
     "metadata": {},
     "output_type": "display_data"
    }
   ],
   "source": [
    "# Plot the data - quick and easy - using matplotlib, we will draw prettier graphs later\n",
    "\n",
    "# Import Matplotlib\n",
    "import matplotlib.pyplot as plt\n",
    "# Allow for rendering within notebook\n",
    "%matplotlib inline\n",
    "\n",
    "# Create figure, title and plot data\n",
    "plt.figure(figsize=(10,8))\n",
    "plt.xlabel('Time')\n",
    "plt.ylabel('Temperature Anomaly (°Celsius)')\n",
    "plt.plot(t, color='#1C7C54', linewidth=1.0)"
   ]
  },
  {
   "cell_type": "markdown",
   "metadata": {},
   "source": [
    "# Wrangling Emisiones C02"
   ]
  },
  {
   "cell_type": "markdown",
   "metadata": {},
   "source": [
    "## =========================================================================================\n",
    "## ===================================== GLOBAL ============================================"
   ]
  },
  {
   "cell_type": "markdown",
   "metadata": {},
   "source": [
    "### Emisiones C02 Global entre los años 1960-2018 "
   ]
  },
  {
   "cell_type": "code",
   "execution_count": 16,
   "metadata": {
    "codeCollapsed": false
   },
   "outputs": [
    {
     "data": {
      "text/html": [
       "<div>\n",
       "<style scoped>\n",
       "    .dataframe tbody tr th:only-of-type {\n",
       "        vertical-align: middle;\n",
       "    }\n",
       "\n",
       "    .dataframe tbody tr th {\n",
       "        vertical-align: top;\n",
       "    }\n",
       "\n",
       "    .dataframe thead th {\n",
       "        text-align: right;\n",
       "    }\n",
       "</style>\n",
       "<table border=\"1\" class=\"dataframe\">\n",
       "  <thead>\n",
       "    <tr style=\"text-align: right;\">\n",
       "      <th></th>\n",
       "      <th>Global CO2 Emissions per Capita</th>\n",
       "    </tr>\n",
       "    <tr>\n",
       "      <th>date</th>\n",
       "      <th></th>\n",
       "    </tr>\n",
       "  </thead>\n",
       "  <tbody>\n",
       "    <tr>\n",
       "      <td>1960-12-31</td>\n",
       "      <td>3.099013</td>\n",
       "    </tr>\n",
       "    <tr>\n",
       "      <td>1961-12-31</td>\n",
       "      <td>3.069727</td>\n",
       "    </tr>\n",
       "    <tr>\n",
       "      <td>1962-12-31</td>\n",
       "      <td>3.140511</td>\n",
       "    </tr>\n",
       "    <tr>\n",
       "      <td>1963-12-31</td>\n",
       "      <td>3.244499</td>\n",
       "    </tr>\n",
       "    <tr>\n",
       "      <td>1964-12-31</td>\n",
       "      <td>3.360596</td>\n",
       "    </tr>\n",
       "  </tbody>\n",
       "</table>\n",
       "</div>"
      ],
      "text/plain": [
       "            Global CO2 Emissions per Capita\n",
       "date                                       \n",
       "1960-12-31                         3.099013\n",
       "1961-12-31                         3.069727\n",
       "1962-12-31                         3.140511\n",
       "1963-12-31                         3.244499\n",
       "1964-12-31                         3.360596"
      ]
     },
     "execution_count": 16,
     "metadata": {},
     "output_type": "execute_result"
    }
   ],
   "source": [
    "# Define function to pull value from raw data, using DateIndex from new DataFrame row\n",
    "def populate_df(row):\n",
    "    index = str(row['date'].year)\n",
    "    value = raw_e_world.loc[index]\n",
    "    return value\n",
    "  \n",
    "# Select just the co2 emissions for the 'world', and the columns for the years 1960-2018 \n",
    "raw_e_world = raw_e[raw_e['Country Name']=='World'].loc[:,'1960':'2018']\n",
    "\n",
    "# 'Traspose' the resulting slice, making the columns become rows and vice versa\n",
    "raw_e_world = raw_e_world.T\n",
    "raw_e_world.columns = ['value']\n",
    "\n",
    "# Create a new DataFrame with a daterange the same the range for.. \n",
    "# the Temperature data (after resampling to years)\n",
    "date_rng = pd.date_range(start='31/12/1960', end='31/12/2018', freq='y')\n",
    "e = pd.DataFrame(date_rng, columns=['date'])\n",
    "\n",
    "# Populate the new DataFrame using the values from the raw data slice\n",
    "v = e.apply(lambda row: populate_df(row), axis=1)\n",
    "e['Global CO2 Emissions per Capita'] = v\n",
    "e.set_index('date', inplace=True)\n",
    "e.head()"
   ]
  },
  {
   "cell_type": "markdown",
   "metadata": {},
   "source": [
    "### Emisiones C02 Global después del año 2011"
   ]
  },
  {
   "cell_type": "code",
   "execution_count": 18,
   "metadata": {
    "codeCollapsed": false
   },
   "outputs": [
    {
     "data": {
      "text/html": [
       "<div>\n",
       "<style scoped>\n",
       "    .dataframe tbody tr th:only-of-type {\n",
       "        vertical-align: middle;\n",
       "    }\n",
       "\n",
       "    .dataframe tbody tr th {\n",
       "        vertical-align: top;\n",
       "    }\n",
       "\n",
       "    .dataframe thead th {\n",
       "        text-align: right;\n",
       "    }\n",
       "</style>\n",
       "<table border=\"1\" class=\"dataframe\">\n",
       "  <thead>\n",
       "    <tr style=\"text-align: right;\">\n",
       "      <th></th>\n",
       "      <th>Global CO2 Emissions per Capita</th>\n",
       "    </tr>\n",
       "    <tr>\n",
       "      <th>date</th>\n",
       "      <th></th>\n",
       "    </tr>\n",
       "  </thead>\n",
       "  <tbody>\n",
       "    <tr>\n",
       "      <td>2012-12-31</td>\n",
       "      <td>4.996211</td>\n",
       "    </tr>\n",
       "    <tr>\n",
       "      <td>2013-12-31</td>\n",
       "      <td>4.987739</td>\n",
       "    </tr>\n",
       "    <tr>\n",
       "      <td>2014-12-31</td>\n",
       "      <td>4.969974</td>\n",
       "    </tr>\n",
       "    <tr>\n",
       "      <td>2015-12-31</td>\n",
       "      <td>NaN</td>\n",
       "    </tr>\n",
       "    <tr>\n",
       "      <td>2016-12-31</td>\n",
       "      <td>NaN</td>\n",
       "    </tr>\n",
       "    <tr>\n",
       "      <td>2017-12-31</td>\n",
       "      <td>NaN</td>\n",
       "    </tr>\n",
       "    <tr>\n",
       "      <td>2018-12-31</td>\n",
       "      <td>NaN</td>\n",
       "    </tr>\n",
       "  </tbody>\n",
       "</table>\n",
       "</div>"
      ],
      "text/plain": [
       "            Global CO2 Emissions per Capita\n",
       "date                                       \n",
       "2012-12-31                         4.996211\n",
       "2013-12-31                         4.987739\n",
       "2014-12-31                         4.969974\n",
       "2015-12-31                              NaN\n",
       "2016-12-31                              NaN\n",
       "2017-12-31                              NaN\n",
       "2018-12-31                              NaN"
      ]
     },
     "execution_count": 18,
     "metadata": {},
     "output_type": "execute_result"
    }
   ],
   "source": [
    "# Illustrate how the above DataFrame can be filtered for values after 2011\n",
    "e[e.index.year>2011]"
   ]
  },
  {
   "cell_type": "markdown",
   "metadata": {},
   "source": [
    "### Emisiones C02 Global entre los años 1984 - 1989"
   ]
  },
  {
   "cell_type": "code",
   "execution_count": 19,
   "metadata": {
    "codeCollapsed": false
   },
   "outputs": [
    {
     "data": {
      "text/html": [
       "<div>\n",
       "<style scoped>\n",
       "    .dataframe tbody tr th:only-of-type {\n",
       "        vertical-align: middle;\n",
       "    }\n",
       "\n",
       "    .dataframe tbody tr th {\n",
       "        vertical-align: top;\n",
       "    }\n",
       "\n",
       "    .dataframe thead th {\n",
       "        text-align: right;\n",
       "    }\n",
       "</style>\n",
       "<table border=\"1\" class=\"dataframe\">\n",
       "  <thead>\n",
       "    <tr style=\"text-align: right;\">\n",
       "      <th></th>\n",
       "      <th>Global CO2 Emissions per Capita</th>\n",
       "    </tr>\n",
       "    <tr>\n",
       "      <th>date</th>\n",
       "      <th></th>\n",
       "    </tr>\n",
       "  </thead>\n",
       "  <tbody>\n",
       "    <tr>\n",
       "      <td>1984-12-31</td>\n",
       "      <td>4.019671</td>\n",
       "    </tr>\n",
       "    <tr>\n",
       "      <td>1985-12-31</td>\n",
       "      <td>4.068895</td>\n",
       "    </tr>\n",
       "    <tr>\n",
       "      <td>1986-12-31</td>\n",
       "      <td>4.118996</td>\n",
       "    </tr>\n",
       "    <tr>\n",
       "      <td>1987-12-31</td>\n",
       "      <td>4.146842</td>\n",
       "    </tr>\n",
       "    <tr>\n",
       "      <td>1988-12-31</td>\n",
       "      <td>4.221216</td>\n",
       "    </tr>\n",
       "    <tr>\n",
       "      <td>1989-12-31</td>\n",
       "      <td>4.238247</td>\n",
       "    </tr>\n",
       "  </tbody>\n",
       "</table>\n",
       "</div>"
      ],
      "text/plain": [
       "            Global CO2 Emissions per Capita\n",
       "date                                       \n",
       "1984-12-31                         4.019671\n",
       "1985-12-31                         4.068895\n",
       "1986-12-31                         4.118996\n",
       "1987-12-31                         4.146842\n",
       "1988-12-31                         4.221216\n",
       "1989-12-31                         4.238247"
      ]
     },
     "execution_count": 19,
     "metadata": {},
     "output_type": "execute_result"
    }
   ],
   "source": [
    "# Deal with the NaNs by 'forward filling'\n",
    "e.fillna(method='ffill', inplace=True)\n",
    "e['1984-01-04':'1990-01-06']"
   ]
  },
  {
   "cell_type": "markdown",
   "metadata": {},
   "source": [
    "## =========================================================================================\n",
    "## ===================================== CHILE ============================================"
   ]
  },
  {
   "cell_type": "markdown",
   "metadata": {},
   "source": [
    "### Emisiones C02 en Chile entre los años 1960-2018\n"
   ]
  },
  {
   "cell_type": "code",
   "execution_count": 33,
   "metadata": {
    "codeCollapsed": false
   },
   "outputs": [
    {
     "data": {
      "text/html": [
       "<div>\n",
       "<style scoped>\n",
       "    .dataframe tbody tr th:only-of-type {\n",
       "        vertical-align: middle;\n",
       "    }\n",
       "\n",
       "    .dataframe tbody tr th {\n",
       "        vertical-align: top;\n",
       "    }\n",
       "\n",
       "    .dataframe thead th {\n",
       "        text-align: right;\n",
       "    }\n",
       "</style>\n",
       "<table border=\"1\" class=\"dataframe\">\n",
       "  <thead>\n",
       "    <tr style=\"text-align: right;\">\n",
       "      <th></th>\n",
       "      <th>Chile CO2 Emissions per Capita</th>\n",
       "    </tr>\n",
       "    <tr>\n",
       "      <th>date</th>\n",
       "      <th></th>\n",
       "    </tr>\n",
       "  </thead>\n",
       "  <tbody>\n",
       "    <tr>\n",
       "      <td>1960-12-31</td>\n",
       "      <td>1.748289</td>\n",
       "    </tr>\n",
       "    <tr>\n",
       "      <td>1961-12-31</td>\n",
       "      <td>1.834393</td>\n",
       "    </tr>\n",
       "    <tr>\n",
       "      <td>1962-12-31</td>\n",
       "      <td>2.073250</td>\n",
       "    </tr>\n",
       "    <tr>\n",
       "      <td>1963-12-31</td>\n",
       "      <td>2.104406</td>\n",
       "    </tr>\n",
       "    <tr>\n",
       "      <td>1964-12-31</td>\n",
       "      <td>2.078630</td>\n",
       "    </tr>\n",
       "  </tbody>\n",
       "</table>\n",
       "</div>"
      ],
      "text/plain": [
       "            Chile CO2 Emissions per Capita\n",
       "date                                      \n",
       "1960-12-31                        1.748289\n",
       "1961-12-31                        1.834393\n",
       "1962-12-31                        2.073250\n",
       "1963-12-31                        2.104406\n",
       "1964-12-31                        2.078630"
      ]
     },
     "execution_count": 33,
     "metadata": {},
     "output_type": "execute_result"
    }
   ],
   "source": [
    "# Define function to pull value from raw data, using DateIndex from new DataFrame row\n",
    "def populate_df(row):\n",
    "    index = str(row['date'].year)\n",
    "    value = raw_e_chile.loc[index]\n",
    "    return value\n",
    "  \n",
    "# Select just the co2 emissions for the 'world', and the columns for the years 1960-2018 \n",
    "raw_e_chile = raw_e[raw_e['Country Name']=='Chile'].loc[:,'1960':'2018']\n",
    "\n",
    "# 'Traspose' the resulting slice, making the columns become rows and vice versa\n",
    "raw_e_chile = raw_e_chile.T\n",
    "raw_e_chile.columns = ['value']\n",
    "\n",
    "# Create a new DataFrame with a daterange the same the range for.. \n",
    "# the Temperature data (after resampling to years)\n",
    "date_rng = pd.date_range(start='31/12/1960', end='31/12/2018', freq='y')\n",
    "e = pd.DataFrame(date_rng, columns=['date'])\n",
    "\n",
    "# Populate the new DataFrame using the values from the raw data slice\n",
    "v = e.apply(lambda row: populate_df(row), axis=1)\n",
    "e['Chile CO2 Emissions per Capita'] = v\n",
    "e.set_index('date', inplace=True)\n",
    "e.head()"
   ]
  },
  {
   "cell_type": "markdown",
   "metadata": {},
   "source": [
    "# Visualizing Time Series Data"
   ]
  },
  {
   "cell_type": "markdown",
   "metadata": {},
   "source": [
    "## Plotting Temperature with Plotly"
   ]
  },
  {
   "cell_type": "code",
   "execution_count": 47,
   "metadata": {
    "codeCollapsed": false,
    "hiddenCell": true
   },
   "outputs": [
    {
     "data": {
      "text/html": [
       "        <script type=\"text/javascript\">\n",
       "        window.PlotlyConfig = {MathJaxConfig: 'local'};\n",
       "        if (window.MathJax) {MathJax.Hub.Config({SVG: {font: \"STIX-Web\"}});}\n",
       "        if (typeof require !== 'undefined') {\n",
       "        require.undef(\"plotly\");\n",
       "        requirejs.config({\n",
       "            paths: {\n",
       "                'plotly': ['https://cdn.plot.ly/plotly-latest.min']\n",
       "            }\n",
       "        });\n",
       "        require(['plotly'], function(Plotly) {\n",
       "            window._Plotly = Plotly;\n",
       "        });\n",
       "        }\n",
       "        </script>\n",
       "        "
      ]
     },
     "metadata": {},
     "output_type": "display_data"
    },
    {
     "data": {
      "text/html": [
       "        <script type=\"text/javascript\">\n",
       "        window.PlotlyConfig = {MathJaxConfig: 'local'};\n",
       "        if (window.MathJax) {MathJax.Hub.Config({SVG: {font: \"STIX-Web\"}});}\n",
       "        if (typeof require !== 'undefined') {\n",
       "        require.undef(\"plotly\");\n",
       "        requirejs.config({\n",
       "            paths: {\n",
       "                'plotly': ['https://cdn.plot.ly/plotly-latest.min']\n",
       "            }\n",
       "        });\n",
       "        require(['plotly'], function(Plotly) {\n",
       "            window._Plotly = Plotly;\n",
       "        });\n",
       "        }\n",
       "        </script>\n",
       "        "
      ]
     },
     "metadata": {},
     "output_type": "display_data"
    }
   ],
   "source": [
    "# Standard plotly imports\n",
    "import plotly.plotly as py\n",
    "import plotly.graph_objs as go\n",
    "from plotly.offline import iplot, init_notebook_mode\n",
    "# Using plotly + cufflinks in offline mode\n",
    "import cufflinks\n",
    "cufflinks.go_offline(connected=True)\n",
    "init_notebook_mode(connected=True)"
   ]
  },
  {
   "cell_type": "code",
   "execution_count": 37,
   "metadata": {
    "codeCollapsed": false
   },
   "outputs": [
    {
     "data": {
      "application/vnd.plotly.v1+json": {
       "config": {
        "linkText": "Export to plot.ly",
        "plotlyServerURL": "https://plot.ly",
        "showLink": true
       },
       "data": [
        {
         "line": {
          "color": "rgba(28, 124, 84, 1.0)",
          "dash": "solid",
          "shape": "linear",
          "width": 1.3
         },
         "mode": "lines",
         "name": "Avg_Anomaly_deg_C",
         "text": "",
         "type": "scatter",
         "uid": "c6f370b1-c336-4f66-88bb-82384c3bf62c",
         "x": [
          "1880-12-31",
          "1881-12-31",
          "1882-12-31",
          "1883-12-31",
          "1884-12-31",
          "1885-12-31",
          "1886-12-31",
          "1887-12-31",
          "1888-12-31",
          "1889-12-31",
          "1890-12-31",
          "1891-12-31",
          "1892-12-31",
          "1893-12-31",
          "1894-12-31",
          "1895-12-31",
          "1896-12-31",
          "1897-12-31",
          "1898-12-31",
          "1899-12-31",
          "1900-12-31",
          "1901-12-31",
          "1902-12-31",
          "1903-12-31",
          "1904-12-31",
          "1905-12-31",
          "1906-12-31",
          "1907-12-31",
          "1908-12-31",
          "1909-12-31",
          "1910-12-31",
          "1911-12-31",
          "1912-12-31",
          "1913-12-31",
          "1914-12-31",
          "1915-12-31",
          "1916-12-31",
          "1917-12-31",
          "1918-12-31",
          "1919-12-31",
          "1920-12-31",
          "1921-12-31",
          "1922-12-31",
          "1923-12-31",
          "1924-12-31",
          "1925-12-31",
          "1926-12-31",
          "1927-12-31",
          "1928-12-31",
          "1929-12-31",
          "1930-12-31",
          "1931-12-31",
          "1932-12-31",
          "1933-12-31",
          "1934-12-31",
          "1935-12-31",
          "1936-12-31",
          "1937-12-31",
          "1938-12-31",
          "1939-12-31",
          "1940-12-31",
          "1941-12-31",
          "1942-12-31",
          "1943-12-31",
          "1944-12-31",
          "1945-12-31",
          "1946-12-31",
          "1947-12-31",
          "1948-12-31",
          "1949-12-31",
          "1950-12-31",
          "1951-12-31",
          "1952-12-31",
          "1953-12-31",
          "1954-12-31",
          "1955-12-31",
          "1956-12-31",
          "1957-12-31",
          "1958-12-31",
          "1959-12-31",
          "1960-12-31",
          "1961-12-31",
          "1962-12-31",
          "1963-12-31",
          "1964-12-31",
          "1965-12-31",
          "1966-12-31",
          "1967-12-31",
          "1968-12-31",
          "1969-12-31",
          "1970-12-31",
          "1971-12-31",
          "1972-12-31",
          "1973-12-31",
          "1974-12-31",
          "1975-12-31",
          "1976-12-31",
          "1977-12-31",
          "1978-12-31",
          "1979-12-31",
          "1980-12-31",
          "1981-12-31",
          "1982-12-31",
          "1983-12-31",
          "1984-12-31",
          "1985-12-31",
          "1986-12-31",
          "1987-12-31",
          "1988-12-31",
          "1989-12-31",
          "1990-12-31",
          "1991-12-31",
          "1992-12-31",
          "1993-12-31",
          "1994-12-31",
          "1995-12-31",
          "1996-12-31",
          "1997-12-31",
          "1998-12-31",
          "1999-12-31",
          "2000-12-31",
          "2001-12-31",
          "2002-12-31",
          "2003-12-31",
          "2004-12-31",
          "2005-12-31",
          "2006-12-31",
          "2007-12-31",
          "2008-12-31",
          "2009-12-31",
          "2010-12-31",
          "2011-12-31",
          "2012-12-31",
          "2013-12-31",
          "2014-12-31",
          "2015-12-31",
          "2016-12-31",
          "2017-12-31",
          "2018-12-31",
          "2019-12-31"
         ],
         "y": [
          -0.18500000000000003,
          -0.09500000000000001,
          -0.10166666666666668,
          -0.18499999999999997,
          -0.28833333333333333,
          -0.30916666666666665,
          -0.3166666666666667,
          -0.3491666666666666,
          -0.18083333333333332,
          -0.11166666666666668,
          -0.3725,
          -0.2358333333333333,
          -0.26499999999999996,
          -0.3166666666666667,
          -0.31333333333333335,
          -0.22250000000000003,
          -0.11166666666666665,
          -0.11499999999999999,
          -0.2783333333333333,
          -0.18166666666666664,
          -0.08833333333333333,
          -0.15333333333333335,
          -0.3016666666666667,
          -0.38916666666666666,
          -0.4891666666666666,
          -0.28500000000000003,
          -0.22333333333333336,
          -0.39333333333333337,
          -0.4316666666666667,
          -0.4716666666666666,
          -0.42833333333333323,
          -0.43083333333333335,
          -0.3558333333333333,
          -0.3516666666666666,
          -0.15583333333333332,
          -0.12000000000000001,
          -0.3275,
          -0.4383333333333334,
          -0.2825,
          -0.2691666666666667,
          -0.2566666666666667,
          -0.17500000000000002,
          -0.27166666666666667,
          -0.24583333333333335,
          -0.25333333333333335,
          -0.20583333333333334,
          -0.09000000000000001,
          -0.20416666666666664,
          -0.18666666666666665,
          -0.34583333333333327,
          -0.14583333333333334,
          -0.09833333333333337,
          -0.16416666666666668,
          -0.29583333333333334,
          -0.1366666666666667,
          -0.205,
          -0.15833333333333335,
          -0.03833333333333334,
          -0.03166666666666667,
          -0.029999999999999985,
          0.11249999999999999,
          0.18166666666666667,
          0.05416666666666666,
          0.07083333333333335,
          0.20750000000000002,
          0.08583333333333333,
          -0.07166666666666667,
          -0.03666666666666666,
          -0.10333333333333332,
          -0.1075,
          -0.18250000000000002,
          -0.06666666666666667,
          0.0066666666666666645,
          0.06833333333333334,
          -0.1475,
          -0.14666666666666667,
          -0.205,
          0.0425,
          0.06666666666666668,
          0.025833333333333337,
          -0.02166666666666667,
          0.05583333333333334,
          0.03833333333333334,
          0.07,
          -0.19583333333333333,
          -0.10500000000000002,
          -0.04750000000000001,
          -0.020833333333333332,
          -0.07333333333333335,
          0.06833333333333334,
          0.03166666666666666,
          -0.09000000000000001,
          0.016666666666666666,
          0.1625,
          -0.08249999999999999,
          -0.01416666666666667,
          -0.10833333333333334,
          0.17,
          0.06416666666666668,
          0.16,
          0.2725,
          0.32999999999999996,
          0.13249999999999998,
          0.31250000000000006,
          0.16249999999999998,
          0.11916666666666668,
          0.18333333333333332,
          0.3325000000000001,
          0.4066666666666667,
          0.28750000000000003,
          0.43583333333333335,
          0.4083333333333334,
          0.2175,
          0.23583333333333337,
          0.3066666666666667,
          0.44333333333333336,
          0.3325,
          0.4649999999999999,
          0.6225,
          0.3966666666666667,
          0.39999999999999997,
          0.5325,
          0.6233333333333334,
          0.6075,
          0.535,
          0.6708333333333333,
          0.6175,
          0.6383333333333333,
          0.515,
          0.6333333333333333,
          0.6974999999999999,
          0.5833333333333334,
          0.6158333333333333,
          0.6450000000000001,
          0.7308333333333333,
          0.8641666666666666,
          0.9883333333333334,
          0.9000000000000002,
          0.8233333333333334,
          0.9158333333333334
         ]
        }
       ],
       "layout": {
        "legend": {
         "bgcolor": "#F5F6F9",
         "font": {
          "color": "#4D5663"
         }
        },
        "paper_bgcolor": "#F5F6F9",
        "plot_bgcolor": "#F5F6F9",
        "title": {
         "font": {
          "color": "#4D5663"
         },
         "text": "Global Temperature Anomalies"
        },
        "xaxis": {
         "gridcolor": "#E1E5ED",
         "showgrid": true,
         "tickfont": {
          "color": "#4D5663"
         },
         "title": {
          "font": {
           "color": "#4D5663"
          },
          "text": "Time (years)"
         },
         "zerolinecolor": "#E1E5ED"
        },
        "yaxis": {
         "gridcolor": "#E1E5ED",
         "showgrid": true,
         "tickfont": {
          "color": "#4D5663"
         },
         "title": {
          "font": {
           "color": "#4D5663"
          },
          "text": "Temperature Anomaly (deg. Celsius)"
         },
         "zerolinecolor": "#E1E5ED"
        }
       }
      },
      "text/html": [
       "<div>\n",
       "        \n",
       "        \n",
       "            <div id=\"9b01cd43-69cb-4123-9055-cf6799ec2122\" class=\"plotly-graph-div\" style=\"height:525px; width:100%;\"></div>\n",
       "            <script type=\"text/javascript\">\n",
       "                require([\"plotly\"], function(Plotly) {\n",
       "                    window.PLOTLYENV=window.PLOTLYENV || {};\n",
       "                    window.PLOTLYENV.BASE_URL='https://plot.ly';\n",
       "                    \n",
       "                if (document.getElementById(\"9b01cd43-69cb-4123-9055-cf6799ec2122\")) {\n",
       "                    Plotly.newPlot(\n",
       "                        '9b01cd43-69cb-4123-9055-cf6799ec2122',\n",
       "                        [{\"line\": {\"color\": \"rgba(28, 124, 84, 1.0)\", \"dash\": \"solid\", \"shape\": \"linear\", \"width\": 1.3}, \"mode\": \"lines\", \"name\": \"Avg_Anomaly_deg_C\", \"text\": \"\", \"type\": \"scatter\", \"uid\": \"c6f370b1-c336-4f66-88bb-82384c3bf62c\", \"x\": [\"1880-12-31\", \"1881-12-31\", \"1882-12-31\", \"1883-12-31\", \"1884-12-31\", \"1885-12-31\", \"1886-12-31\", \"1887-12-31\", \"1888-12-31\", \"1889-12-31\", \"1890-12-31\", \"1891-12-31\", \"1892-12-31\", \"1893-12-31\", \"1894-12-31\", \"1895-12-31\", \"1896-12-31\", \"1897-12-31\", \"1898-12-31\", \"1899-12-31\", \"1900-12-31\", \"1901-12-31\", \"1902-12-31\", \"1903-12-31\", \"1904-12-31\", \"1905-12-31\", \"1906-12-31\", \"1907-12-31\", \"1908-12-31\", \"1909-12-31\", \"1910-12-31\", \"1911-12-31\", \"1912-12-31\", \"1913-12-31\", \"1914-12-31\", \"1915-12-31\", \"1916-12-31\", \"1917-12-31\", \"1918-12-31\", \"1919-12-31\", \"1920-12-31\", \"1921-12-31\", \"1922-12-31\", \"1923-12-31\", \"1924-12-31\", \"1925-12-31\", \"1926-12-31\", \"1927-12-31\", \"1928-12-31\", \"1929-12-31\", \"1930-12-31\", \"1931-12-31\", \"1932-12-31\", \"1933-12-31\", \"1934-12-31\", \"1935-12-31\", \"1936-12-31\", \"1937-12-31\", \"1938-12-31\", \"1939-12-31\", \"1940-12-31\", \"1941-12-31\", \"1942-12-31\", \"1943-12-31\", \"1944-12-31\", \"1945-12-31\", \"1946-12-31\", \"1947-12-31\", \"1948-12-31\", \"1949-12-31\", \"1950-12-31\", \"1951-12-31\", \"1952-12-31\", \"1953-12-31\", \"1954-12-31\", \"1955-12-31\", \"1956-12-31\", \"1957-12-31\", \"1958-12-31\", \"1959-12-31\", \"1960-12-31\", \"1961-12-31\", \"1962-12-31\", \"1963-12-31\", \"1964-12-31\", \"1965-12-31\", \"1966-12-31\", \"1967-12-31\", \"1968-12-31\", \"1969-12-31\", \"1970-12-31\", \"1971-12-31\", \"1972-12-31\", \"1973-12-31\", \"1974-12-31\", \"1975-12-31\", \"1976-12-31\", \"1977-12-31\", \"1978-12-31\", \"1979-12-31\", \"1980-12-31\", \"1981-12-31\", \"1982-12-31\", \"1983-12-31\", \"1984-12-31\", \"1985-12-31\", \"1986-12-31\", \"1987-12-31\", \"1988-12-31\", \"1989-12-31\", \"1990-12-31\", \"1991-12-31\", \"1992-12-31\", \"1993-12-31\", \"1994-12-31\", \"1995-12-31\", \"1996-12-31\", \"1997-12-31\", \"1998-12-31\", \"1999-12-31\", \"2000-12-31\", \"2001-12-31\", \"2002-12-31\", \"2003-12-31\", \"2004-12-31\", \"2005-12-31\", \"2006-12-31\", \"2007-12-31\", \"2008-12-31\", \"2009-12-31\", \"2010-12-31\", \"2011-12-31\", \"2012-12-31\", \"2013-12-31\", \"2014-12-31\", \"2015-12-31\", \"2016-12-31\", \"2017-12-31\", \"2018-12-31\", \"2019-12-31\"], \"y\": [-0.18500000000000003, -0.09500000000000001, -0.10166666666666668, -0.18499999999999997, -0.28833333333333333, -0.30916666666666665, -0.3166666666666667, -0.3491666666666666, -0.18083333333333332, -0.11166666666666668, -0.3725, -0.2358333333333333, -0.26499999999999996, -0.3166666666666667, -0.31333333333333335, -0.22250000000000003, -0.11166666666666665, -0.11499999999999999, -0.2783333333333333, -0.18166666666666664, -0.08833333333333333, -0.15333333333333335, -0.3016666666666667, -0.38916666666666666, -0.4891666666666666, -0.28500000000000003, -0.22333333333333336, -0.39333333333333337, -0.4316666666666667, -0.4716666666666666, -0.42833333333333323, -0.43083333333333335, -0.3558333333333333, -0.3516666666666666, -0.15583333333333332, -0.12000000000000001, -0.3275, -0.4383333333333334, -0.2825, -0.2691666666666667, -0.2566666666666667, -0.17500000000000002, -0.27166666666666667, -0.24583333333333335, -0.25333333333333335, -0.20583333333333334, -0.09000000000000001, -0.20416666666666664, -0.18666666666666665, -0.34583333333333327, -0.14583333333333334, -0.09833333333333337, -0.16416666666666668, -0.29583333333333334, -0.1366666666666667, -0.205, -0.15833333333333335, -0.03833333333333334, -0.03166666666666667, -0.029999999999999985, 0.11249999999999999, 0.18166666666666667, 0.05416666666666666, 0.07083333333333335, 0.20750000000000002, 0.08583333333333333, -0.07166666666666667, -0.03666666666666666, -0.10333333333333332, -0.1075, -0.18250000000000002, -0.06666666666666667, 0.0066666666666666645, 0.06833333333333334, -0.1475, -0.14666666666666667, -0.205, 0.0425, 0.06666666666666668, 0.025833333333333337, -0.02166666666666667, 0.05583333333333334, 0.03833333333333334, 0.07, -0.19583333333333333, -0.10500000000000002, -0.04750000000000001, -0.020833333333333332, -0.07333333333333335, 0.06833333333333334, 0.03166666666666666, -0.09000000000000001, 0.016666666666666666, 0.1625, -0.08249999999999999, -0.01416666666666667, -0.10833333333333334, 0.17, 0.06416666666666668, 0.16, 0.2725, 0.32999999999999996, 0.13249999999999998, 0.31250000000000006, 0.16249999999999998, 0.11916666666666668, 0.18333333333333332, 0.3325000000000001, 0.4066666666666667, 0.28750000000000003, 0.43583333333333335, 0.4083333333333334, 0.2175, 0.23583333333333337, 0.3066666666666667, 0.44333333333333336, 0.3325, 0.4649999999999999, 0.6225, 0.3966666666666667, 0.39999999999999997, 0.5325, 0.6233333333333334, 0.6075, 0.535, 0.6708333333333333, 0.6175, 0.6383333333333333, 0.515, 0.6333333333333333, 0.6974999999999999, 0.5833333333333334, 0.6158333333333333, 0.6450000000000001, 0.7308333333333333, 0.8641666666666666, 0.9883333333333334, 0.9000000000000002, 0.8233333333333334, 0.9158333333333334]}],\n",
       "                        {\"legend\": {\"bgcolor\": \"#F5F6F9\", \"font\": {\"color\": \"#4D5663\"}}, \"paper_bgcolor\": \"#F5F6F9\", \"plot_bgcolor\": \"#F5F6F9\", \"title\": {\"font\": {\"color\": \"#4D5663\"}, \"text\": \"Global Temperature Anomalies\"}, \"xaxis\": {\"gridcolor\": \"#E1E5ED\", \"showgrid\": true, \"tickfont\": {\"color\": \"#4D5663\"}, \"title\": {\"font\": {\"color\": \"#4D5663\"}, \"text\": \"Time (years)\"}, \"zerolinecolor\": \"#E1E5ED\"}, \"yaxis\": {\"gridcolor\": \"#E1E5ED\", \"showgrid\": true, \"tickfont\": {\"color\": \"#4D5663\"}, \"title\": {\"font\": {\"color\": \"#4D5663\"}, \"text\": \"Temperature Anomaly (deg. Celsius)\"}, \"zerolinecolor\": \"#E1E5ED\"}},\n",
       "                        {\"responsive\": true, \"showLink\": true, \"plotlyServerURL\": \"https://plot.ly\", \"linkText\": \"Export to plot.ly\"}\n",
       "                    ).then(function(){\n",
       "                            \n",
       "var gd = document.getElementById('9b01cd43-69cb-4123-9055-cf6799ec2122');\n",
       "var x = new MutationObserver(function (mutations, observer) {{\n",
       "        var display = window.getComputedStyle(gd).display;\n",
       "        if (!display || display === 'none') {{\n",
       "            console.log([gd, 'removed!']);\n",
       "            Plotly.purge(gd);\n",
       "            observer.disconnect();\n",
       "        }}\n",
       "}});\n",
       "\n",
       "// Listen for the removal of the full notebook cells\n",
       "var notebookContainer = gd.closest('#notebook-container');\n",
       "if (notebookContainer) {{\n",
       "    x.observe(notebookContainer, {childList: true});\n",
       "}}\n",
       "\n",
       "// Listen for the clearing of the current output cell\n",
       "var outputEl = gd.closest('.output');\n",
       "if (outputEl) {{\n",
       "    x.observe(outputEl, {childList: true});\n",
       "}}\n",
       "\n",
       "                        })\n",
       "                };\n",
       "                });\n",
       "            </script>\n",
       "        </div>"
      ]
     },
     "metadata": {},
     "output_type": "display_data"
    }
   ],
   "source": [
    "t.resample('A').mean().iplot(kind='line', xTitle='Time (years)', color='#1C7C54',\n",
    "                  yTitle='Temperature Anomaly (deg. Celsius)', title='Global Temperature Anomalies')"
   ]
  },
  {
   "cell_type": "markdown",
   "metadata": {},
   "source": [
    "## Plotting Emissions with Plotly"
   ]
  },
  {
   "cell_type": "code",
   "execution_count": 36,
   "metadata": {
    "codeCollapsed": false
   },
   "outputs": [
    {
     "data": {
      "application/vnd.plotly.v1+json": {
       "config": {
        "linkText": "Export to plot.ly",
        "plotlyServerURL": "https://plot.ly",
        "showLink": true
       },
       "data": [
        {
         "line": {
          "color": "rgba(51, 147, 255, 1.0)",
          "dash": "solid",
          "shape": "linear",
          "width": 1.3
         },
         "mode": "lines",
         "name": "Chile CO2 Emissions per Capita",
         "text": "",
         "type": "scatter",
         "uid": "d28a4553-0a0b-4fa7-bf36-e9845061f7c2",
         "x": [
          "1960-12-31",
          "1961-12-31",
          "1962-12-31",
          "1963-12-31",
          "1964-12-31",
          "1965-12-31",
          "1966-12-31",
          "1967-12-31",
          "1968-12-31",
          "1969-12-31",
          "1970-12-31",
          "1971-12-31",
          "1972-12-31",
          "1973-12-31",
          "1974-12-31",
          "1975-12-31",
          "1976-12-31",
          "1977-12-31",
          "1978-12-31",
          "1979-12-31",
          "1980-12-31",
          "1981-12-31",
          "1982-12-31",
          "1983-12-31",
          "1984-12-31",
          "1985-12-31",
          "1986-12-31",
          "1987-12-31",
          "1988-12-31",
          "1989-12-31",
          "1990-12-31",
          "1991-12-31",
          "1992-12-31",
          "1993-12-31",
          "1994-12-31",
          "1995-12-31",
          "1996-12-31",
          "1997-12-31",
          "1998-12-31",
          "1999-12-31",
          "2000-12-31",
          "2001-12-31",
          "2002-12-31",
          "2003-12-31",
          "2004-12-31",
          "2005-12-31",
          "2006-12-31",
          "2007-12-31",
          "2008-12-31",
          "2009-12-31",
          "2010-12-31",
          "2011-12-31",
          "2012-12-31",
          "2013-12-31",
          "2014-12-31",
          "2015-12-31",
          "2016-12-31",
          "2017-12-31",
          "2018-12-31"
         ],
         "y": [
          1.74828931041744,
          1.83439326167949,
          2.07324966382121,
          2.1044061684782402,
          2.07863002467845,
          2.06179137078617,
          2.1341224875334097,
          2.14053443662422,
          2.3098277450580698,
          2.40511117061053,
          2.57889901206259,
          2.78039379225996,
          2.8411923618889396,
          2.7389103626627405,
          2.52799108137717,
          2.20535834582111,
          2.27349215739613,
          2.14643643350681,
          2.09940001553411,
          2.2404754206322,
          2.2425992519589104,
          2.14650956400234,
          1.7748075988676102,
          1.76643364621793,
          1.8522152058735502,
          1.7653097915873799,
          1.79647084796095,
          1.8002858471138798,
          2.10217256973111,
          2.4863694712884,
          2.51581052054156,
          2.32763216599179,
          2.37545707043498,
          2.49429583708261,
          2.70404833760533,
          2.9199313152003197,
          3.34531135909618,
          3.83772890270629,
          3.87174353206756,
          4.07926774589453,
          3.8534993750145,
          3.453563551989,
          3.5307200277016197,
          3.5192615709999706,
          3.74211830163159,
          3.8284536433372702,
          3.97151048248654,
          4.34391654413524,
          4.31229432919644,
          3.96955561568827,
          4.25171517053079,
          4.61972953748937,
          4.67798279651244,
          4.765865990127001,
          4.68737662371284,
          "",
          "",
          "",
          ""
         ]
        }
       ],
       "layout": {
        "legend": {
         "bgcolor": "#F5F6F9",
         "font": {
          "color": "#4D5663"
         }
        },
        "paper_bgcolor": "#F5F6F9",
        "plot_bgcolor": "#F5F6F9",
        "title": {
         "font": {
          "color": "#4D5663"
         },
         "text": "Global CO2 Emission over Time"
        },
        "xaxis": {
         "gridcolor": "#E1E5ED",
         "showgrid": true,
         "tickfont": {
          "color": "#4D5663"
         },
         "title": {
          "font": {
           "color": "#4D5663"
          },
          "text": "Time (years)"
         },
         "zerolinecolor": "#E1E5ED"
        },
        "yaxis": {
         "gridcolor": "#E1E5ED",
         "showgrid": true,
         "tickfont": {
          "color": "#4D5663"
         },
         "title": {
          "font": {
           "color": "#4D5663"
          },
          "text": "Emissions (Metric Tons per Capita)"
         },
         "zerolinecolor": "#E1E5ED"
        }
       }
      },
      "text/html": [
       "<div>\n",
       "        \n",
       "        \n",
       "            <div id=\"f9c5f213-973d-4afd-add2-a028134022e5\" class=\"plotly-graph-div\" style=\"height:525px; width:100%;\"></div>\n",
       "            <script type=\"text/javascript\">\n",
       "                require([\"plotly\"], function(Plotly) {\n",
       "                    window.PLOTLYENV=window.PLOTLYENV || {};\n",
       "                    window.PLOTLYENV.BASE_URL='https://plot.ly';\n",
       "                    \n",
       "                if (document.getElementById(\"f9c5f213-973d-4afd-add2-a028134022e5\")) {\n",
       "                    Plotly.newPlot(\n",
       "                        'f9c5f213-973d-4afd-add2-a028134022e5',\n",
       "                        [{\"line\": {\"color\": \"rgba(51, 147, 255, 1.0)\", \"dash\": \"solid\", \"shape\": \"linear\", \"width\": 1.3}, \"mode\": \"lines\", \"name\": \"Chile CO2 Emissions per Capita\", \"text\": \"\", \"type\": \"scatter\", \"uid\": \"d28a4553-0a0b-4fa7-bf36-e9845061f7c2\", \"x\": [\"1960-12-31\", \"1961-12-31\", \"1962-12-31\", \"1963-12-31\", \"1964-12-31\", \"1965-12-31\", \"1966-12-31\", \"1967-12-31\", \"1968-12-31\", \"1969-12-31\", \"1970-12-31\", \"1971-12-31\", \"1972-12-31\", \"1973-12-31\", \"1974-12-31\", \"1975-12-31\", \"1976-12-31\", \"1977-12-31\", \"1978-12-31\", \"1979-12-31\", \"1980-12-31\", \"1981-12-31\", \"1982-12-31\", \"1983-12-31\", \"1984-12-31\", \"1985-12-31\", \"1986-12-31\", \"1987-12-31\", \"1988-12-31\", \"1989-12-31\", \"1990-12-31\", \"1991-12-31\", \"1992-12-31\", \"1993-12-31\", \"1994-12-31\", \"1995-12-31\", \"1996-12-31\", \"1997-12-31\", \"1998-12-31\", \"1999-12-31\", \"2000-12-31\", \"2001-12-31\", \"2002-12-31\", \"2003-12-31\", \"2004-12-31\", \"2005-12-31\", \"2006-12-31\", \"2007-12-31\", \"2008-12-31\", \"2009-12-31\", \"2010-12-31\", \"2011-12-31\", \"2012-12-31\", \"2013-12-31\", \"2014-12-31\", \"2015-12-31\", \"2016-12-31\", \"2017-12-31\", \"2018-12-31\"], \"y\": [1.74828931041744, 1.83439326167949, 2.07324966382121, 2.1044061684782402, 2.07863002467845, 2.06179137078617, 2.1341224875334097, 2.14053443662422, 2.3098277450580698, 2.40511117061053, 2.57889901206259, 2.78039379225996, 2.8411923618889396, 2.7389103626627405, 2.52799108137717, 2.20535834582111, 2.27349215739613, 2.14643643350681, 2.09940001553411, 2.2404754206322, 2.2425992519589104, 2.14650956400234, 1.7748075988676102, 1.76643364621793, 1.8522152058735502, 1.7653097915873799, 1.79647084796095, 1.8002858471138798, 2.10217256973111, 2.4863694712884, 2.51581052054156, 2.32763216599179, 2.37545707043498, 2.49429583708261, 2.70404833760533, 2.9199313152003197, 3.34531135909618, 3.83772890270629, 3.87174353206756, 4.07926774589453, 3.8534993750145, 3.453563551989, 3.5307200277016197, 3.5192615709999706, 3.74211830163159, 3.8284536433372702, 3.97151048248654, 4.34391654413524, 4.31229432919644, 3.96955561568827, 4.25171517053079, 4.61972953748937, 4.67798279651244, 4.765865990127001, 4.68737662371284, \"\", \"\", \"\", \"\"]}],\n",
       "                        {\"legend\": {\"bgcolor\": \"#F5F6F9\", \"font\": {\"color\": \"#4D5663\"}}, \"paper_bgcolor\": \"#F5F6F9\", \"plot_bgcolor\": \"#F5F6F9\", \"title\": {\"font\": {\"color\": \"#4D5663\"}, \"text\": \"Global CO2 Emission over Time\"}, \"xaxis\": {\"gridcolor\": \"#E1E5ED\", \"showgrid\": true, \"tickfont\": {\"color\": \"#4D5663\"}, \"title\": {\"font\": {\"color\": \"#4D5663\"}, \"text\": \"Time (years)\"}, \"zerolinecolor\": \"#E1E5ED\"}, \"yaxis\": {\"gridcolor\": \"#E1E5ED\", \"showgrid\": true, \"tickfont\": {\"color\": \"#4D5663\"}, \"title\": {\"font\": {\"color\": \"#4D5663\"}, \"text\": \"Emissions (Metric Tons per Capita)\"}, \"zerolinecolor\": \"#E1E5ED\"}},\n",
       "                        {\"responsive\": true, \"showLink\": true, \"plotlyServerURL\": \"https://plot.ly\", \"linkText\": \"Export to plot.ly\"}\n",
       "                    ).then(function(){\n",
       "                            \n",
       "var gd = document.getElementById('f9c5f213-973d-4afd-add2-a028134022e5');\n",
       "var x = new MutationObserver(function (mutations, observer) {{\n",
       "        var display = window.getComputedStyle(gd).display;\n",
       "        if (!display || display === 'none') {{\n",
       "            console.log([gd, 'removed!']);\n",
       "            Plotly.purge(gd);\n",
       "            observer.disconnect();\n",
       "        }}\n",
       "}});\n",
       "\n",
       "// Listen for the removal of the full notebook cells\n",
       "var notebookContainer = gd.closest('#notebook-container');\n",
       "if (notebookContainer) {{\n",
       "    x.observe(notebookContainer, {childList: true});\n",
       "}}\n",
       "\n",
       "// Listen for the clearing of the current output cell\n",
       "var outputEl = gd.closest('.output');\n",
       "if (outputEl) {{\n",
       "    x.observe(outputEl, {childList: true});\n",
       "}}\n",
       "\n",
       "                        })\n",
       "                };\n",
       "                });\n",
       "            </script>\n",
       "        </div>"
      ]
     },
     "metadata": {},
     "output_type": "display_data"
    }
   ],
   "source": [
    "e.iplot(kind='line', xTitle='Time (years)', color='#3393FF',\n",
    "                  yTitle='Emissions (Metric Tons per Capita)', title='Global CO2 Emission over Time')"
   ]
  },
  {
   "cell_type": "markdown",
   "metadata": {},
   "source": [
    "# Time Series Modelling and Forecasting"
   ]
  },
  {
   "cell_type": "markdown",
   "metadata": {},
   "source": [
    "## Facebook Prophet"
   ]
  },
  {
   "cell_type": "code",
   "execution_count": 27,
   "metadata": {
    "codeCollapsed": false,
    "hiddenCell": true
   },
   "outputs": [
    {
     "name": "stderr",
     "output_type": "stream",
     "text": [
      "INFO:fbprophet:Disabling weekly seasonality. Run prophet with weekly_seasonality=True to override this.\n",
      "INFO:fbprophet:Disabling daily seasonality. Run prophet with daily_seasonality=True to override this.\n"
     ]
    },
    {
     "data": {
      "text/plain": [
       "<fbprophet.forecaster.Prophet at 0x7f24c628d2b0>"
      ]
     },
     "execution_count": 27,
     "metadata": {},
     "output_type": "execute_result"
    }
   ],
   "source": [
    "t_prophet = pd.DataFrame()\n",
    "t_prophet['ds'] = t.index\n",
    "t_prophet['y'] = t['Avg_Anomaly_deg_C'].values\n",
    "m = Prophet()\n",
    "m.fit(t_prophet)"
   ]
  },
  {
   "cell_type": "code",
   "execution_count": 28,
   "metadata": {
    "codeCollapsed": false
   },
   "outputs": [
    {
     "name": "stderr",
     "output_type": "stream",
     "text": [
      "/usr/local/envs/py3env/lib/python3.5/site-packages/matplotlib/font_manager.py:1320: UserWarning:\n",
      "\n",
      "findfont: Font family ['sans-serif'] not found. Falling back to DejaVu Sans\n",
      "\n"
     ]
    },
    {
     "data": {
      "image/png": "[encoded data removed]",
      "text/plain": [
       "<matplotlib.figure.Figure at 0x7f24c68c8080>"
      ]
     },
     "metadata": {},
     "output_type": "display_data"
    }
   ],
   "source": [
    "# Make future dataframes\n",
    "future = m.make_future_dataframe(freq='m', periods=100*12)\n",
    "forecast = m.predict(future)\n",
    "m.plot(forecast);"
   ]
  },
  {
   "cell_type": "code",
   "execution_count": 29,
   "metadata": {
    "codeCollapsed": false
   },
   "outputs": [
    {
     "name": "stderr",
     "output_type": "stream",
     "text": [
      "/usr/local/envs/py3env/lib/python3.5/site-packages/matplotlib/font_manager.py:1320: UserWarning:\n",
      "\n",
      "findfont: Font family ['sans-serif'] not found. Falling back to DejaVu Sans\n",
      "\n"
     ]
    },
    {
     "data": {
      "image/png": "[encoded data removed]",
      "text/plain": [
       "<matplotlib.figure.Figure at 0x7f24c6aaf0f0>"
      ]
     },
     "metadata": {},
     "output_type": "display_data"
    }
   ],
   "source": [
    "m.plot_components(forecast);"
   ]
  },
  {
   "cell_type": "markdown",
   "metadata": {},
   "source": [
    "# THE END"
   ]
  },
  {
   "cell_type": "code",
   "execution_count": null,
   "metadata": {},
   "outputs": [],
   "source": []
  }
 ],
 "metadata": {
  "kernelspec": {
   "display_name": "Python 3",
   "language": "python",
   "name": "python3"
  },
  "language_info": {
   "codemirror_mode": {
    "name": "ipython",
    "version": 3
   },
   "file_extension": ".py",
   "mimetype": "text/x-python",
   "name": "python",
   "nbconvert_exporter": "python",
   "pygments_lexer": "ipython3",
   "version": "3.5.6"
  }
 },
 "nbformat": 4,
 "nbformat_minor": 2
}
