{
 "cells": [
  {
   "cell_type": "markdown",
   "metadata": {},
   "source": [
    "# Cambio Climático através de los años"
   ]
  },
  {
   "cell_type": "markdown",
   "metadata": {},
   "source": [
    "## Instalar dependencias"
   ]
  },
  {
   "cell_type": "code",
   "execution_count": 1,
   "metadata": {
    "codeCollapsed": false,
    "hiddenCell": true
   },
   "outputs": [
    {
     "name": "stdout",
     "output_type": "stream",
     "text": [
      "Requirement already satisfied: fbprophet in /usr/local/envs/py3env/lib/python3.5/site-packages (0.5)\n",
      "Requirement already satisfied: Cython>=0.22 in /usr/local/envs/py3env/lib/python3.5/site-packages (from fbprophet) (0.29.13)\n",
      "Requirement already satisfied: pystan>=2.14 in /usr/local/envs/py3env/lib/python3.5/site-packages (from fbprophet) (2.19.0.0)\n",
      "Requirement already satisfied: numpy>=1.10.0 in /usr/local/envs/py3env/lib/python3.5/site-packages (from fbprophet) (1.14.0)\n",
      "Requirement already satisfied: pandas>=0.23.4 in /usr/local/envs/py3env/lib/python3.5/site-packages (from fbprophet) (0.25.1)\n",
      "Requirement already satisfied: matplotlib>=2.0.0 in /usr/local/envs/py3env/lib/python3.5/site-packages (from fbprophet) (2.1.2)\n",
      "Requirement already satisfied: lunardate>=0.1.5 in /usr/local/envs/py3env/lib/python3.5/site-packages (from fbprophet) (0.2.0)\n",
      "Requirement already satisfied: convertdate>=2.1.2 in /usr/local/envs/py3env/lib/python3.5/site-packages (from fbprophet) (2.1.3)\n",
      "Requirement already satisfied: holidays>=0.9.5 in /usr/local/envs/py3env/lib/python3.5/site-packages (from fbprophet) (0.9.11)\n",
      "Requirement already satisfied: setuptools-git>=1.2 in /usr/local/envs/py3env/lib/python3.5/site-packages (from fbprophet) (1.2)\n",
      "Requirement already satisfied: python-dateutil>=2.6.1 in /usr/local/envs/py3env/lib/python3.5/site-packages (from pandas>=0.23.4->fbprophet) (2.8.0)\n",
      "Requirement already satisfied: pytz>=2017.2 in /usr/local/envs/py3env/lib/python3.5/site-packages (from pandas>=0.23.4->fbprophet) (2018.4)\n",
      "Requirement already satisfied: six>=1.10 in /usr/local/envs/py3env/lib/python3.5/site-packages (from matplotlib>=2.0.0->fbprophet) (1.10.0)\n",
      "Requirement already satisfied: cycler>=0.10 in /usr/local/envs/py3env/lib/python3.5/site-packages (from matplotlib>=2.0.0->fbprophet) (0.10.0)\n",
      "Requirement already satisfied: pyparsing!=2.0.4,!=2.1.2,!=2.1.6,>=2.0.1 in /usr/local/envs/py3env/lib/python3.5/site-packages (from matplotlib>=2.0.0->fbprophet) (2.4.0)\n",
      "Requirement already satisfied: ephem<3.8,>=3.7.5.3 in /usr/local/envs/py3env/lib/python3.5/site-packages (from convertdate>=2.1.2->fbprophet) (3.7.7.0)\n",
      "Requirement already satisfied: plotly in /usr/local/envs/py3env/lib/python3.5/site-packages (3.10.0)\n",
      "Requirement already satisfied: nbformat>=4.2 in /usr/local/envs/py3env/lib/python3.5/site-packages (from plotly) (4.4.0)\n",
      "Requirement already satisfied: pytz in /usr/local/envs/py3env/lib/python3.5/site-packages (from plotly) (2018.4)\n",
      "Requirement already satisfied: requests in /usr/local/envs/py3env/lib/python3.5/site-packages (from plotly) (2.18.4)\n",
      "Requirement already satisfied: retrying>=1.3.3 in /usr/local/envs/py3env/lib/python3.5/site-packages (from plotly) (1.3.3)\n",
      "Requirement already satisfied: six in /usr/local/envs/py3env/lib/python3.5/site-packages (from plotly) (1.10.0)\n",
      "Requirement already satisfied: decorator>=4.0.6 in /usr/local/envs/py3env/lib/python3.5/site-packages (from plotly) (4.4.0)\n",
      "Requirement already satisfied: ipython_genutils in /usr/local/envs/py3env/lib/python3.5/site-packages (from nbformat>=4.2->plotly) (0.2.0)\n",
      "Requirement already satisfied: traitlets>=4.1 in /usr/local/envs/py3env/lib/python3.5/site-packages (from nbformat>=4.2->plotly) (4.3.2)\n",
      "Requirement already satisfied: jsonschema!=2.5.0,>=2.4 in /usr/local/envs/py3env/lib/python3.5/site-packages (from nbformat>=4.2->plotly) (2.6.0)\n",
      "Requirement already satisfied: jupyter_core in /usr/local/envs/py3env/lib/python3.5/site-packages (from nbformat>=4.2->plotly) (4.4.0)\n",
      "Requirement already satisfied: chardet<3.1.0,>=3.0.2 in /usr/local/envs/py3env/lib/python3.5/site-packages (from requests->plotly) (3.0.4)\n",
      "Requirement already satisfied: idna<2.7,>=2.5 in /usr/local/envs/py3env/lib/python3.5/site-packages (from requests->plotly) (2.6)\n",
      "Requirement already satisfied: urllib3<1.23,>=1.21.1 in /usr/local/envs/py3env/lib/python3.5/site-packages (from requests->plotly) (1.22)\n",
      "Requirement already satisfied: certifi>=2017.4.17 in /usr/local/envs/py3env/lib/python3.5/site-packages (from requests->plotly) (2018.8.24)\n",
      "Requirement already satisfied: cufflinks in /usr/local/envs/py3env/lib/python3.5/site-packages (0.16)\n",
      "Requirement already satisfied: six>=1.9.0 in /usr/local/envs/py3env/lib/python3.5/site-packages (from cufflinks) (1.10.0)\n",
      "Requirement already satisfied: pandas>=0.19.2 in /usr/local/envs/py3env/lib/python3.5/site-packages (from cufflinks) (0.25.1)\n",
      "Requirement already satisfied: ipython>=5.3.0 in /usr/local/envs/py3env/lib/python3.5/site-packages (from cufflinks) (6.5.0)\n",
      "Requirement already satisfied: ipywidgets>=7.0.0 in /usr/local/envs/py3env/lib/python3.5/site-packages (from cufflinks) (7.2.1)\n",
      "Requirement already satisfied: plotly<4.0.0a0,>=3.0.0 in /usr/local/envs/py3env/lib/python3.5/site-packages (from cufflinks) (3.10.0)\n",
      "Requirement already satisfied: colorlover>=0.2.1 in /usr/local/envs/py3env/lib/python3.5/site-packages (from cufflinks) (0.3.0)\n",
      "Requirement already satisfied: numpy>=1.9.2 in /usr/local/envs/py3env/lib/python3.5/site-packages (from cufflinks) (1.14.0)\n",
      "Requirement already satisfied: setuptools>=34.4.1 in /usr/local/envs/py3env/lib/python3.5/site-packages (from cufflinks) (40.2.0)\n",
      "Requirement already satisfied: python-dateutil>=2.6.1 in /usr/local/envs/py3env/lib/python3.5/site-packages (from pandas>=0.19.2->cufflinks) (2.8.0)\n",
      "Requirement already satisfied: pytz>=2017.2 in /usr/local/envs/py3env/lib/python3.5/site-packages (from pandas>=0.19.2->cufflinks) (2018.4)\n",
      "Requirement already satisfied: simplegeneric>0.8 in /usr/local/envs/py3env/lib/python3.5/site-packages (from ipython>=5.3.0->cufflinks) (0.8.1)\n",
      "Requirement already satisfied: prompt-toolkit<2.0.0,>=1.0.15 in /usr/local/envs/py3env/lib/python3.5/site-packages (from ipython>=5.3.0->cufflinks) (1.0.15)\n",
      "Requirement already satisfied: jedi>=0.10 in /usr/local/envs/py3env/lib/python3.5/site-packages (from ipython>=5.3.0->cufflinks) (0.12.1)\n",
      "Requirement already satisfied: traitlets>=4.2 in /usr/local/envs/py3env/lib/python3.5/site-packages (from ipython>=5.3.0->cufflinks) (4.3.2)\n",
      "Requirement already satisfied: pygments in /usr/local/envs/py3env/lib/python3.5/site-packages (from ipython>=5.3.0->cufflinks) (2.1.3)\n",
      "Requirement already satisfied: pickleshare in /usr/local/envs/py3env/lib/python3.5/site-packages (from ipython>=5.3.0->cufflinks) (0.7.4)\n",
      "Requirement already satisfied: decorator in /usr/local/envs/py3env/lib/python3.5/site-packages (from ipython>=5.3.0->cufflinks) (4.4.0)\n",
      "Requirement already satisfied: pexpect; sys_platform != \"win32\" in /usr/local/envs/py3env/lib/python3.5/site-packages (from ipython>=5.3.0->cufflinks) (4.6.0)\n",
      "Requirement already satisfied: backcall in /usr/local/envs/py3env/lib/python3.5/site-packages (from ipython>=5.3.0->cufflinks) (0.1.0)\n",
      "Requirement already satisfied: ipykernel>=4.5.1 in /usr/local/envs/py3env/lib/python3.5/site-packages (from ipywidgets>=7.0.0->cufflinks) (4.8.2)\n",
      "Requirement already satisfied: nbformat>=4.2.0 in /usr/local/envs/py3env/lib/python3.5/site-packages (from ipywidgets>=7.0.0->cufflinks) (4.4.0)\n",
      "Requirement already satisfied: widgetsnbextension~=3.2.0 in /usr/local/envs/py3env/lib/python3.5/site-packages (from ipywidgets>=7.0.0->cufflinks) (3.2.1)\n",
      "Requirement already satisfied: requests in /usr/local/envs/py3env/lib/python3.5/site-packages (from plotly<4.0.0a0,>=3.0.0->cufflinks) (2.18.4)\n",
      "Requirement already satisfied: retrying>=1.3.3 in /usr/local/envs/py3env/lib/python3.5/site-packages (from plotly<4.0.0a0,>=3.0.0->cufflinks) (1.3.3)\n",
      "Requirement already satisfied: wcwidth in /usr/local/envs/py3env/lib/python3.5/site-packages (from prompt-toolkit<2.0.0,>=1.0.15->ipython>=5.3.0->cufflinks) (0.1.7)\n",
      "Requirement already satisfied: parso>=0.3.0 in /usr/local/envs/py3env/lib/python3.5/site-packages (from jedi>=0.10->ipython>=5.3.0->cufflinks) (0.4.0)\n",
      "Requirement already satisfied: ipython_genutils in /usr/local/envs/py3env/lib/python3.5/site-packages (from traitlets>=4.2->ipython>=5.3.0->cufflinks) (0.2.0)\n",
      "Requirement already satisfied: ptyprocess>=0.5 in /usr/local/envs/py3env/lib/python3.5/site-packages (from pexpect; sys_platform != \"win32\"->ipython>=5.3.0->cufflinks) (0.6.0)\n",
      "Requirement already satisfied: jupyter_client in /usr/local/envs/py3env/lib/python3.5/site-packages (from ipykernel>=4.5.1->ipywidgets>=7.0.0->cufflinks) (5.2.3)\n",
      "Requirement already satisfied: tornado>=4.0 in /usr/local/envs/py3env/lib/python3.5/site-packages (from ipykernel>=4.5.1->ipywidgets>=7.0.0->cufflinks) (4.5.1)\n",
      "Requirement already satisfied: jsonschema!=2.5.0,>=2.4 in /usr/local/envs/py3env/lib/python3.5/site-packages (from nbformat>=4.2.0->ipywidgets>=7.0.0->cufflinks) (2.6.0)\n",
      "Requirement already satisfied: jupyter_core in /usr/local/envs/py3env/lib/python3.5/site-packages (from nbformat>=4.2.0->ipywidgets>=7.0.0->cufflinks) (4.4.0)\n",
      "Requirement already satisfied: notebook>=4.4.1 in /usr/local/envs/py3env/lib/python3.5/site-packages (from widgetsnbextension~=3.2.0->ipywidgets>=7.0.0->cufflinks) (5.6.0)\n",
      "Requirement already satisfied: chardet<3.1.0,>=3.0.2 in /usr/local/envs/py3env/lib/python3.5/site-packages (from requests->plotly<4.0.0a0,>=3.0.0->cufflinks) (3.0.4)\n",
      "Requirement already satisfied: idna<2.7,>=2.5 in /usr/local/envs/py3env/lib/python3.5/site-packages (from requests->plotly<4.0.0a0,>=3.0.0->cufflinks) (2.6)\n",
      "Requirement already satisfied: urllib3<1.23,>=1.21.1 in /usr/local/envs/py3env/lib/python3.5/site-packages (from requests->plotly<4.0.0a0,>=3.0.0->cufflinks) (1.22)\n",
      "Requirement already satisfied: certifi>=2017.4.17 in /usr/local/envs/py3env/lib/python3.5/site-packages (from requests->plotly<4.0.0a0,>=3.0.0->cufflinks) (2018.8.24)\n",
      "Requirement already satisfied: pyzmq>=13 in /usr/local/envs/py3env/lib/python3.5/site-packages (from jupyter_client->ipykernel>=4.5.1->ipywidgets>=7.0.0->cufflinks) (17.1.0)\n",
      "Requirement already satisfied: jinja2 in /usr/local/envs/py3env/lib/python3.5/site-packages (from notebook>=4.4.1->widgetsnbextension~=3.2.0->ipywidgets>=7.0.0->cufflinks) (2.8)\n",
      "Requirement already satisfied: Send2Trash in /usr/local/envs/py3env/lib/python3.5/site-packages (from notebook>=4.4.1->widgetsnbextension~=3.2.0->ipywidgets>=7.0.0->cufflinks) (1.5.0)\n",
      "Requirement already satisfied: prometheus-client in /usr/local/envs/py3env/lib/python3.5/site-packages (from notebook>=4.4.1->widgetsnbextension~=3.2.0->ipywidgets>=7.0.0->cufflinks) (0.3.1)\n",
      "Requirement already satisfied: nbconvert in /usr/local/envs/py3env/lib/python3.5/site-packages (from notebook>=4.4.1->widgetsnbextension~=3.2.0->ipywidgets>=7.0.0->cufflinks) (5.5.0)\n",
      "Requirement already satisfied: terminado>=0.8.1 in /usr/local/envs/py3env/lib/python3.5/site-packages (from notebook>=4.4.1->widgetsnbextension~=3.2.0->ipywidgets>=7.0.0->cufflinks) (0.8.1)\n",
      "Requirement already satisfied: MarkupSafe in /usr/local/envs/py3env/lib/python3.5/site-packages (from jinja2->notebook>=4.4.1->widgetsnbextension~=3.2.0->ipywidgets>=7.0.0->cufflinks) (1.0)\n",
      "Requirement already satisfied: defusedxml in /usr/local/envs/py3env/lib/python3.5/site-packages (from nbconvert->notebook>=4.4.1->widgetsnbextension~=3.2.0->ipywidgets>=7.0.0->cufflinks) (0.6.0)\n",
      "Requirement already satisfied: testpath in /usr/local/envs/py3env/lib/python3.5/site-packages (from nbconvert->notebook>=4.4.1->widgetsnbextension~=3.2.0->ipywidgets>=7.0.0->cufflinks) (0.3.1)\n",
      "Requirement already satisfied: mistune>=0.8.1 in /usr/local/envs/py3env/lib/python3.5/site-packages (from nbconvert->notebook>=4.4.1->widgetsnbextension~=3.2.0->ipywidgets>=7.0.0->cufflinks) (0.8.3)\n",
      "Requirement already satisfied: bleach in /usr/local/envs/py3env/lib/python3.5/site-packages (from nbconvert->notebook>=4.4.1->widgetsnbextension~=3.2.0->ipywidgets>=7.0.0->cufflinks) (2.1.2)\n",
      "Requirement already satisfied: pandocfilters>=1.4.1 in /usr/local/envs/py3env/lib/python3.5/site-packages (from nbconvert->notebook>=4.4.1->widgetsnbextension~=3.2.0->ipywidgets>=7.0.0->cufflinks) (1.4.2)\n",
      "Requirement already satisfied: entrypoints>=0.2.2 in /usr/local/envs/py3env/lib/python3.5/site-packages (from nbconvert->notebook>=4.4.1->widgetsnbextension~=3.2.0->ipywidgets>=7.0.0->cufflinks) (0.2.3)\n",
      "Requirement already satisfied: html5lib!=1.0b1,!=1.0b2,!=1.0b3,!=1.0b4,!=1.0b5,!=1.0b6,!=1.0b7,!=1.0b8,>=0.99999999pre in /usr/local/envs/py3env/lib/python3.5/site-packages (from bleach->nbconvert->notebook>=4.4.1->widgetsnbextension~=3.2.0->ipywidgets>=7.0.0->cufflinks) (1.0.1)\n",
      "Requirement already satisfied: webencodings in /usr/local/envs/py3env/lib/python3.5/site-packages (from html5lib!=1.0b1,!=1.0b2,!=1.0b3,!=1.0b4,!=1.0b5,!=1.0b6,!=1.0b7,!=1.0b8,>=0.99999999pre->bleach->nbconvert->notebook>=4.4.1->widgetsnbextension~=3.2.0->ipywidgets>=7.0.0->cufflinks) (0.5.1)\n"
     ]
    }
   ],
   "source": [
    "%bash\n",
    "pip install fbprophet\n",
    "pip install plotly\n",
    "pip install cufflinks"
   ]
  },
  {
   "cell_type": "markdown",
   "metadata": {},
   "source": [
    "## Aquí resetear la sesión"
   ]
  },
  {
   "cell_type": "code",
   "execution_count": 2,
   "metadata": {
    "codeCollapsed": false,
    "hiddenCell": true
   },
   "outputs": [
    {
     "data": {
      "text/html": [
       "        <script type=\"text/javascript\">\n",
       "        window.PlotlyConfig = {MathJaxConfig: 'local'};\n",
       "        if (window.MathJax) {MathJax.Hub.Config({SVG: {font: \"STIX-Web\"}});}\n",
       "        if (typeof require !== 'undefined') {\n",
       "        require.undef(\"plotly\");\n",
       "        requirejs.config({\n",
       "            paths: {\n",
       "                'plotly': ['https://cdn.plot.ly/plotly-latest.min']\n",
       "            }\n",
       "        });\n",
       "        require(['plotly'], function(Plotly) {\n",
       "            window._Plotly = Plotly;\n",
       "        });\n",
       "        }\n",
       "        </script>\n",
       "        "
      ]
     },
     "metadata": {},
     "output_type": "display_data"
    },
    {
     "data": {
      "text/html": [
       "        <script type=\"text/javascript\">\n",
       "        window.PlotlyConfig = {MathJaxConfig: 'local'};\n",
       "        if (window.MathJax) {MathJax.Hub.Config({SVG: {font: \"STIX-Web\"}});}\n",
       "        if (typeof require !== 'undefined') {\n",
       "        require.undef(\"plotly\");\n",
       "        requirejs.config({\n",
       "            paths: {\n",
       "                'plotly': ['https://cdn.plot.ly/plotly-latest.min']\n",
       "            }\n",
       "        });\n",
       "        require(['plotly'], function(Plotly) {\n",
       "            window._Plotly = Plotly;\n",
       "        });\n",
       "        }\n",
       "        </script>\n",
       "        "
      ]
     },
     "metadata": {},
     "output_type": "display_data"
    }
   ],
   "source": [
    "import pandas as pd\n",
    "import numpy as np\n",
    "import calendar\n",
    "from datetime import datetime\n",
    "import matplotlib.pyplot as plt\n",
    "%matplotlib inline\n",
    "\n",
    "# Facebook's Prophet forecasting library\n",
    "from fbprophet import Prophet\n",
    "\n",
    "# Standard plotly imports\n",
    "import plotly.plotly as py\n",
    "import plotly.graph_objs as go\n",
    "from plotly.offline import iplot, init_notebook_mode\n",
    "# Using plotly + cufflinks in offline mode\n",
    "import cufflinks\n",
    "cufflinks.go_offline(connected=True)\n",
    "init_notebook_mode(connected=True)"
   ]
  },
  {
   "cell_type": "markdown",
   "metadata": {},
   "source": [
    "# Pulling the data"
   ]
  },
  {
   "cell_type": "code",
   "execution_count": 3,
   "metadata": {},
   "outputs": [],
   "source": [
    "# Read in the raw temperature and emissions datasets (they are in CSV format) \n",
    "raw_t = pd.read_csv('../raw_data/GLB.Ts+dSST.csv', skiprows=1)\n",
    "raw_e = pd.read_csv('../raw_data/API_EN.ATM.CO2E.PC_DS2_en_csv_v2_10515380/API_EN.ATM.CO2E.PC_DS2_en_csv_v2_10515380.csv', skiprows=3)"
   ]
  },
  {
   "cell_type": "code",
   "execution_count": 4,
   "metadata": {},
   "outputs": [
    {
     "data": {
      "text/html": [
       "<div>\n",
       "<style scoped>\n",
       "    .dataframe tbody tr th:only-of-type {\n",
       "        vertical-align: middle;\n",
       "    }\n",
       "\n",
       "    .dataframe tbody tr th {\n",
       "        vertical-align: top;\n",
       "    }\n",
       "\n",
       "    .dataframe thead th {\n",
       "        text-align: right;\n",
       "    }\n",
       "</style>\n",
       "<table border=\"1\" class=\"dataframe\">\n",
       "  <thead>\n",
       "    <tr style=\"text-align: right;\">\n",
       "      <th></th>\n",
       "      <th>Year</th>\n",
       "      <th>Jan</th>\n",
       "      <th>Feb</th>\n",
       "      <th>Mar</th>\n",
       "      <th>Apr</th>\n",
       "      <th>May</th>\n",
       "      <th>Jun</th>\n",
       "      <th>Jul</th>\n",
       "      <th>Aug</th>\n",
       "      <th>Sep</th>\n",
       "      <th>Oct</th>\n",
       "      <th>Nov</th>\n",
       "      <th>Dec</th>\n",
       "      <th>J-D</th>\n",
       "      <th>D-N</th>\n",
       "      <th>DJF</th>\n",
       "      <th>MAM</th>\n",
       "      <th>JJA</th>\n",
       "      <th>SON</th>\n",
       "    </tr>\n",
       "  </thead>\n",
       "  <tbody>\n",
       "    <tr>\n",
       "      <td>0</td>\n",
       "      <td>1880</td>\n",
       "      <td>-0.29</td>\n",
       "      <td>-0.18</td>\n",
       "      <td>-.11</td>\n",
       "      <td>-.19</td>\n",
       "      <td>-.11</td>\n",
       "      <td>-.23</td>\n",
       "      <td>-.21</td>\n",
       "      <td>-.09</td>\n",
       "      <td>-.16</td>\n",
       "      <td>-.23</td>\n",
       "      <td>-.20</td>\n",
       "      <td>-.22</td>\n",
       "      <td>-.18</td>\n",
       "      <td>***</td>\n",
       "      <td>***</td>\n",
       "      <td>-.14</td>\n",
       "      <td>-.18</td>\n",
       "      <td>-.19</td>\n",
       "    </tr>\n",
       "    <tr>\n",
       "      <td>1</td>\n",
       "      <td>1881</td>\n",
       "      <td>-0.15</td>\n",
       "      <td>-0.17</td>\n",
       "      <td>.04</td>\n",
       "      <td>.04</td>\n",
       "      <td>.02</td>\n",
       "      <td>-.20</td>\n",
       "      <td>-.06</td>\n",
       "      <td>-.02</td>\n",
       "      <td>-.13</td>\n",
       "      <td>-.20</td>\n",
       "      <td>-.21</td>\n",
       "      <td>-.10</td>\n",
       "      <td>-.09</td>\n",
       "      <td>-.10</td>\n",
       "      <td>-.18</td>\n",
       "      <td>.04</td>\n",
       "      <td>-.09</td>\n",
       "      <td>-.18</td>\n",
       "    </tr>\n",
       "    <tr>\n",
       "      <td>2</td>\n",
       "      <td>1882</td>\n",
       "      <td>0.15</td>\n",
       "      <td>0.15</td>\n",
       "      <td>.04</td>\n",
       "      <td>-.18</td>\n",
       "      <td>-.15</td>\n",
       "      <td>-.25</td>\n",
       "      <td>-.20</td>\n",
       "      <td>-.05</td>\n",
       "      <td>-.10</td>\n",
       "      <td>-.24</td>\n",
       "      <td>-.15</td>\n",
       "      <td>-.24</td>\n",
       "      <td>-.10</td>\n",
       "      <td>-.09</td>\n",
       "      <td>.07</td>\n",
       "      <td>-.10</td>\n",
       "      <td>-.17</td>\n",
       "      <td>-.16</td>\n",
       "    </tr>\n",
       "    <tr>\n",
       "      <td>3</td>\n",
       "      <td>1883</td>\n",
       "      <td>-0.31</td>\n",
       "      <td>-0.38</td>\n",
       "      <td>-.12</td>\n",
       "      <td>-.16</td>\n",
       "      <td>-.19</td>\n",
       "      <td>-.12</td>\n",
       "      <td>-.08</td>\n",
       "      <td>-.15</td>\n",
       "      <td>-.20</td>\n",
       "      <td>-.14</td>\n",
       "      <td>-.22</td>\n",
       "      <td>-.15</td>\n",
       "      <td>-.19</td>\n",
       "      <td>-.19</td>\n",
       "      <td>-.31</td>\n",
       "      <td>-.16</td>\n",
       "      <td>-.11</td>\n",
       "      <td>-.19</td>\n",
       "    </tr>\n",
       "    <tr>\n",
       "      <td>4</td>\n",
       "      <td>1884</td>\n",
       "      <td>-0.15</td>\n",
       "      <td>-0.08</td>\n",
       "      <td>-.37</td>\n",
       "      <td>-.42</td>\n",
       "      <td>-.36</td>\n",
       "      <td>-.40</td>\n",
       "      <td>-.34</td>\n",
       "      <td>-.26</td>\n",
       "      <td>-.27</td>\n",
       "      <td>-.24</td>\n",
       "      <td>-.29</td>\n",
       "      <td>-.28</td>\n",
       "      <td>-.29</td>\n",
       "      <td>-.28</td>\n",
       "      <td>-.13</td>\n",
       "      <td>-.38</td>\n",
       "      <td>-.33</td>\n",
       "      <td>-.27</td>\n",
       "    </tr>\n",
       "  </tbody>\n",
       "</table>\n",
       "</div>"
      ],
      "text/plain": [
       "   Year   Jan   Feb   Mar   Apr   May   Jun   Jul   Aug   Sep   Oct   Nov  \\\n",
       "0  1880 -0.29 -0.18  -.11  -.19  -.11  -.23  -.21  -.09  -.16  -.23  -.20   \n",
       "1  1881 -0.15 -0.17   .04   .04   .02  -.20  -.06  -.02  -.13  -.20  -.21   \n",
       "2  1882  0.15  0.15   .04  -.18  -.15  -.25  -.20  -.05  -.10  -.24  -.15   \n",
       "3  1883 -0.31 -0.38  -.12  -.16  -.19  -.12  -.08  -.15  -.20  -.14  -.22   \n",
       "4  1884 -0.15 -0.08  -.37  -.42  -.36  -.40  -.34  -.26  -.27  -.24  -.29   \n",
       "\n",
       "    Dec   J-D   D-N   DJF   MAM   JJA   SON  \n",
       "0  -.22  -.18   ***   ***  -.14  -.18  -.19  \n",
       "1  -.10  -.09  -.10  -.18   .04  -.09  -.18  \n",
       "2  -.24  -.10  -.09   .07  -.10  -.17  -.16  \n",
       "3  -.15  -.19  -.19  -.31  -.16  -.11  -.19  \n",
       "4  -.28  -.29  -.28  -.13  -.38  -.33  -.27  "
      ]
     },
     "execution_count": 4,
     "metadata": {},
     "output_type": "execute_result"
    }
   ],
   "source": [
    "raw_t.head()"
   ]
  },
  {
   "cell_type": "code",
   "execution_count": 5,
   "metadata": {},
   "outputs": [
    {
     "data": {
      "text/html": [
       "<div>\n",
       "<style scoped>\n",
       "    .dataframe tbody tr th:only-of-type {\n",
       "        vertical-align: middle;\n",
       "    }\n",
       "\n",
       "    .dataframe tbody tr th {\n",
       "        vertical-align: top;\n",
       "    }\n",
       "\n",
       "    .dataframe thead th {\n",
       "        text-align: right;\n",
       "    }\n",
       "</style>\n",
       "<table border=\"1\" class=\"dataframe\">\n",
       "  <thead>\n",
       "    <tr style=\"text-align: right;\">\n",
       "      <th></th>\n",
       "      <th>Country Name</th>\n",
       "      <th>Country Code</th>\n",
       "      <th>Indicator Name</th>\n",
       "      <th>Indicator Code</th>\n",
       "      <th>1960</th>\n",
       "      <th>1961</th>\n",
       "      <th>1962</th>\n",
       "      <th>1963</th>\n",
       "      <th>1964</th>\n",
       "      <th>1965</th>\n",
       "      <th>...</th>\n",
       "      <th>2010</th>\n",
       "      <th>2011</th>\n",
       "      <th>2012</th>\n",
       "      <th>2013</th>\n",
       "      <th>2014</th>\n",
       "      <th>2015</th>\n",
       "      <th>2016</th>\n",
       "      <th>2017</th>\n",
       "      <th>2018</th>\n",
       "      <th>Unnamed: 63</th>\n",
       "    </tr>\n",
       "  </thead>\n",
       "  <tbody>\n",
       "    <tr>\n",
       "      <td>0</td>\n",
       "      <td>Aruba</td>\n",
       "      <td>ABW</td>\n",
       "      <td>CO2 emissions (metric tons per capita)</td>\n",
       "      <td>EN.ATM.CO2E.PC</td>\n",
       "      <td>NaN</td>\n",
       "      <td>NaN</td>\n",
       "      <td>NaN</td>\n",
       "      <td>NaN</td>\n",
       "      <td>NaN</td>\n",
       "      <td>NaN</td>\n",
       "      <td>...</td>\n",
       "      <td>24.670529</td>\n",
       "      <td>24.505835</td>\n",
       "      <td>13.155542</td>\n",
       "      <td>8.351294</td>\n",
       "      <td>8.408363</td>\n",
       "      <td>NaN</td>\n",
       "      <td>NaN</td>\n",
       "      <td>NaN</td>\n",
       "      <td>NaN</td>\n",
       "      <td>NaN</td>\n",
       "    </tr>\n",
       "    <tr>\n",
       "      <td>1</td>\n",
       "      <td>Afghanistan</td>\n",
       "      <td>AFG</td>\n",
       "      <td>CO2 emissions (metric tons per capita)</td>\n",
       "      <td>EN.ATM.CO2E.PC</td>\n",
       "      <td>0.046060</td>\n",
       "      <td>0.053604</td>\n",
       "      <td>0.073765</td>\n",
       "      <td>0.074233</td>\n",
       "      <td>0.086292</td>\n",
       "      <td>0.101467</td>\n",
       "      <td>...</td>\n",
       "      <td>0.293837</td>\n",
       "      <td>0.412017</td>\n",
       "      <td>0.350371</td>\n",
       "      <td>0.315602</td>\n",
       "      <td>0.299445</td>\n",
       "      <td>NaN</td>\n",
       "      <td>NaN</td>\n",
       "      <td>NaN</td>\n",
       "      <td>NaN</td>\n",
       "      <td>NaN</td>\n",
       "    </tr>\n",
       "    <tr>\n",
       "      <td>2</td>\n",
       "      <td>Angola</td>\n",
       "      <td>AGO</td>\n",
       "      <td>CO2 emissions (metric tons per capita)</td>\n",
       "      <td>EN.ATM.CO2E.PC</td>\n",
       "      <td>0.097472</td>\n",
       "      <td>0.079038</td>\n",
       "      <td>0.201289</td>\n",
       "      <td>0.192535</td>\n",
       "      <td>0.201003</td>\n",
       "      <td>0.191528</td>\n",
       "      <td>...</td>\n",
       "      <td>1.243406</td>\n",
       "      <td>1.252789</td>\n",
       "      <td>1.330843</td>\n",
       "      <td>1.254617</td>\n",
       "      <td>1.291328</td>\n",
       "      <td>NaN</td>\n",
       "      <td>NaN</td>\n",
       "      <td>NaN</td>\n",
       "      <td>NaN</td>\n",
       "      <td>NaN</td>\n",
       "    </tr>\n",
       "    <tr>\n",
       "      <td>3</td>\n",
       "      <td>Albania</td>\n",
       "      <td>ALB</td>\n",
       "      <td>CO2 emissions (metric tons per capita)</td>\n",
       "      <td>EN.ATM.CO2E.PC</td>\n",
       "      <td>1.258195</td>\n",
       "      <td>1.374186</td>\n",
       "      <td>1.439956</td>\n",
       "      <td>1.181681</td>\n",
       "      <td>1.111742</td>\n",
       "      <td>1.166099</td>\n",
       "      <td>...</td>\n",
       "      <td>1.578574</td>\n",
       "      <td>1.803715</td>\n",
       "      <td>1.692908</td>\n",
       "      <td>1.749211</td>\n",
       "      <td>1.978763</td>\n",
       "      <td>NaN</td>\n",
       "      <td>NaN</td>\n",
       "      <td>NaN</td>\n",
       "      <td>NaN</td>\n",
       "      <td>NaN</td>\n",
       "    </tr>\n",
       "    <tr>\n",
       "      <td>4</td>\n",
       "      <td>Andorra</td>\n",
       "      <td>AND</td>\n",
       "      <td>CO2 emissions (metric tons per capita)</td>\n",
       "      <td>EN.ATM.CO2E.PC</td>\n",
       "      <td>NaN</td>\n",
       "      <td>NaN</td>\n",
       "      <td>NaN</td>\n",
       "      <td>NaN</td>\n",
       "      <td>NaN</td>\n",
       "      <td>NaN</td>\n",
       "      <td>...</td>\n",
       "      <td>6.122595</td>\n",
       "      <td>5.867130</td>\n",
       "      <td>5.916597</td>\n",
       "      <td>5.900753</td>\n",
       "      <td>5.832170</td>\n",
       "      <td>NaN</td>\n",
       "      <td>NaN</td>\n",
       "      <td>NaN</td>\n",
       "      <td>NaN</td>\n",
       "      <td>NaN</td>\n",
       "    </tr>\n",
       "  </tbody>\n",
       "</table>\n",
       "<p>5 rows × 64 columns</p>\n",
       "</div>"
      ],
      "text/plain": [
       "  Country Name Country Code                          Indicator Name  \\\n",
       "0        Aruba          ABW  CO2 emissions (metric tons per capita)   \n",
       "1  Afghanistan          AFG  CO2 emissions (metric tons per capita)   \n",
       "2       Angola          AGO  CO2 emissions (metric tons per capita)   \n",
       "3      Albania          ALB  CO2 emissions (metric tons per capita)   \n",
       "4      Andorra          AND  CO2 emissions (metric tons per capita)   \n",
       "\n",
       "   Indicator Code      1960      1961      1962      1963      1964      1965  \\\n",
       "0  EN.ATM.CO2E.PC       NaN       NaN       NaN       NaN       NaN       NaN   \n",
       "1  EN.ATM.CO2E.PC  0.046060  0.053604  0.073765  0.074233  0.086292  0.101467   \n",
       "2  EN.ATM.CO2E.PC  0.097472  0.079038  0.201289  0.192535  0.201003  0.191528   \n",
       "3  EN.ATM.CO2E.PC  1.258195  1.374186  1.439956  1.181681  1.111742  1.166099   \n",
       "4  EN.ATM.CO2E.PC       NaN       NaN       NaN       NaN       NaN       NaN   \n",
       "\n",
       "   ...       2010       2011       2012      2013      2014  2015  2016  2017  \\\n",
       "0  ...  24.670529  24.505835  13.155542  8.351294  8.408363   NaN   NaN   NaN   \n",
       "1  ...   0.293837   0.412017   0.350371  0.315602  0.299445   NaN   NaN   NaN   \n",
       "2  ...   1.243406   1.252789   1.330843  1.254617  1.291328   NaN   NaN   NaN   \n",
       "3  ...   1.578574   1.803715   1.692908  1.749211  1.978763   NaN   NaN   NaN   \n",
       "4  ...   6.122595   5.867130   5.916597  5.900753  5.832170   NaN   NaN   NaN   \n",
       "\n",
       "   2018  Unnamed: 63  \n",
       "0   NaN          NaN  \n",
       "1   NaN          NaN  \n",
       "2   NaN          NaN  \n",
       "3   NaN          NaN  \n",
       "4   NaN          NaN  \n",
       "\n",
       "[5 rows x 64 columns]"
      ]
     },
     "execution_count": 5,
     "metadata": {},
     "output_type": "execute_result"
    }
   ],
   "source": [
    "raw_e.head()"
   ]
  },
  {
   "cell_type": "markdown",
   "metadata": {},
   "source": [
    "\n",
    "# Wrangling Time Series Data"
   ]
  },
  {
   "cell_type": "markdown",
   "metadata": {},
   "source": [
    "# Wrangling Temperature"
   ]
  },
  {
   "cell_type": "code",
   "execution_count": null,
   "metadata": {
    "codeCollapsed": false
   },
   "outputs": [],
   "source": [
    "# Create new dataframe with an index for each month\n",
    "# First create the date range\n",
    "date_rng = pd.date_range(start='1/1/1880', end='1/03/2019', freq='M')\n",
    "\n",
    "type(date_rng[0])\n",
    "### returns \n",
    "### pandas._libs.tslibs.timestamps.Timestamp\n",
    "\n",
    "# Next create the empty DataFrame, which we will populate using the actual data\n",
    "t = pd.DataFrame(date_rng, columns=['date'])\n",
    "\n",
    "# Create a column for the anomoly values\n",
    "t['Avg_Anomaly_deg_C'] = None\n",
    "\n",
    "# Set the index of the DataFrame to the date column (DateTime index)\n",
    "t.set_index('date', inplace=True)\n",
    "\n",
    "# Show the first few elements\n",
    "t.head()"
   ]
  },
  {
   "cell_type": "code",
   "execution_count": null,
   "metadata": {
    "codeCollapsed": false
   },
   "outputs": [],
   "source": [
    "# We only want the monthly data, lets only select that and leave out the seasonal columns \n",
    "raw_t = raw_t.iloc[:,:13]\n",
    "raw_t.head()"
   ]
  },
  {
   "cell_type": "code",
   "execution_count": null,
   "metadata": {
    "codeCollapsed": true
   },
   "outputs": [],
   "source": [
    "# Import relevant libraries\n",
    "import calendar\n",
    "from datetime import datetime\n",
    "\n",
    "# Function definition\n",
    "def populate_df_with_anomolies_from_row(row):\n",
    "    year = row['Year']\n",
    "    # Anomaly values (they seem to be a mixture of strings and floats)\n",
    "    monthly_anomolies = row.iloc[1:]\n",
    "    # Abbreviated month names (index names)\n",
    "    months = monthly_anomolies.index\n",
    "    for month in monthly_anomolies.index:\n",
    "        # Get the last day for each month \n",
    "        last_day = calendar.monthrange(year,datetime.strptime(month, '%b').month)[1]\n",
    "        # construct the index with which we can reference our new DataFrame (to populate) \n",
    "       \n",
    "        date_index = datetime.strptime(\"{} {} {}\".format(year, month, last_day), '%Y %b %d')\n",
    "        # Populate / set value @ above index, to anomaly value\n",
    "        t.loc[date_index] = monthly_anomolies[month]\n",
    "\n",
    "# Apply function to each row of raw data \n",
    "_ = raw_t.apply(lambda row: populate_df_with_anomolies_from_row(row), axis=1)\n",
    "\n",
    "# Show the first few elements of our newly populated DataFrame\n",
    "t.head()"
   ]
  },
  {
   "cell_type": "code",
   "execution_count": null,
   "metadata": {
    "codeCollapsed": true
   },
   "outputs": [],
   "source": [
    "# Import Numpy, as library meant for large arrays - we will use it that we \n",
    "import numpy as np\n",
    "\n",
    "# Define function to convert values to floats, and return a 'NaN = Not a Number' if this is not possible\n",
    "def clean_anomaly_value(raw_value):\n",
    "    try:\n",
    "        return float(raw_value)\n",
    "    except:\n",
    "        return np.NaN\n",
    "    \n",
    "# Apply above function to all anomaly values in DataFrame\n",
    "t['Avg_Anomaly_deg_C'] = t['Avg_Anomaly_deg_C'].apply(lambda raw_value: clean_anomaly_value(raw_value))\n",
    "\n",
    "# 'Forward fill' to take care of NaN values\n",
    "t.fillna(method='ffill', inplace=True)\n",
    "\n",
    "# Show the first few elements of our newly cleaned DataFrame\n",
    "t.head()"
   ]
  },
  {
   "cell_type": "code",
   "execution_count": null,
   "metadata": {
    "codeCollapsed": true
   },
   "outputs": [],
   "source": [
    "# Plot the data - quick and easy - using matplotlib, we will draw prettier graphs later\n",
    "\n",
    "# Import Matplotlib\n",
    "import matplotlib.pyplot as plt\n",
    "# Allow for rendering within notebook\n",
    "%matplotlib inline\n",
    "\n",
    "# Create figure, title and plot data\n",
    "plt.figure(figsize=(10,8))\n",
    "plt.xlabel('Time')\n",
    "plt.ylabel('Temperature Anomaly (°Celsius)')\n",
    "plt.plot(t, color='#1C7C54', linewidth=1.0)"
   ]
  },
  {
   "cell_type": "markdown",
   "metadata": {},
   "source": [
    "# Wrangling Emisiones C02"
   ]
  },
  {
   "cell_type": "markdown",
   "metadata": {},
   "source": [
    "## =========================================================================================\n",
    "## ===================================== GLOBAL ============================================"
   ]
  },
  {
   "cell_type": "markdown",
   "metadata": {},
   "source": [
    "### Emisiones C02 Global entre los años 1960-2018 "
   ]
  },
  {
   "cell_type": "code",
   "execution_count": null,
   "metadata": {
    "codeCollapsed": true
   },
   "outputs": [],
   "source": [
    "# Define function to pull value from raw data, using DateIndex from new DataFrame row\n",
    "def populate_df(row):\n",
    "    index = str(row['date'].year)\n",
    "    value = raw_e_world.loc[index]\n",
    "    return value\n",
    "  \n",
    "# Select just the co2 emissions for the 'world', and the columns for the years 1960-2018 \n",
    "raw_e_world = raw_e[raw_e['Country Name']=='World'].loc[:,'1960':'2018']\n",
    "\n",
    "# 'Traspose' the resulting slice, making the columns become rows and vice versa\n",
    "raw_e_world = raw_e_world.T\n",
    "raw_e_world.columns = ['value']\n",
    "\n",
    "# Create a new DataFrame with a daterange the same the range for.. \n",
    "# the Temperature data (after resampling to years)\n",
    "date_rng = pd.date_range(start='31/12/1960', end='31/12/2018', freq='y')\n",
    "e = pd.DataFrame(date_rng, columns=['date'])\n",
    "\n",
    "# Populate the new DataFrame using the values from the raw data slice\n",
    "v = e.apply(lambda row: populate_df(row), axis=1)\n",
    "e['Global CO2 Emissions per Capita'] = v\n",
    "e.set_index('date', inplace=True)\n",
    "e.head()"
   ]
  },
  {
   "cell_type": "markdown",
   "metadata": {},
   "source": [
    "### Emisiones C02 Global después del año 2011"
   ]
  },
  {
   "cell_type": "code",
   "execution_count": null,
   "metadata": {
    "codeCollapsed": true
   },
   "outputs": [],
   "source": [
    "# Illustrate how the above DataFrame can be filtered for values after 2011\n",
    "e[e.index.year>2011]"
   ]
  },
  {
   "cell_type": "markdown",
   "metadata": {},
   "source": [
    "### Emisiones C02 Global entre los años 1984 - 1989"
   ]
  },
  {
   "cell_type": "code",
   "execution_count": null,
   "metadata": {
    "codeCollapsed": true
   },
   "outputs": [],
   "source": [
    "# Deal with the NaNs by 'forward filling'\n",
    "e.fillna(method='ffill', inplace=True)\n",
    "e['1984-01-04':'1990-01-06']"
   ]
  },
  {
   "cell_type": "markdown",
   "metadata": {},
   "source": [
    "## =========================================================================================\n",
    "## ===================================== CHILE ============================================"
   ]
  },
  {
   "cell_type": "markdown",
   "metadata": {},
   "source": [
    "### Emisiones C02 en Chile entre los años 1960-2018\n"
   ]
  },
  {
   "cell_type": "code",
   "execution_count": null,
   "metadata": {
    "codeCollapsed": true
   },
   "outputs": [],
   "source": [
    "# Define function to pull value from raw data, using DateIndex from new DataFrame row\n",
    "def populate_df(row):\n",
    "    index = str(row['date'].year)\n",
    "    value = raw_e_chile.loc[index]\n",
    "    return value\n",
    "  \n",
    "# Select just the co2 emissions for the 'world', and the columns for the years 1960-2018 \n",
    "raw_e_chile = raw_e[raw_e['Country Name']=='Chile'].loc[:,'1960':'2018']\n",
    "\n",
    "# 'Traspose' the resulting slice, making the columns become rows and vice versa\n",
    "raw_e_chile = raw_e_chile.T\n",
    "raw_e_chile.columns = ['value']\n",
    "\n",
    "# Create a new DataFrame with a daterange the same the range for.. \n",
    "# the Temperature data (after resampling to years)\n",
    "date_rng = pd.date_range(start='31/12/1960', end='31/12/2018', freq='y')\n",
    "e = pd.DataFrame(date_rng, columns=['date'])\n",
    "\n",
    "# Populate the new DataFrame using the values from the raw data slice\n",
    "v = e.apply(lambda row: populate_df(row), axis=1)\n",
    "e['Chile CO2 Emissions per Capita'] = v\n",
    "e.set_index('date', inplace=True)\n",
    "e.head()"
   ]
  },
  {
   "cell_type": "markdown",
   "metadata": {},
   "source": [
    "# Visualizing Time Series Data"
   ]
  },
  {
   "cell_type": "markdown",
   "metadata": {},
   "source": [
    "## Plotting Temperature with Plotly"
   ]
  },
  {
   "cell_type": "code",
   "execution_count": null,
   "metadata": {
    "codeCollapsed": true,
    "hiddenCell": true
   },
   "outputs": [],
   "source": [
    "# Standard plotly imports\n",
    "import plotly.plotly as py\n",
    "import plotly.graph_objs as go\n",
    "from plotly.offline import iplot, init_notebook_mode\n",
    "# Using plotly + cufflinks in offline mode\n",
    "import cufflinks\n",
    "cufflinks.go_offline(connected=True)\n",
    "init_notebook_mode(connected=True)"
   ]
  },
  {
   "cell_type": "code",
   "execution_count": null,
   "metadata": {
    "codeCollapsed": true
   },
   "outputs": [],
   "source": [
    "t.resample('A').mean().iplot(kind='line', xTitle='Time (years)', color='#1C7C54',\n",
    "                  yTitle='Temperature Anomaly (deg. Celsius)', title='Global Temperature Anomalies')"
   ]
  },
  {
   "cell_type": "markdown",
   "metadata": {},
   "source": [
    "## Plotting Emissions with Plotly"
   ]
  },
  {
   "cell_type": "code",
   "execution_count": null,
   "metadata": {
    "codeCollapsed": true
   },
   "outputs": [],
   "source": [
    "e.iplot(kind='line', xTitle='Time (years)', color='#3393FF',\n",
    "                  yTitle='Emissions (Metric Tons per Capita)', title='Global CO2 Emission over Time')"
   ]
  },
  {
   "cell_type": "markdown",
   "metadata": {},
   "source": [
    "# Time Series Modelling and Forecasting"
   ]
  },
  {
   "cell_type": "markdown",
   "metadata": {},
   "source": [
    "## Facebook Prophet"
   ]
  },
  {
   "cell_type": "code",
   "execution_count": null,
   "metadata": {
    "codeCollapsed": true,
    "hiddenCell": true
   },
   "outputs": [],
   "source": [
    "t_prophet = pd.DataFrame()\n",
    "t_prophet['ds'] = t.index\n",
    "t_prophet['y'] = t['Avg_Anomaly_deg_C'].values\n",
    "m = Prophet()\n",
    "m.fit(t_prophet)"
   ]
  },
  {
   "cell_type": "code",
   "execution_count": null,
   "metadata": {
    "codeCollapsed": true
   },
   "outputs": [],
   "source": [
    "# Make future dataframes\n",
    "future = m.make_future_dataframe(freq='m', periods=100*12)\n",
    "forecast = m.predict(future)\n",
    "m.plot(forecast);"
   ]
  },
  {
   "cell_type": "code",
   "execution_count": null,
   "metadata": {
    "codeCollapsed": true
   },
   "outputs": [],
   "source": [
    "m.plot_components(forecast);"
   ]
  },
  {
   "cell_type": "markdown",
   "metadata": {},
   "source": [
    "# THE END"
   ]
  },
  {
   "cell_type": "code",
   "execution_count": null,
   "metadata": {},
   "outputs": [],
   "source": []
  }
 ],
 "metadata": {
  "kernelspec": {
   "display_name": "Python 3",
   "language": "python",
   "name": "python3"
  },
  "language_info": {
   "codemirror_mode": {
    "name": "ipython",
    "version": 3
   },
   "file_extension": ".py",
   "mimetype": "text/x-python",
   "name": "python",
   "nbconvert_exporter": "python",
   "pygments_lexer": "ipython3",
   "version": "3.5.6"
  }
 },
 "nbformat": 4,
 "nbformat_minor": 2
}
